{
 "cells": [
  {
   "cell_type": "code",
   "execution_count": 32,
   "metadata": {},
   "outputs": [
    {
     "name": "stdout",
     "output_type": "stream",
     "text": [
      "DatasetDict({\n",
      "    test: Dataset({\n",
      "        features: ['text'],\n",
      "        num_rows: 4358\n",
      "    })\n",
      "    train: Dataset({\n",
      "        features: ['text'],\n",
      "        num_rows: 36718\n",
      "    })\n",
      "    validation: Dataset({\n",
      "        features: ['text'],\n",
      "        num_rows: 3760\n",
      "    })\n",
      "})\n"
     ]
    }
   ],
   "source": [
    "from datasets import load_dataset\n",
    "\n",
    "# Load WikiText-2 (or use 'wikitext', 'wikitext-103-raw-v1', etc.)\n",
    "dataset = load_dataset(\"wikitext\", \"wikitext-2-raw-v1\")\n",
    "\n",
    "# Check available splits\n",
    "print(dataset)\n"
   ]
  },
  {
   "cell_type": "code",
   "execution_count": 34,
   "metadata": {},
   "outputs": [
    {
     "name": "stdout",
     "output_type": "stream",
     "text": [
      "✅ WikiText saved as 'wikitext_train.txt1' for fine-tuning.\n"
     ]
    }
   ],
   "source": [
    "# Save to a .txt file for training with transformers\n",
    "with open(\"wikitext_train.txt1\", \"w\", encoding=\"utf-8\") as f:\n",
    "    f.write(full_text)\n",
    "\n",
    "print(\"✅ WikiText saved as 'wikitext_train.txt1' for fine-tuning.\")"
   ]
  },
  {
   "cell_type": "code",
   "execution_count": 35,
   "metadata": {},
   "outputs": [],
   "source": [
    "from datasets import load_dataset\n",
    "from transformers import AutoTokenizer\n",
    "\n",
    "# Load dataset from your saved file\n",
    "dataset = load_dataset(\"text\", data_files={\"train\": \"wikitext_train.txt\"})\n",
    "\n",
    "# Load GPT-2 tokenizer\n",
    "tokenizer = AutoTokenizer.from_pretrained(\"gpt2\")\n",
    "\n",
    "# GPT-2 doesn't have pad token by default\n",
    "tokenizer.pad_token = tokenizer.eos_token\n",
    "\n",
    "# Tokenize in chunks for efficient training\n",
    "def tokenize_function(examples):\n",
    "    return tokenizer(examples[\"text\"], return_special_tokens_mask=True)\n",
    "\n",
    "tokenized_datasets = dataset.map(tokenize_function, batched=True, remove_columns=[\"text\"])\n"
   ]
  },
  {
   "cell_type": "code",
   "execution_count": 36,
   "metadata": {},
   "outputs": [],
   "source": [
    "block_size = 128  # You can increase this if GPU allows\n",
    "\n",
    "def group_texts(examples):\n",
    "    # Concatenate input_ids and attention_mask separately\n",
    "    concatenated_input_ids = sum(examples[\"input_ids\"], [])\n",
    "    concatenated_attention_mask = sum(examples[\"attention_mask\"], [])\n",
    "\n",
    "    total_length = (len(concatenated_input_ids) // block_size) * block_size\n",
    "\n",
    "    result = {\n",
    "        \"input_ids\": [concatenated_input_ids[i:i + block_size] for i in range(0, total_length, block_size)],\n",
    "        \"attention_mask\": [concatenated_attention_mask[i:i + block_size] for i in range(0, total_length, block_size)],\n",
    "    }\n",
    "    result[\"labels\"] = result[\"input_ids\"].copy()\n",
    "    return result"
   ]
  },
  {
   "cell_type": "code",
   "execution_count": 37,
   "metadata": {},
   "outputs": [],
   "source": [
    "tokenized_datasets = tokenized_datasets.remove_columns(['special_tokens_mask'])"
   ]
  },
  {
   "cell_type": "code",
   "execution_count": 38,
   "metadata": {},
   "outputs": [],
   "source": [
    "lm_datasets = tokenized_datasets.map(group_texts, batched=True)"
   ]
  },
  {
   "cell_type": "code",
   "execution_count": 39,
   "metadata": {},
   "outputs": [],
   "source": [
    "from transformers import (\n",
    "    DataCollatorForLanguageModeling,\n",
    "    Trainer,\n",
    "    TrainingArguments,\n",
    "    EarlyStoppingCallback,\n",
    ")\n",
    "\n",
    "# Data collator for causal language modeling (CLM)\n",
    "data_collator = DataCollatorForLanguageModeling(\n",
    "    tokenizer=tokenizer,\n",
    "    mlm=False  # Causal LM like GPT-2 does NOT use masked LM\n",
    ")\n",
    "from transformers import TrainingArguments\n",
    "\n",
    "training_args = TrainingArguments(\n",
    "    output_dir=\"./gpt2-wikitext\",\n",
    "    save_strategy=\"epoch\",         # Save a checkpoint at the end of every epoch\n",
    "    evaluation_strategy=\"epoch\",   # Evaluate at the end of every epoch\n",
    "    save_total_limit=3,            # Keep only last 3 checkpoints to save space\n",
    "    logging_dir=\"./gpt2-wikitext/runs\",\n",
    "    logging_steps=100,\n",
    "    per_device_train_batch_size=4,\n",
    "    num_train_epochs=10,\n",
    "    learning_rate=5e-5,\n",
    "    weight_decay=0.01,\n",
    "    load_best_model_at_end=True,   # Optional: load best checkpoint at end\n",
    "    metric_for_best_model=\"eval_loss\",  # If using above\n",
    ")\n",
    "\n"
   ]
  },
  {
   "cell_type": "code",
   "execution_count": 40,
   "metadata": {},
   "outputs": [],
   "source": [
    "from datasets import DatasetDict\n",
    "\n",
    "# Split 90% train, 10% validation\n",
    "split_datasets = lm_datasets[\"train\"].train_test_split(test_size=0.1, seed=42)\n",
    "\n",
    "# Create a new DatasetDict\n",
    "lm_datasets = DatasetDict({\n",
    "    \"train\": split_datasets[\"train\"],\n",
    "    \"validation\": split_datasets[\"test\"]\n",
    "})\n"
   ]
  },
  {
   "cell_type": "code",
   "execution_count": 41,
   "metadata": {},
   "outputs": [
    {
     "name": "stderr",
     "output_type": "stream",
     "text": [
      "/home/dharun/Desktop/wikitext/lib/python3.12/site-packages/huggingface_hub/file_download.py:943: FutureWarning: `resume_download` is deprecated and will be removed in version 1.0.0. Downloads always resume when possible. If you want to force a new download, use `force_download=True`.\n",
      "  warnings.warn(\n"
     ]
    },
    {
     "data": {
      "application/vnd.jupyter.widget-view+json": {
       "model_id": "f7d320b817b64db2871113d19ef29891",
       "version_major": 2,
       "version_minor": 0
      },
      "text/plain": [
       "  0%|          | 0/41230 [00:00<?, ?it/s]"
      ]
     },
     "metadata": {},
     "output_type": "display_data"
    },
    {
     "name": "stdout",
     "output_type": "stream",
     "text": [
      "{'loss': 3.9825, 'grad_norm': 8.582462310791016, 'learning_rate': 4.988236720834344e-05, 'epoch': 0.02}\n",
      "{'loss': 3.8027, 'grad_norm': 7.362393379211426, 'learning_rate': 4.976109628910988e-05, 'epoch': 0.05}\n",
      "{'loss': 3.7593, 'grad_norm': 5.146574974060059, 'learning_rate': 4.963982536987631e-05, 'epoch': 0.07}\n",
      "{'loss': 3.7591, 'grad_norm': 4.38360071182251, 'learning_rate': 4.951855445064274e-05, 'epoch': 0.1}\n",
      "{'loss': 3.7176, 'grad_norm': 3.6441469192504883, 'learning_rate': 4.9397283531409175e-05, 'epoch': 0.12}\n",
      "{'loss': 3.7069, 'grad_norm': 4.22341251373291, 'learning_rate': 4.927601261217561e-05, 'epoch': 0.15}\n",
      "{'loss': 3.6621, 'grad_norm': 3.9211137294769287, 'learning_rate': 4.915474169294203e-05, 'epoch': 0.17}\n",
      "{'loss': 3.6275, 'grad_norm': 3.685277223587036, 'learning_rate': 4.9033470773708465e-05, 'epoch': 0.19}\n",
      "{'loss': 3.6197, 'grad_norm': 3.665036201477051, 'learning_rate': 4.89121998544749e-05, 'epoch': 0.22}\n",
      "{'loss': 3.6384, 'grad_norm': 3.3806347846984863, 'learning_rate': 4.879092893524133e-05, 'epoch': 0.24}\n",
      "{'loss': 3.6081, 'grad_norm': 3.492658853530884, 'learning_rate': 4.866965801600776e-05, 'epoch': 0.27}\n",
      "{'loss': 3.5899, 'grad_norm': 3.6625704765319824, 'learning_rate': 4.8548387096774194e-05, 'epoch': 0.29}\n",
      "{'loss': 3.6, 'grad_norm': 3.172513008117676, 'learning_rate': 4.8427116177540626e-05, 'epoch': 0.32}\n",
      "{'loss': 3.5928, 'grad_norm': 3.086336374282837, 'learning_rate': 4.830584525830706e-05, 'epoch': 0.34}\n",
      "{'loss': 3.5919, 'grad_norm': 3.3279640674591064, 'learning_rate': 4.818457433907349e-05, 'epoch': 0.36}\n",
      "{'loss': 3.5461, 'grad_norm': 3.1243021488189697, 'learning_rate': 4.806330341983992e-05, 'epoch': 0.39}\n",
      "{'loss': 3.5245, 'grad_norm': 3.5154919624328613, 'learning_rate': 4.7942032500606355e-05, 'epoch': 0.41}\n",
      "{'loss': 3.5823, 'grad_norm': 3.2493598461151123, 'learning_rate': 4.7820761581372794e-05, 'epoch': 0.44}\n",
      "{'loss': 3.5897, 'grad_norm': 3.1024649143218994, 'learning_rate': 4.769949066213923e-05, 'epoch': 0.46}\n",
      "{'loss': 3.5211, 'grad_norm': 2.9875619411468506, 'learning_rate': 4.757821974290565e-05, 'epoch': 0.49}\n",
      "{'loss': 3.5388, 'grad_norm': 3.502056360244751, 'learning_rate': 4.7456948823672084e-05, 'epoch': 0.51}\n",
      "{'loss': 3.5044, 'grad_norm': 2.9914608001708984, 'learning_rate': 4.733567790443852e-05, 'epoch': 0.53}\n",
      "{'loss': 3.5674, 'grad_norm': 2.845601797103882, 'learning_rate': 4.721440698520495e-05, 'epoch': 0.56}\n",
      "{'loss': 3.58, 'grad_norm': 3.3319132328033447, 'learning_rate': 4.709313606597138e-05, 'epoch': 0.58}\n",
      "{'loss': 3.5379, 'grad_norm': 2.997952938079834, 'learning_rate': 4.6971865146737814e-05, 'epoch': 0.61}\n",
      "{'loss': 3.5319, 'grad_norm': 2.7900097370147705, 'learning_rate': 4.6850594227504246e-05, 'epoch': 0.63}\n",
      "{'loss': 3.5383, 'grad_norm': 3.043043851852417, 'learning_rate': 4.672932330827068e-05, 'epoch': 0.65}\n",
      "{'loss': 3.5068, 'grad_norm': 3.1755266189575195, 'learning_rate': 4.660805238903711e-05, 'epoch': 0.68}\n",
      "{'loss': 3.4872, 'grad_norm': 2.8555750846862793, 'learning_rate': 4.648678146980354e-05, 'epoch': 0.7}\n",
      "{'loss': 3.5393, 'grad_norm': 2.797722578048706, 'learning_rate': 4.6365510550569975e-05, 'epoch': 0.73}\n",
      "{'loss': 3.483, 'grad_norm': 2.8706612586975098, 'learning_rate': 4.624423963133641e-05, 'epoch': 0.75}\n",
      "{'loss': 3.5097, 'grad_norm': 2.9864232540130615, 'learning_rate': 4.612296871210284e-05, 'epoch': 0.78}\n",
      "{'loss': 3.478, 'grad_norm': 2.8879265785217285, 'learning_rate': 4.600169779286927e-05, 'epoch': 0.8}\n",
      "{'loss': 3.4995, 'grad_norm': 2.9076671600341797, 'learning_rate': 4.5880426873635704e-05, 'epoch': 0.82}\n",
      "{'loss': 3.4912, 'grad_norm': 2.8816049098968506, 'learning_rate': 4.5759155954402136e-05, 'epoch': 0.85}\n",
      "{'loss': 3.4845, 'grad_norm': 2.9366366863250732, 'learning_rate': 4.563788503516857e-05, 'epoch': 0.87}\n",
      "{'loss': 3.4679, 'grad_norm': 3.143718957901001, 'learning_rate': 4.5516614115935e-05, 'epoch': 0.9}\n",
      "{'loss': 3.4988, 'grad_norm': 3.0363333225250244, 'learning_rate': 4.539534319670143e-05, 'epoch': 0.92}\n",
      "{'loss': 3.4716, 'grad_norm': 3.079709768295288, 'learning_rate': 4.5274072277467865e-05, 'epoch': 0.95}\n",
      "{'loss': 3.4724, 'grad_norm': 3.057690382003784, 'learning_rate': 4.51528013582343e-05, 'epoch': 0.97}\n",
      "{'loss': 3.4638, 'grad_norm': 2.9858007431030273, 'learning_rate': 4.503153043900073e-05, 'epoch': 0.99}\n"
     ]
    },
    {
     "data": {
      "application/vnd.jupyter.widget-view+json": {
       "model_id": "3b0fe7cac05641b38add4615a2ca1fcb",
       "version_major": 2,
       "version_minor": 0
      },
      "text/plain": [
       "  0%|          | 0/230 [00:00<?, ?it/s]"
      ]
     },
     "metadata": {},
     "output_type": "display_data"
    },
    {
     "name": "stdout",
     "output_type": "stream",
     "text": [
      "{'eval_loss': 3.3891992568969727, 'eval_runtime': 5.6829, 'eval_samples_per_second': 322.546, 'eval_steps_per_second': 40.472, 'epoch': 1.0}\n",
      "{'loss': 3.2996, 'grad_norm': 2.9380970001220703, 'learning_rate': 4.491025951976716e-05, 'epoch': 1.02}\n",
      "{'loss': 3.2132, 'grad_norm': 2.922483444213867, 'learning_rate': 4.4788988600533595e-05, 'epoch': 1.04}\n",
      "{'loss': 3.234, 'grad_norm': 3.0767643451690674, 'learning_rate': 4.466771768130003e-05, 'epoch': 1.07}\n",
      "{'loss': 3.2657, 'grad_norm': 3.6621267795562744, 'learning_rate': 4.454644676206646e-05, 'epoch': 1.09}\n",
      "{'loss': 3.2458, 'grad_norm': 3.0786728858947754, 'learning_rate': 4.442517584283289e-05, 'epoch': 1.12}\n",
      "{'loss': 3.2603, 'grad_norm': 3.0233826637268066, 'learning_rate': 4.4303904923599324e-05, 'epoch': 1.14}\n",
      "{'loss': 3.2522, 'grad_norm': 3.3117237091064453, 'learning_rate': 4.4182634004365756e-05, 'epoch': 1.16}\n",
      "{'loss': 3.2427, 'grad_norm': 3.97981858253479, 'learning_rate': 4.406136308513219e-05, 'epoch': 1.19}\n",
      "{'loss': 3.2476, 'grad_norm': 3.2921974658966064, 'learning_rate': 4.394009216589862e-05, 'epoch': 1.21}\n",
      "{'loss': 3.2863, 'grad_norm': 3.033454656600952, 'learning_rate': 4.381882124666505e-05, 'epoch': 1.24}\n",
      "{'loss': 3.2621, 'grad_norm': 2.919895648956299, 'learning_rate': 4.3697550327431485e-05, 'epoch': 1.26}\n",
      "{'loss': 3.2628, 'grad_norm': 2.9514312744140625, 'learning_rate': 4.357627940819792e-05, 'epoch': 1.29}\n",
      "{'loss': 3.2299, 'grad_norm': 2.887523651123047, 'learning_rate': 4.345500848896435e-05, 'epoch': 1.31}\n",
      "{'loss': 3.2629, 'grad_norm': 2.855262041091919, 'learning_rate': 4.333373756973078e-05, 'epoch': 1.33}\n",
      "{'loss': 3.2228, 'grad_norm': 3.4174115657806396, 'learning_rate': 4.3212466650497214e-05, 'epoch': 1.36}\n",
      "{'loss': 3.2507, 'grad_norm': 3.002894639968872, 'learning_rate': 4.3091195731263647e-05, 'epoch': 1.38}\n",
      "{'loss': 3.2123, 'grad_norm': 3.0243606567382812, 'learning_rate': 4.296992481203008e-05, 'epoch': 1.41}\n",
      "{'loss': 3.209, 'grad_norm': 3.4383316040039062, 'learning_rate': 4.284865389279651e-05, 'epoch': 1.43}\n",
      "{'loss': 3.2336, 'grad_norm': 3.076420783996582, 'learning_rate': 4.272738297356294e-05, 'epoch': 1.46}\n",
      "{'loss': 3.2618, 'grad_norm': 2.953458309173584, 'learning_rate': 4.260732476352171e-05, 'epoch': 1.48}\n",
      "{'loss': 3.2254, 'grad_norm': 2.7702882289886475, 'learning_rate': 4.2486053844288145e-05, 'epoch': 1.5}\n",
      "{'loss': 3.199, 'grad_norm': 3.075953722000122, 'learning_rate': 4.236478292505458e-05, 'epoch': 1.53}\n",
      "{'loss': 3.3014, 'grad_norm': 2.737457752227783, 'learning_rate': 4.224351200582101e-05, 'epoch': 1.55}\n",
      "{'loss': 3.2531, 'grad_norm': 3.0527703762054443, 'learning_rate': 4.212224108658744e-05, 'epoch': 1.58}\n",
      "{'loss': 3.288, 'grad_norm': 2.8910040855407715, 'learning_rate': 4.200097016735387e-05, 'epoch': 1.6}\n",
      "{'loss': 3.2446, 'grad_norm': 2.852705955505371, 'learning_rate': 4.18796992481203e-05, 'epoch': 1.63}\n",
      "{'loss': 3.2078, 'grad_norm': 3.009897232055664, 'learning_rate': 4.175842832888673e-05, 'epoch': 1.65}\n",
      "{'loss': 3.2471, 'grad_norm': 3.045065402984619, 'learning_rate': 4.1637157409653164e-05, 'epoch': 1.67}\n",
      "{'loss': 3.2242, 'grad_norm': 2.7209606170654297, 'learning_rate': 4.1515886490419596e-05, 'epoch': 1.7}\n",
      "{'loss': 3.2253, 'grad_norm': 3.025770425796509, 'learning_rate': 4.139461557118603e-05, 'epoch': 1.72}\n",
      "{'loss': 3.2574, 'grad_norm': 2.92317533493042, 'learning_rate': 4.127334465195246e-05, 'epoch': 1.75}\n",
      "{'loss': 3.1936, 'grad_norm': 3.2172493934631348, 'learning_rate': 4.115207373271889e-05, 'epoch': 1.77}\n",
      "{'loss': 3.2786, 'grad_norm': 3.2199084758758545, 'learning_rate': 4.103080281348533e-05, 'epoch': 1.79}\n",
      "{'loss': 3.27, 'grad_norm': 3.1566050052642822, 'learning_rate': 4.0909531894251765e-05, 'epoch': 1.82}\n",
      "{'loss': 3.262, 'grad_norm': 3.0177345275878906, 'learning_rate': 4.07882609750182e-05, 'epoch': 1.84}\n",
      "{'loss': 3.2051, 'grad_norm': 3.1377038955688477, 'learning_rate': 4.066699005578463e-05, 'epoch': 1.87}\n",
      "{'loss': 3.2412, 'grad_norm': 2.8333699703216553, 'learning_rate': 4.054571913655106e-05, 'epoch': 1.89}\n",
      "{'loss': 3.2932, 'grad_norm': 2.649524688720703, 'learning_rate': 4.042444821731749e-05, 'epoch': 1.92}\n",
      "{'loss': 3.2324, 'grad_norm': 2.87304425239563, 'learning_rate': 4.030317729808392e-05, 'epoch': 1.94}\n",
      "{'loss': 3.2092, 'grad_norm': inf, 'learning_rate': 4.018311908804269e-05, 'epoch': 1.96}\n",
      "{'loss': 3.2255, 'grad_norm': 2.888232707977295, 'learning_rate': 4.006306087800146e-05, 'epoch': 1.99}\n"
     ]
    },
    {
     "data": {
      "application/vnd.jupyter.widget-view+json": {
       "model_id": "1f4bae3433d7497cb1a574014b11ef23",
       "version_major": 2,
       "version_minor": 0
      },
      "text/plain": [
       "  0%|          | 0/230 [00:00<?, ?it/s]"
      ]
     },
     "metadata": {},
     "output_type": "display_data"
    },
    {
     "name": "stdout",
     "output_type": "stream",
     "text": [
      "{'eval_loss': 3.341003894805908, 'eval_runtime': 5.7234, 'eval_samples_per_second': 320.264, 'eval_steps_per_second': 40.186, 'epoch': 2.0}\n",
      "{'loss': 3.1217, 'grad_norm': 2.984219551086426, 'learning_rate': 3.994178995876789e-05, 'epoch': 2.01}\n",
      "{'loss': 3.0189, 'grad_norm': 2.909242868423462, 'learning_rate': 3.982051903953432e-05, 'epoch': 2.04}\n",
      "{'loss': 2.9987, 'grad_norm': 3.18302845954895, 'learning_rate': 3.9699248120300755e-05, 'epoch': 2.06}\n",
      "{'loss': 3.0081, 'grad_norm': 3.0646352767944336, 'learning_rate': 3.957797720106719e-05, 'epoch': 2.09}\n",
      "{'loss': 3.0068, 'grad_norm': 2.830808162689209, 'learning_rate': 3.945670628183362e-05, 'epoch': 2.11}\n",
      "{'loss': 3.0328, 'grad_norm': 3.1983017921447754, 'learning_rate': 3.933543536260005e-05, 'epoch': 2.13}\n",
      "{'loss': 3.0294, 'grad_norm': 3.037949323654175, 'learning_rate': 3.921416444336648e-05, 'epoch': 2.16}\n",
      "{'loss': 3.0286, 'grad_norm': 2.948638916015625, 'learning_rate': 3.9092893524132916e-05, 'epoch': 2.18}\n",
      "{'loss': 3.0714, 'grad_norm': 3.3408076763153076, 'learning_rate': 3.897162260489935e-05, 'epoch': 2.21}\n",
      "{'loss': 3.0571, 'grad_norm': 2.9049501419067383, 'learning_rate': 3.885035168566578e-05, 'epoch': 2.23}\n",
      "{'loss': 3.0546, 'grad_norm': 3.043246030807495, 'learning_rate': 3.872908076643221e-05, 'epoch': 2.26}\n",
      "{'loss': 3.0698, 'grad_norm': 3.564105272293091, 'learning_rate': 3.8607809847198645e-05, 'epoch': 2.28}\n",
      "{'loss': 3.0789, 'grad_norm': 2.899198055267334, 'learning_rate': 3.848653892796508e-05, 'epoch': 2.3}\n",
      "{'loss': 3.0434, 'grad_norm': 2.8411688804626465, 'learning_rate': 3.836526800873151e-05, 'epoch': 2.33}\n",
      "{'loss': 3.0503, 'grad_norm': 3.2676846981048584, 'learning_rate': 3.824399708949794e-05, 'epoch': 2.35}\n",
      "{'loss': 3.0615, 'grad_norm': 3.030334234237671, 'learning_rate': 3.8122726170264374e-05, 'epoch': 2.38}\n",
      "{'loss': 3.0375, 'grad_norm': 3.1090376377105713, 'learning_rate': 3.8001455251030806e-05, 'epoch': 2.4}\n",
      "{'loss': 3.0479, 'grad_norm': 2.8840153217315674, 'learning_rate': 3.788018433179724e-05, 'epoch': 2.43}\n",
      "{'loss': 3.0354, 'grad_norm': 3.1019530296325684, 'learning_rate': 3.775891341256367e-05, 'epoch': 2.45}\n",
      "{'loss': 3.0562, 'grad_norm': 3.1822261810302734, 'learning_rate': 3.7637642493330097e-05, 'epoch': 2.47}\n",
      "{'loss': 3.0828, 'grad_norm': 3.022951364517212, 'learning_rate': 3.751637157409653e-05, 'epoch': 2.5}\n",
      "{'loss': 3.0677, 'grad_norm': 3.2553634643554688, 'learning_rate': 3.739510065486296e-05, 'epoch': 2.52}\n",
      "{'loss': 3.0583, 'grad_norm': 2.9082117080688477, 'learning_rate': 3.727382973562939e-05, 'epoch': 2.55}\n",
      "{'loss': 3.0744, 'grad_norm': 2.930986166000366, 'learning_rate': 3.715255881639583e-05, 'epoch': 2.57}\n",
      "{'loss': 3.0536, 'grad_norm': 2.9779703617095947, 'learning_rate': 3.7031287897162265e-05, 'epoch': 2.6}\n",
      "{'loss': 3.0634, 'grad_norm': 3.0846667289733887, 'learning_rate': 3.69100169779287e-05, 'epoch': 2.62}\n",
      "{'loss': 3.0468, 'grad_norm': 3.141099691390991, 'learning_rate': 3.678874605869513e-05, 'epoch': 2.64}\n",
      "{'loss': 3.0534, 'grad_norm': 3.2417526245117188, 'learning_rate': 3.666747513946156e-05, 'epoch': 2.67}\n",
      "{'loss': 3.0343, 'grad_norm': 3.1579785346984863, 'learning_rate': 3.6546204220227994e-05, 'epoch': 2.69}\n",
      "{'loss': 3.0771, 'grad_norm': 3.0001187324523926, 'learning_rate': 3.6424933300994426e-05, 'epoch': 2.72}\n",
      "{'loss': 3.0425, 'grad_norm': 2.871948003768921, 'learning_rate': 3.630366238176086e-05, 'epoch': 2.74}\n",
      "{'loss': 3.0731, 'grad_norm': 2.857102394104004, 'learning_rate': 3.618239146252729e-05, 'epoch': 2.76}\n",
      "{'loss': 3.0894, 'grad_norm': 2.9781923294067383, 'learning_rate': 3.6061120543293716e-05, 'epoch': 2.79}\n",
      "{'loss': 3.0127, 'grad_norm': 3.283756971359253, 'learning_rate': 3.593984962406015e-05, 'epoch': 2.81}\n",
      "{'loss': 3.0627, 'grad_norm': 3.1816518306732178, 'learning_rate': 3.581857870482658e-05, 'epoch': 2.84}\n",
      "{'loss': 3.0707, 'grad_norm': 3.2429964542388916, 'learning_rate': 3.569730778559301e-05, 'epoch': 2.86}\n",
      "{'loss': 3.0699, 'grad_norm': 3.024477958679199, 'learning_rate': 3.5576036866359445e-05, 'epoch': 2.89}\n",
      "{'loss': 3.0727, 'grad_norm': 3.064453363418579, 'learning_rate': 3.545476594712588e-05, 'epoch': 2.91}\n",
      "{'loss': 3.0585, 'grad_norm': 3.005168914794922, 'learning_rate': 3.533349502789231e-05, 'epoch': 2.93}\n",
      "{'loss': 3.056, 'grad_norm': 3.1624083518981934, 'learning_rate': 3.521343681785108e-05, 'epoch': 2.96}\n",
      "{'loss': 3.0645, 'grad_norm': 2.7755839824676514, 'learning_rate': 3.509216589861751e-05, 'epoch': 2.98}\n"
     ]
    },
    {
     "data": {
      "application/vnd.jupyter.widget-view+json": {
       "model_id": "b5c29542b7504b3c9cf3c94528e95e5e",
       "version_major": 2,
       "version_minor": 0
      },
      "text/plain": [
       "  0%|          | 0/230 [00:00<?, ?it/s]"
      ]
     },
     "metadata": {},
     "output_type": "display_data"
    },
    {
     "name": "stdout",
     "output_type": "stream",
     "text": [
      "{'eval_loss': 3.3271853923797607, 'eval_runtime': 5.7566, 'eval_samples_per_second': 318.417, 'eval_steps_per_second': 39.954, 'epoch': 3.0}\n",
      "{'loss': 3.0238, 'grad_norm': 2.9166650772094727, 'learning_rate': 3.4970894979383944e-05, 'epoch': 3.01}\n",
      "{'loss': 2.8521, 'grad_norm': 3.015981912612915, 'learning_rate': 3.4849624060150376e-05, 'epoch': 3.03}\n",
      "{'loss': 2.8501, 'grad_norm': 2.9870593547821045, 'learning_rate': 3.472835314091681e-05, 'epoch': 3.06}\n",
      "{'loss': 2.8567, 'grad_norm': 3.2461535930633545, 'learning_rate': 3.460708222168324e-05, 'epoch': 3.08}\n",
      "{'loss': 2.8803, 'grad_norm': 3.1248409748077393, 'learning_rate': 3.448581130244967e-05, 'epoch': 3.1}\n",
      "{'loss': 2.8897, 'grad_norm': 3.0011448860168457, 'learning_rate': 3.4364540383216105e-05, 'epoch': 3.13}\n",
      "{'loss': 2.8755, 'grad_norm': 3.0243380069732666, 'learning_rate': 3.4243269463982544e-05, 'epoch': 3.15}\n",
      "{'loss': 2.9391, 'grad_norm': 3.3147521018981934, 'learning_rate': 3.4121998544748976e-05, 'epoch': 3.18}\n",
      "{'loss': 2.8827, 'grad_norm': 3.28446364402771, 'learning_rate': 3.40007276255154e-05, 'epoch': 3.2}\n",
      "{'loss': 2.87, 'grad_norm': 3.395289659500122, 'learning_rate': 3.3879456706281834e-05, 'epoch': 3.23}\n",
      "{'loss': 2.8961, 'grad_norm': 3.230567693710327, 'learning_rate': 3.3758185787048266e-05, 'epoch': 3.25}\n",
      "{'loss': 2.8754, 'grad_norm': 2.9743807315826416, 'learning_rate': 3.36369148678147e-05, 'epoch': 3.27}\n",
      "{'loss': 2.8914, 'grad_norm': 3.412060022354126, 'learning_rate': 3.351564394858113e-05, 'epoch': 3.3}\n",
      "{'loss': 2.8864, 'grad_norm': 3.3043899536132812, 'learning_rate': 3.339437302934756e-05, 'epoch': 3.32}\n",
      "{'loss': 2.8748, 'grad_norm': 3.0594348907470703, 'learning_rate': 3.3273102110113996e-05, 'epoch': 3.35}\n",
      "{'loss': 2.8869, 'grad_norm': 3.053504467010498, 'learning_rate': 3.315183119088043e-05, 'epoch': 3.37}\n",
      "{'loss': 2.8854, 'grad_norm': 3.4044651985168457, 'learning_rate': 3.303056027164686e-05, 'epoch': 3.4}\n",
      "{'loss': 2.8975, 'grad_norm': 2.9060416221618652, 'learning_rate': 3.290928935241329e-05, 'epoch': 3.42}\n",
      "{'loss': 2.9276, 'grad_norm': 3.2662575244903564, 'learning_rate': 3.2788018433179725e-05, 'epoch': 3.44}\n",
      "{'loss': 2.9255, 'grad_norm': 3.289370059967041, 'learning_rate': 3.2667960223138494e-05, 'epoch': 3.47}\n",
      "{'loss': 2.9332, 'grad_norm': 3.0828254222869873, 'learning_rate': 3.2546689303904926e-05, 'epoch': 3.49}\n",
      "{'loss': 2.8997, 'grad_norm': 2.864373207092285, 'learning_rate': 3.242541838467136e-05, 'epoch': 3.52}\n",
      "{'loss': 2.9055, 'grad_norm': 2.9632484912872314, 'learning_rate': 3.230414746543779e-05, 'epoch': 3.54}\n",
      "{'loss': 2.951, 'grad_norm': 3.6168932914733887, 'learning_rate': 3.218287654620422e-05, 'epoch': 3.57}\n",
      "{'loss': 2.9246, 'grad_norm': 2.9934773445129395, 'learning_rate': 3.2061605626970655e-05, 'epoch': 3.59}\n",
      "{'loss': 2.9149, 'grad_norm': 3.119656801223755, 'learning_rate': 3.194033470773709e-05, 'epoch': 3.61}\n",
      "{'loss': 2.93, 'grad_norm': 3.2670655250549316, 'learning_rate': 3.181906378850352e-05, 'epoch': 3.64}\n",
      "{'loss': 2.9104, 'grad_norm': 3.1101460456848145, 'learning_rate': 3.169779286926995e-05, 'epoch': 3.66}\n",
      "{'loss': 2.937, 'grad_norm': 2.983863592147827, 'learning_rate': 3.157652195003638e-05, 'epoch': 3.69}\n",
      "{'loss': 2.9149, 'grad_norm': 3.1136105060577393, 'learning_rate': 3.145525103080281e-05, 'epoch': 3.71}\n",
      "{'loss': 2.8955, 'grad_norm': 3.0456976890563965, 'learning_rate': 3.133398011156925e-05, 'epoch': 3.74}\n",
      "{'loss': 2.9232, 'grad_norm': 3.146019220352173, 'learning_rate': 3.121270919233568e-05, 'epoch': 3.76}\n",
      "{'loss': 2.8854, 'grad_norm': 3.3883445262908936, 'learning_rate': 3.1091438273102114e-05, 'epoch': 3.78}\n",
      "{'loss': 2.89, 'grad_norm': 3.056826114654541, 'learning_rate': 3.0970167353868546e-05, 'epoch': 3.81}\n",
      "{'loss': 2.888, 'grad_norm': 2.932267427444458, 'learning_rate': 3.084889643463498e-05, 'epoch': 3.83}\n",
      "{'loss': 2.906, 'grad_norm': 3.0457630157470703, 'learning_rate': 3.072762551540141e-05, 'epoch': 3.86}\n",
      "{'loss': 2.862, 'grad_norm': 2.843190908432007, 'learning_rate': 3.060635459616784e-05, 'epoch': 3.88}\n",
      "{'loss': 2.8976, 'grad_norm': 3.099343776702881, 'learning_rate': 3.048508367693427e-05, 'epoch': 3.9}\n",
      "{'loss': 2.8998, 'grad_norm': 3.007401466369629, 'learning_rate': 3.0363812757700704e-05, 'epoch': 3.93}\n",
      "{'loss': 2.887, 'grad_norm': 3.186095952987671, 'learning_rate': 3.0243754547659477e-05, 'epoch': 3.95}\n",
      "{'loss': 2.9306, 'grad_norm': 3.3680732250213623, 'learning_rate': 3.0122483628425905e-05, 'epoch': 3.98}\n"
     ]
    },
    {
     "data": {
      "application/vnd.jupyter.widget-view+json": {
       "model_id": "a27d5fd0cf4a4f04a08363773466f402",
       "version_major": 2,
       "version_minor": 0
      },
      "text/plain": [
       "  0%|          | 0/230 [00:00<?, ?it/s]"
      ]
     },
     "metadata": {},
     "output_type": "display_data"
    },
    {
     "name": "stdout",
     "output_type": "stream",
     "text": [
      "{'eval_loss': 3.3367063999176025, 'eval_runtime': 5.6759, 'eval_samples_per_second': 322.947, 'eval_steps_per_second': 40.523, 'epoch': 4.0}\n",
      "{'loss': 2.9259, 'grad_norm': 3.141570806503296, 'learning_rate': 3.0001212709192338e-05, 'epoch': 4.0}\n",
      "{'loss': 2.747, 'grad_norm': 3.310432195663452, 'learning_rate': 2.987994178995877e-05, 'epoch': 4.03}\n",
      "{'loss': 2.7209, 'grad_norm': 3.451183319091797, 'learning_rate': 2.9758670870725202e-05, 'epoch': 4.05}\n",
      "{'loss': 2.7143, 'grad_norm': 3.403521776199341, 'learning_rate': 2.9637399951491635e-05, 'epoch': 4.07}\n",
      "{'loss': 2.7582, 'grad_norm': 3.2812118530273438, 'learning_rate': 2.9516129032258067e-05, 'epoch': 4.1}\n",
      "{'loss': 2.7694, 'grad_norm': 2.9627487659454346, 'learning_rate': 2.93948581130245e-05, 'epoch': 4.12}\n",
      "{'loss': 2.7372, 'grad_norm': 3.3094329833984375, 'learning_rate': 2.927358719379093e-05, 'epoch': 4.15}\n",
      "{'loss': 2.7323, 'grad_norm': 3.357057809829712, 'learning_rate': 2.915231627455736e-05, 'epoch': 4.17}\n",
      "{'loss': 2.7482, 'grad_norm': 3.4149210453033447, 'learning_rate': 2.9031045355323793e-05, 'epoch': 4.2}\n",
      "{'loss': 2.7782, 'grad_norm': 3.2775001525878906, 'learning_rate': 2.8909774436090225e-05, 'epoch': 4.22}\n",
      "{'loss': 2.7429, 'grad_norm': 3.283812999725342, 'learning_rate': 2.8788503516856657e-05, 'epoch': 4.24}\n",
      "{'loss': 2.7884, 'grad_norm': 3.2781858444213867, 'learning_rate': 2.866723259762309e-05, 'epoch': 4.27}\n",
      "{'loss': 2.7594, 'grad_norm': 3.2542543411254883, 'learning_rate': 2.8545961678389522e-05, 'epoch': 4.29}\n",
      "{'loss': 2.7662, 'grad_norm': 3.247316837310791, 'learning_rate': 2.8424690759155954e-05, 'epoch': 4.32}\n",
      "{'loss': 2.7827, 'grad_norm': 3.4480953216552734, 'learning_rate': 2.830341983992239e-05, 'epoch': 4.34}\n",
      "{'loss': 2.7823, 'grad_norm': 3.4284508228302, 'learning_rate': 2.8182148920688822e-05, 'epoch': 4.37}\n",
      "{'loss': 2.7319, 'grad_norm': 3.2632391452789307, 'learning_rate': 2.8060878001455254e-05, 'epoch': 4.39}\n",
      "{'loss': 2.8122, 'grad_norm': 3.131065845489502, 'learning_rate': 2.7939607082221687e-05, 'epoch': 4.41}\n",
      "{'loss': 2.8231, 'grad_norm': 2.8373820781707764, 'learning_rate': 2.7819548872180452e-05, 'epoch': 4.44}\n",
      "{'loss': 2.8045, 'grad_norm': 3.4512364864349365, 'learning_rate': 2.769827795294688e-05, 'epoch': 4.46}\n",
      "{'loss': 2.812, 'grad_norm': 3.5881266593933105, 'learning_rate': 2.7577007033713314e-05, 'epoch': 4.49}\n",
      "{'loss': 2.7803, 'grad_norm': 3.1435625553131104, 'learning_rate': 2.7455736114479746e-05, 'epoch': 4.51}\n",
      "{'loss': 2.7729, 'grad_norm': 3.6643319129943848, 'learning_rate': 2.7334465195246185e-05, 'epoch': 4.54}\n",
      "{'loss': 2.7873, 'grad_norm': 3.2509889602661133, 'learning_rate': 2.7213194276012617e-05, 'epoch': 4.56}\n",
      "{'loss': 2.7606, 'grad_norm': 3.332510471343994, 'learning_rate': 2.7091923356779046e-05, 'epoch': 4.58}\n",
      "{'loss': 2.7266, 'grad_norm': 3.2236361503601074, 'learning_rate': 2.697065243754548e-05, 'epoch': 4.61}\n",
      "{'loss': 2.7748, 'grad_norm': 3.49656081199646, 'learning_rate': 2.684938151831191e-05, 'epoch': 4.63}\n",
      "{'loss': 2.8063, 'grad_norm': 3.3367905616760254, 'learning_rate': 2.6728110599078343e-05, 'epoch': 4.66}\n",
      "{'loss': 2.7626, 'grad_norm': 3.1942596435546875, 'learning_rate': 2.6606839679844775e-05, 'epoch': 4.68}\n",
      "{'loss': 2.8055, 'grad_norm': 3.345798969268799, 'learning_rate': 2.6485568760611207e-05, 'epoch': 4.71}\n",
      "{'loss': 2.7986, 'grad_norm': 3.236867904663086, 'learning_rate': 2.636429784137764e-05, 'epoch': 4.73}\n",
      "{'loss': 2.791, 'grad_norm': 3.1969001293182373, 'learning_rate': 2.6243026922144072e-05, 'epoch': 4.75}\n",
      "{'loss': 2.7796, 'grad_norm': 3.39939546585083, 'learning_rate': 2.61217560029105e-05, 'epoch': 4.78}\n",
      "{'loss': 2.8063, 'grad_norm': 3.3498952388763428, 'learning_rate': 2.6000485083676933e-05, 'epoch': 4.8}\n",
      "{'loss': 2.8045, 'grad_norm': 3.1514194011688232, 'learning_rate': 2.5879214164443365e-05, 'epoch': 4.83}\n",
      "{'loss': 2.7501, 'grad_norm': 3.4701554775238037, 'learning_rate': 2.5757943245209798e-05, 'epoch': 4.85}\n",
      "{'loss': 2.7964, 'grad_norm': 3.4334840774536133, 'learning_rate': 2.563667232597623e-05, 'epoch': 4.88}\n",
      "{'loss': 2.7728, 'grad_norm': 3.0751867294311523, 'learning_rate': 2.5515401406742662e-05, 'epoch': 4.9}\n",
      "{'loss': 2.7912, 'grad_norm': 3.3467650413513184, 'learning_rate': 2.5394130487509098e-05, 'epoch': 4.92}\n",
      "{'loss': 2.8133, 'grad_norm': 3.361690044403076, 'learning_rate': 2.527285956827553e-05, 'epoch': 4.95}\n",
      "{'loss': 2.7923, 'grad_norm': 3.4773330688476562, 'learning_rate': 2.5152801358234296e-05, 'epoch': 4.97}\n",
      "{'loss': 2.7623, 'grad_norm': 3.280987501144409, 'learning_rate': 2.503153043900073e-05, 'epoch': 5.0}\n"
     ]
    },
    {
     "data": {
      "application/vnd.jupyter.widget-view+json": {
       "model_id": "0a2220273a7f4362ab3fc77918067530",
       "version_major": 2,
       "version_minor": 0
      },
      "text/plain": [
       "  0%|          | 0/230 [00:00<?, ?it/s]"
      ]
     },
     "metadata": {},
     "output_type": "display_data"
    },
    {
     "name": "stdout",
     "output_type": "stream",
     "text": [
      "{'eval_loss': 3.3621511459350586, 'eval_runtime': 5.6076, 'eval_samples_per_second': 326.876, 'eval_steps_per_second': 41.016, 'epoch': 5.0}\n",
      "{'loss': 2.6482, 'grad_norm': 3.418459892272949, 'learning_rate': 2.491025951976716e-05, 'epoch': 5.02}\n",
      "{'loss': 2.6287, 'grad_norm': 3.3942832946777344, 'learning_rate': 2.4788988600533593e-05, 'epoch': 5.04}\n",
      "{'loss': 2.6265, 'grad_norm': 3.5114853382110596, 'learning_rate': 2.4667717681300025e-05, 'epoch': 5.07}\n",
      "{'loss': 2.6224, 'grad_norm': 3.717043876647949, 'learning_rate': 2.4546446762066458e-05, 'epoch': 5.09}\n",
      "{'loss': 2.6459, 'grad_norm': 3.5114428997039795, 'learning_rate': 2.442517584283289e-05, 'epoch': 5.12}\n",
      "{'loss': 2.6323, 'grad_norm': 3.2653098106384277, 'learning_rate': 2.4303904923599322e-05, 'epoch': 5.14}\n",
      "{'loss': 2.6639, 'grad_norm': 3.397864580154419, 'learning_rate': 2.4182634004365754e-05, 'epoch': 5.17}\n",
      "{'loss': 2.6253, 'grad_norm': 3.3818018436431885, 'learning_rate': 2.4061363085132187e-05, 'epoch': 5.19}\n",
      "{'loss': 2.6463, 'grad_norm': 3.6263458728790283, 'learning_rate': 2.394009216589862e-05, 'epoch': 5.21}\n",
      "{'loss': 2.6929, 'grad_norm': 3.3772923946380615, 'learning_rate': 2.381882124666505e-05, 'epoch': 5.24}\n",
      "{'loss': 2.6564, 'grad_norm': 3.647130012512207, 'learning_rate': 2.3697550327431483e-05, 'epoch': 5.26}\n",
      "{'loss': 2.6605, 'grad_norm': 3.401049852371216, 'learning_rate': 2.3576279408197916e-05, 'epoch': 5.29}\n",
      "{'loss': 2.6789, 'grad_norm': 3.446709156036377, 'learning_rate': 2.3455008488964348e-05, 'epoch': 5.31}\n",
      "{'loss': 2.6464, 'grad_norm': 3.491859197616577, 'learning_rate': 2.333373756973078e-05, 'epoch': 5.34}\n",
      "{'loss': 2.64, 'grad_norm': 3.375244617462158, 'learning_rate': 2.3212466650497213e-05, 'epoch': 5.36}\n",
      "{'loss': 2.674, 'grad_norm': 3.5400397777557373, 'learning_rate': 2.309119573126364e-05, 'epoch': 5.38}\n",
      "{'loss': 2.6337, 'grad_norm': 3.4221718311309814, 'learning_rate': 2.2969924812030077e-05, 'epoch': 5.41}\n",
      "{'loss': 2.6584, 'grad_norm': 3.3839528560638428, 'learning_rate': 2.284865389279651e-05, 'epoch': 5.43}\n",
      "{'loss': 2.6992, 'grad_norm': 3.4599897861480713, 'learning_rate': 2.272859568275528e-05, 'epoch': 5.46}\n",
      "{'loss': 2.6654, 'grad_norm': 3.5965025424957275, 'learning_rate': 2.2607324763521708e-05, 'epoch': 5.48}\n",
      "{'loss': 2.6817, 'grad_norm': 3.070660352706909, 'learning_rate': 2.248605384428814e-05, 'epoch': 5.51}\n",
      "{'loss': 2.6575, 'grad_norm': 3.39119029045105, 'learning_rate': 2.2364782925054572e-05, 'epoch': 5.53}\n",
      "{'loss': 2.6695, 'grad_norm': 3.3919384479522705, 'learning_rate': 2.2243512005821004e-05, 'epoch': 5.55}\n",
      "{'loss': 2.6884, 'grad_norm': 3.2583460807800293, 'learning_rate': 2.2122241086587437e-05, 'epoch': 5.58}\n",
      "{'loss': 2.6786, 'grad_norm': 3.4206490516662598, 'learning_rate': 2.2000970167353872e-05, 'epoch': 5.6}\n",
      "{'loss': 2.6705, 'grad_norm': 3.454488515853882, 'learning_rate': 2.18796992481203e-05, 'epoch': 5.63}\n",
      "{'loss': 2.6721, 'grad_norm': 3.10562801361084, 'learning_rate': 2.1758428328886734e-05, 'epoch': 5.65}\n",
      "{'loss': 2.6895, 'grad_norm': 3.5159449577331543, 'learning_rate': 2.1637157409653166e-05, 'epoch': 5.68}\n",
      "{'loss': 2.6788, 'grad_norm': 3.2212777137756348, 'learning_rate': 2.1515886490419598e-05, 'epoch': 5.7}\n",
      "{'loss': 2.6865, 'grad_norm': 3.2278494834899902, 'learning_rate': 2.139461557118603e-05, 'epoch': 5.72}\n",
      "{'loss': 2.6361, 'grad_norm': 3.5839319229125977, 'learning_rate': 2.1273344651952463e-05, 'epoch': 5.75}\n",
      "{'loss': 2.6808, 'grad_norm': 3.409825086593628, 'learning_rate': 2.1152073732718895e-05, 'epoch': 5.77}\n",
      "{'loss': 2.7125, 'grad_norm': 3.5208740234375, 'learning_rate': 2.1030802813485327e-05, 'epoch': 5.8}\n",
      "{'loss': 2.7012, 'grad_norm': 3.1698718070983887, 'learning_rate': 2.090953189425176e-05, 'epoch': 5.82}\n",
      "{'loss': 2.7145, 'grad_norm': 3.6995162963867188, 'learning_rate': 2.0788260975018192e-05, 'epoch': 5.85}\n",
      "{'loss': 2.7046, 'grad_norm': 3.5004584789276123, 'learning_rate': 2.0666990055784624e-05, 'epoch': 5.87}\n",
      "{'loss': 2.7023, 'grad_norm': 3.1134278774261475, 'learning_rate': 2.0545719136551056e-05, 'epoch': 5.89}\n",
      "{'loss': 2.68, 'grad_norm': 3.736973762512207, 'learning_rate': 2.042444821731749e-05, 'epoch': 5.92}\n",
      "{'loss': 2.6903, 'grad_norm': 3.408057689666748, 'learning_rate': 2.030317729808392e-05, 'epoch': 5.94}\n",
      "{'loss': 2.6689, 'grad_norm': 3.2526683807373047, 'learning_rate': 2.018190637885035e-05, 'epoch': 5.97}\n",
      "{'loss': 2.6871, 'grad_norm': 3.3683929443359375, 'learning_rate': 2.006184816880912e-05, 'epoch': 5.99}\n"
     ]
    },
    {
     "data": {
      "application/vnd.jupyter.widget-view+json": {
       "model_id": "3b0fd7cb80974283aa4f2e2407d1c0e3",
       "version_major": 2,
       "version_minor": 0
      },
      "text/plain": [
       "  0%|          | 0/230 [00:00<?, ?it/s]"
      ]
     },
     "metadata": {},
     "output_type": "display_data"
    },
    {
     "name": "stdout",
     "output_type": "stream",
     "text": [
      "{'eval_loss': 3.3773560523986816, 'eval_runtime': 5.9097, 'eval_samples_per_second': 310.167, 'eval_steps_per_second': 38.919, 'epoch': 6.0}\n",
      "{'loss': 2.616, 'grad_norm': 3.355942964553833, 'learning_rate': 1.9940577249575555e-05, 'epoch': 6.02}\n",
      "{'loss': 2.5665, 'grad_norm': 3.249361276626587, 'learning_rate': 1.9819306330341987e-05, 'epoch': 6.04}\n",
      "{'loss': 2.5482, 'grad_norm': 3.4991884231567383, 'learning_rate': 1.9698035411108416e-05, 'epoch': 6.06}\n",
      "{'loss': 2.6047, 'grad_norm': 3.308015823364258, 'learning_rate': 1.9576764491874848e-05, 'epoch': 6.09}\n",
      "{'loss': 2.5784, 'grad_norm': 3.3847591876983643, 'learning_rate': 1.945549357264128e-05, 'epoch': 6.11}\n",
      "{'loss': 2.5427, 'grad_norm': 3.7504875659942627, 'learning_rate': 1.9334222653407713e-05, 'epoch': 6.14}\n",
      "{'loss': 2.555, 'grad_norm': 3.4608957767486572, 'learning_rate': 1.9212951734174145e-05, 'epoch': 6.16}\n",
      "{'loss': 2.5773, 'grad_norm': 3.5359411239624023, 'learning_rate': 1.9091680814940577e-05, 'epoch': 6.18}\n",
      "{'loss': 2.5797, 'grad_norm': 3.4393982887268066, 'learning_rate': 1.8970409895707013e-05, 'epoch': 6.21}\n",
      "{'loss': 2.5451, 'grad_norm': 3.541292905807495, 'learning_rate': 1.8849138976473442e-05, 'epoch': 6.23}\n",
      "{'loss': 2.5678, 'grad_norm': 3.506458044052124, 'learning_rate': 1.8727868057239874e-05, 'epoch': 6.26}\n",
      "{'loss': 2.5522, 'grad_norm': 3.3648312091827393, 'learning_rate': 1.8606597138006306e-05, 'epoch': 6.28}\n",
      "{'loss': 2.5758, 'grad_norm': 3.2803127765655518, 'learning_rate': 1.848532621877274e-05, 'epoch': 6.31}\n",
      "{'loss': 2.5909, 'grad_norm': 3.413482666015625, 'learning_rate': 1.836405529953917e-05, 'epoch': 6.33}\n",
      "{'loss': 2.5761, 'grad_norm': 3.386021137237549, 'learning_rate': 1.8242784380305603e-05, 'epoch': 6.35}\n",
      "{'loss': 2.6108, 'grad_norm': 3.351794481277466, 'learning_rate': 1.8121513461072036e-05, 'epoch': 6.38}\n",
      "{'loss': 2.5807, 'grad_norm': 3.4283645153045654, 'learning_rate': 1.8000242541838468e-05, 'epoch': 6.4}\n",
      "{'loss': 2.5863, 'grad_norm': 3.3492283821105957, 'learning_rate': 1.78789716226049e-05, 'epoch': 6.43}\n",
      "{'loss': 2.6066, 'grad_norm': 3.639458417892456, 'learning_rate': 1.7757700703371332e-05, 'epoch': 6.45}\n",
      "{'loss': 2.603, 'grad_norm': 3.726454496383667, 'learning_rate': 1.76376424933301e-05, 'epoch': 6.48}\n",
      "{'loss': 2.5882, 'grad_norm': 3.3572120666503906, 'learning_rate': 1.7516371574096534e-05, 'epoch': 6.5}\n",
      "{'loss': 2.5631, 'grad_norm': 3.588880777359009, 'learning_rate': 1.7395100654862963e-05, 'epoch': 6.52}\n",
      "{'loss': 2.573, 'grad_norm': 3.3344719409942627, 'learning_rate': 1.7273829735629395e-05, 'epoch': 6.55}\n",
      "{'loss': 2.5954, 'grad_norm': 3.310159206390381, 'learning_rate': 1.7152558816395827e-05, 'epoch': 6.57}\n",
      "{'loss': 2.5867, 'grad_norm': 3.455834150314331, 'learning_rate': 1.7031287897162263e-05, 'epoch': 6.6}\n",
      "{'loss': 2.5542, 'grad_norm': 3.487018585205078, 'learning_rate': 1.6910016977928695e-05, 'epoch': 6.62}\n",
      "{'loss': 2.5658, 'grad_norm': 3.185227632522583, 'learning_rate': 1.6788746058695128e-05, 'epoch': 6.65}\n",
      "{'loss': 2.6158, 'grad_norm': 3.6388895511627197, 'learning_rate': 1.6667475139461557e-05, 'epoch': 6.67}\n",
      "{'loss': 2.5886, 'grad_norm': 3.4880762100219727, 'learning_rate': 1.654620422022799e-05, 'epoch': 6.69}\n",
      "{'loss': 2.6144, 'grad_norm': 3.7065675258636475, 'learning_rate': 1.642493330099442e-05, 'epoch': 6.72}\n",
      "{'loss': 2.5842, 'grad_norm': 3.505573034286499, 'learning_rate': 1.6303662381760853e-05, 'epoch': 6.74}\n",
      "{'loss': 2.58, 'grad_norm': 3.3983821868896484, 'learning_rate': 1.6182391462527286e-05, 'epoch': 6.77}\n",
      "{'loss': 2.5801, 'grad_norm': 3.5382978916168213, 'learning_rate': 1.606112054329372e-05, 'epoch': 6.79}\n",
      "{'loss': 2.6075, 'grad_norm': 3.522340774536133, 'learning_rate': 1.5939849624060154e-05, 'epoch': 6.82}\n",
      "{'loss': 2.6071, 'grad_norm': 3.4464964866638184, 'learning_rate': 1.5818578704826582e-05, 'epoch': 6.84}\n",
      "{'loss': 2.588, 'grad_norm': 3.8142426013946533, 'learning_rate': 1.5697307785593015e-05, 'epoch': 6.86}\n",
      "{'loss': 2.5642, 'grad_norm': 3.489206552505493, 'learning_rate': 1.5576036866359447e-05, 'epoch': 6.89}\n",
      "{'loss': 2.6045, 'grad_norm': 3.3010778427124023, 'learning_rate': 1.545476594712588e-05, 'epoch': 6.91}\n",
      "{'loss': 2.6285, 'grad_norm': 3.683546543121338, 'learning_rate': 1.533349502789231e-05, 'epoch': 6.94}\n",
      "{'loss': 2.6019, 'grad_norm': 3.1471989154815674, 'learning_rate': 1.521343681785108e-05, 'epoch': 6.96}\n",
      "{'loss': 2.5735, 'grad_norm': 3.531446695327759, 'learning_rate': 1.5092165898617513e-05, 'epoch': 6.99}\n"
     ]
    },
    {
     "data": {
      "application/vnd.jupyter.widget-view+json": {
       "model_id": "51a7d762314b4d1eb7aba9052f0c5b0d",
       "version_major": 2,
       "version_minor": 0
      },
      "text/plain": [
       "  0%|          | 0/230 [00:00<?, ?it/s]"
      ]
     },
     "metadata": {},
     "output_type": "display_data"
    },
    {
     "name": "stdout",
     "output_type": "stream",
     "text": [
      "{'eval_loss': 3.404364585876465, 'eval_runtime': 5.6591, 'eval_samples_per_second': 323.903, 'eval_steps_per_second': 40.642, 'epoch': 7.0}\n",
      "{'loss': 2.5178, 'grad_norm': 3.4076168537139893, 'learning_rate': 1.4970894979383945e-05, 'epoch': 7.01}\n",
      "{'loss': 2.479, 'grad_norm': 3.32916522026062, 'learning_rate': 1.4849624060150378e-05, 'epoch': 7.03}\n",
      "{'loss': 2.4874, 'grad_norm': 3.55690336227417, 'learning_rate': 1.4728353140916808e-05, 'epoch': 7.06}\n",
      "{'loss': 2.4676, 'grad_norm': 3.5947349071502686, 'learning_rate': 1.460708222168324e-05, 'epoch': 7.08}\n",
      "{'loss': 2.5088, 'grad_norm': 3.3430283069610596, 'learning_rate': 1.4485811302449673e-05, 'epoch': 7.11}\n",
      "{'loss': 2.5154, 'grad_norm': 3.6195433139801025, 'learning_rate': 1.4364540383216105e-05, 'epoch': 7.13}\n",
      "{'loss': 2.517, 'grad_norm': 3.563302516937256, 'learning_rate': 1.4243269463982536e-05, 'epoch': 7.15}\n",
      "{'loss': 2.5025, 'grad_norm': 4.128068447113037, 'learning_rate': 1.4121998544748971e-05, 'epoch': 7.18}\n",
      "{'loss': 2.5018, 'grad_norm': 3.9211766719818115, 'learning_rate': 1.4000727625515404e-05, 'epoch': 7.2}\n",
      "{'loss': 2.491, 'grad_norm': 3.433119535446167, 'learning_rate': 1.3879456706281834e-05, 'epoch': 7.23}\n",
      "{'loss': 2.5197, 'grad_norm': 3.5546112060546875, 'learning_rate': 1.3758185787048267e-05, 'epoch': 7.25}\n",
      "{'loss': 2.4909, 'grad_norm': 3.3944501876831055, 'learning_rate': 1.3636914867814699e-05, 'epoch': 7.28}\n",
      "{'loss': 2.5063, 'grad_norm': 3.682591199874878, 'learning_rate': 1.3515643948581131e-05, 'epoch': 7.3}\n",
      "{'loss': 2.5243, 'grad_norm': 3.4377734661102295, 'learning_rate': 1.3394373029347562e-05, 'epoch': 7.32}\n",
      "{'loss': 2.4933, 'grad_norm': 3.2751097679138184, 'learning_rate': 1.3273102110113994e-05, 'epoch': 7.35}\n",
      "{'loss': 2.5062, 'grad_norm': 3.6297519207000732, 'learning_rate': 1.3151831190880428e-05, 'epoch': 7.37}\n",
      "{'loss': 2.521, 'grad_norm': 4.122704029083252, 'learning_rate': 1.303056027164686e-05, 'epoch': 7.4}\n",
      "{'loss': 2.5338, 'grad_norm': 3.3049817085266113, 'learning_rate': 1.2909289352413292e-05, 'epoch': 7.42}\n",
      "{'loss': 2.5044, 'grad_norm': 3.6052722930908203, 'learning_rate': 1.2788018433179725e-05, 'epoch': 7.45}\n",
      "{'loss': 2.5086, 'grad_norm': 3.6621201038360596, 'learning_rate': 1.2667960223138492e-05, 'epoch': 7.47}\n",
      "{'loss': 2.4982, 'grad_norm': 3.616077184677124, 'learning_rate': 1.2546689303904925e-05, 'epoch': 7.49}\n",
      "{'loss': 2.5005, 'grad_norm': 3.88240647315979, 'learning_rate': 1.2425418384671357e-05, 'epoch': 7.52}\n",
      "{'loss': 2.5031, 'grad_norm': 3.9749515056610107, 'learning_rate': 1.230414746543779e-05, 'epoch': 7.54}\n",
      "{'loss': 2.522, 'grad_norm': 3.9046242237091064, 'learning_rate': 1.2182876546204221e-05, 'epoch': 7.57}\n",
      "{'loss': 2.5122, 'grad_norm': 3.489246129989624, 'learning_rate': 1.2061605626970652e-05, 'epoch': 7.59}\n",
      "{'loss': 2.535, 'grad_norm': 3.4140052795410156, 'learning_rate': 1.1940334707737086e-05, 'epoch': 7.62}\n",
      "{'loss': 2.5098, 'grad_norm': 3.4844870567321777, 'learning_rate': 1.1819063788503518e-05, 'epoch': 7.64}\n",
      "{'loss': 2.4951, 'grad_norm': 3.81369948387146, 'learning_rate': 1.1697792869269949e-05, 'epoch': 7.66}\n",
      "{'loss': 2.4971, 'grad_norm': 3.743497848510742, 'learning_rate': 1.1576521950036381e-05, 'epoch': 7.69}\n",
      "{'loss': 2.5087, 'grad_norm': 3.5888571739196777, 'learning_rate': 1.1455251030802815e-05, 'epoch': 7.71}\n",
      "{'loss': 2.5523, 'grad_norm': 3.532727003097534, 'learning_rate': 1.1333980111569246e-05, 'epoch': 7.74}\n",
      "{'loss': 2.5303, 'grad_norm': 3.803614616394043, 'learning_rate': 1.1212709192335678e-05, 'epoch': 7.76}\n",
      "{'loss': 2.5449, 'grad_norm': 3.6677119731903076, 'learning_rate': 1.109143827310211e-05, 'epoch': 7.79}\n",
      "{'loss': 2.493, 'grad_norm': 3.6419200897216797, 'learning_rate': 1.0970167353868544e-05, 'epoch': 7.81}\n",
      "{'loss': 2.517, 'grad_norm': 3.69622540473938, 'learning_rate': 1.0848896434634975e-05, 'epoch': 7.83}\n",
      "{'loss': 2.439, 'grad_norm': 3.771578788757324, 'learning_rate': 1.0727625515401407e-05, 'epoch': 7.86}\n",
      "{'loss': 2.5656, 'grad_norm': 3.7384331226348877, 'learning_rate': 1.060635459616784e-05, 'epoch': 7.88}\n",
      "{'loss': 2.5443, 'grad_norm': 3.543419122695923, 'learning_rate': 1.0485083676934272e-05, 'epoch': 7.91}\n",
      "{'loss': 2.5191, 'grad_norm': 3.91672945022583, 'learning_rate': 1.0363812757700704e-05, 'epoch': 7.93}\n",
      "{'loss': 2.5443, 'grad_norm': 3.9293277263641357, 'learning_rate': 1.0243754547659472e-05, 'epoch': 7.96}\n",
      "{'loss': 2.5127, 'grad_norm': 3.410250186920166, 'learning_rate': 1.0122483628425904e-05, 'epoch': 7.98}\n"
     ]
    },
    {
     "data": {
      "application/vnd.jupyter.widget-view+json": {
       "model_id": "38a851cbc6a748fdbe721fb45886787c",
       "version_major": 2,
       "version_minor": 0
      },
      "text/plain": [
       "  0%|          | 0/230 [00:00<?, ?it/s]"
      ]
     },
     "metadata": {},
     "output_type": "display_data"
    },
    {
     "name": "stdout",
     "output_type": "stream",
     "text": [
      "{'eval_loss': 3.425924062728882, 'eval_runtime': 6.1713, 'eval_samples_per_second': 297.02, 'eval_steps_per_second': 37.269, 'epoch': 8.0}\n",
      "{'loss': 2.5084, 'grad_norm': 3.6826868057250977, 'learning_rate': 1.0001212709192336e-05, 'epoch': 8.0}\n",
      "{'loss': 2.471, 'grad_norm': 3.6634066104888916, 'learning_rate': 9.879941789958768e-06, 'epoch': 8.03}\n",
      "{'loss': 2.4209, 'grad_norm': 3.809814453125, 'learning_rate': 9.7586708707252e-06, 'epoch': 8.05}\n",
      "{'loss': 2.3824, 'grad_norm': 3.3706302642822266, 'learning_rate': 9.637399951491633e-06, 'epoch': 8.08}\n",
      "{'loss': 2.4823, 'grad_norm': 3.6384518146514893, 'learning_rate': 9.516129032258064e-06, 'epoch': 8.1}\n",
      "{'loss': 2.479, 'grad_norm': 3.6899256706237793, 'learning_rate': 9.394858113024497e-06, 'epoch': 8.13}\n",
      "{'loss': 2.4645, 'grad_norm': 3.3045918941497803, 'learning_rate': 9.27358719379093e-06, 'epoch': 8.15}\n",
      "{'loss': 2.4651, 'grad_norm': 3.6327335834503174, 'learning_rate': 9.152316274557362e-06, 'epoch': 8.17}\n",
      "{'loss': 2.4775, 'grad_norm': 3.6000707149505615, 'learning_rate': 9.031045355323794e-06, 'epoch': 8.2}\n",
      "{'loss': 2.4694, 'grad_norm': 3.923067331314087, 'learning_rate': 8.909774436090227e-06, 'epoch': 8.22}\n",
      "{'loss': 2.4479, 'grad_norm': 3.885962963104248, 'learning_rate': 8.788503516856659e-06, 'epoch': 8.25}\n",
      "{'loss': 2.4789, 'grad_norm': 3.469900608062744, 'learning_rate': 8.66723259762309e-06, 'epoch': 8.27}\n",
      "{'loss': 2.4189, 'grad_norm': 3.396576404571533, 'learning_rate': 8.545961678389523e-06, 'epoch': 8.29}\n",
      "{'loss': 2.4627, 'grad_norm': 3.5177764892578125, 'learning_rate': 8.424690759155956e-06, 'epoch': 8.32}\n",
      "{'loss': 2.4454, 'grad_norm': 3.977849245071411, 'learning_rate': 8.303419839922386e-06, 'epoch': 8.34}\n",
      "{'loss': 2.4304, 'grad_norm': 3.469440221786499, 'learning_rate': 8.182148920688819e-06, 'epoch': 8.37}\n",
      "{'loss': 2.4621, 'grad_norm': 3.5255658626556396, 'learning_rate': 8.060878001455253e-06, 'epoch': 8.39}\n",
      "{'loss': 2.4883, 'grad_norm': 3.5885097980499268, 'learning_rate': 7.939607082221683e-06, 'epoch': 8.42}\n",
      "{'loss': 2.4185, 'grad_norm': 3.6874852180480957, 'learning_rate': 7.819548872180452e-06, 'epoch': 8.44}\n",
      "{'loss': 2.4771, 'grad_norm': 3.737788677215576, 'learning_rate': 7.698277952946883e-06, 'epoch': 8.46}\n",
      "{'loss': 2.4594, 'grad_norm': 3.4452319145202637, 'learning_rate': 7.577007033713315e-06, 'epoch': 8.49}\n",
      "{'loss': 2.4626, 'grad_norm': 3.9743542671203613, 'learning_rate': 7.455736114479748e-06, 'epoch': 8.51}\n",
      "{'loss': 2.4573, 'grad_norm': 4.097176551818848, 'learning_rate': 7.334465195246181e-06, 'epoch': 8.54}\n",
      "{'loss': 2.4786, 'grad_norm': 3.7722818851470947, 'learning_rate': 7.213194276012612e-06, 'epoch': 8.56}\n",
      "{'loss': 2.4428, 'grad_norm': 3.33301043510437, 'learning_rate': 7.091923356779044e-06, 'epoch': 8.59}\n",
      "{'loss': 2.4506, 'grad_norm': 3.6421568393707275, 'learning_rate': 6.9706524375454775e-06, 'epoch': 8.61}\n",
      "{'loss': 2.4531, 'grad_norm': 3.740220785140991, 'learning_rate': 6.849381518311909e-06, 'epoch': 8.63}\n",
      "{'loss': 2.4534, 'grad_norm': 3.437528133392334, 'learning_rate': 6.728110599078341e-06, 'epoch': 8.66}\n",
      "{'loss': 2.4639, 'grad_norm': 3.697801113128662, 'learning_rate': 6.606839679844773e-06, 'epoch': 8.68}\n",
      "{'loss': 2.4528, 'grad_norm': 3.6728506088256836, 'learning_rate': 6.485568760611206e-06, 'epoch': 8.71}\n",
      "{'loss': 2.4655, 'grad_norm': 3.7748687267303467, 'learning_rate': 6.364297841377638e-06, 'epoch': 8.73}\n",
      "{'loss': 2.4743, 'grad_norm': 3.407256603240967, 'learning_rate': 6.2430269221440695e-06, 'epoch': 8.76}\n",
      "{'loss': 2.448, 'grad_norm': 3.8438098430633545, 'learning_rate': 6.121756002910503e-06, 'epoch': 8.78}\n",
      "{'loss': 2.4461, 'grad_norm': 3.8808577060699463, 'learning_rate': 6.000485083676934e-06, 'epoch': 8.8}\n",
      "{'loss': 2.4566, 'grad_norm': 3.883392333984375, 'learning_rate': 5.879214164443367e-06, 'epoch': 8.83}\n",
      "{'loss': 2.4624, 'grad_norm': 3.547795295715332, 'learning_rate': 5.757943245209799e-06, 'epoch': 8.85}\n",
      "{'loss': 2.4444, 'grad_norm': 3.7533302307128906, 'learning_rate': 5.636672325976231e-06, 'epoch': 8.88}\n",
      "{'loss': 2.4895, 'grad_norm': 3.491684675216675, 'learning_rate': 5.515401406742663e-06, 'epoch': 8.9}\n",
      "{'loss': 2.4359, 'grad_norm': 3.3778645992279053, 'learning_rate': 5.395343196701432e-06, 'epoch': 8.93}\n",
      "{'loss': 2.4513, 'grad_norm': 3.670914888381958, 'learning_rate': 5.274072277467863e-06, 'epoch': 8.95}\n",
      "{'loss': 2.4249, 'grad_norm': 3.506925344467163, 'learning_rate': 5.152801358234296e-06, 'epoch': 8.97}\n",
      "{'loss': 2.4765, 'grad_norm': 3.866640567779541, 'learning_rate': 5.031530439000728e-06, 'epoch': 9.0}\n"
     ]
    },
    {
     "data": {
      "application/vnd.jupyter.widget-view+json": {
       "model_id": "27c4c283fca04dcda7a6a90bad30ef6c",
       "version_major": 2,
       "version_minor": 0
      },
      "text/plain": [
       "  0%|          | 0/230 [00:00<?, ?it/s]"
      ]
     },
     "metadata": {},
     "output_type": "display_data"
    },
    {
     "name": "stdout",
     "output_type": "stream",
     "text": [
      "{'eval_loss': 3.4471893310546875, 'eval_runtime': 5.8277, 'eval_samples_per_second': 314.532, 'eval_steps_per_second': 39.467, 'epoch': 9.0}\n",
      "{'loss': 2.3823, 'grad_norm': 3.745629072189331, 'learning_rate': 4.91025951976716e-06, 'epoch': 9.02}\n",
      "{'loss': 2.4178, 'grad_norm': 3.331587314605713, 'learning_rate': 4.788988600533592e-06, 'epoch': 9.05}\n",
      "{'loss': 2.3952, 'grad_norm': 3.574631929397583, 'learning_rate': 4.6677176813000245e-06, 'epoch': 9.07}\n",
      "{'loss': 2.4372, 'grad_norm': 3.635157823562622, 'learning_rate': 4.546446762066457e-06, 'epoch': 9.1}\n",
      "{'loss': 2.435, 'grad_norm': 3.66192626953125, 'learning_rate': 4.425175842832889e-06, 'epoch': 9.12}\n",
      "{'loss': 2.4319, 'grad_norm': 3.744255781173706, 'learning_rate': 4.303904923599321e-06, 'epoch': 9.14}\n",
      "{'loss': 2.4258, 'grad_norm': 3.6447808742523193, 'learning_rate': 4.1826340043657536e-06, 'epoch': 9.17}\n",
      "{'loss': 2.3891, 'grad_norm': 4.156301975250244, 'learning_rate': 4.061363085132185e-06, 'epoch': 9.19}\n",
      "{'loss': 2.4566, 'grad_norm': 3.8645129203796387, 'learning_rate': 3.940092165898618e-06, 'epoch': 9.22}\n",
      "{'loss': 2.4201, 'grad_norm': 3.946542978286743, 'learning_rate': 3.8188212466650496e-06, 'epoch': 9.24}\n",
      "{'loss': 2.4275, 'grad_norm': 3.45175838470459, 'learning_rate': 3.6975503274314823e-06, 'epoch': 9.27}\n",
      "{'loss': 2.4226, 'grad_norm': 4.052525520324707, 'learning_rate': 3.576279408197914e-06, 'epoch': 9.29}\n",
      "{'loss': 2.412, 'grad_norm': 3.637139320373535, 'learning_rate': 3.455008488964347e-06, 'epoch': 9.31}\n",
      "{'loss': 2.4316, 'grad_norm': 3.8057329654693604, 'learning_rate': 3.3337375697307787e-06, 'epoch': 9.34}\n",
      "{'loss': 2.4382, 'grad_norm': 3.7995517253875732, 'learning_rate': 3.212466650497211e-06, 'epoch': 9.36}\n",
      "{'loss': 2.4229, 'grad_norm': 3.7787563800811768, 'learning_rate': 3.0911957312636433e-06, 'epoch': 9.39}\n",
      "{'loss': 2.4277, 'grad_norm': 3.6477301120758057, 'learning_rate': 2.971137521222411e-06, 'epoch': 9.41}\n",
      "{'loss': 2.427, 'grad_norm': 3.639378070831299, 'learning_rate': 2.849866601988843e-06, 'epoch': 9.43}\n",
      "{'loss': 2.4534, 'grad_norm': 3.666452407836914, 'learning_rate': 2.7285956827552754e-06, 'epoch': 9.46}\n",
      "{'loss': 2.3922, 'grad_norm': 3.4955086708068848, 'learning_rate': 2.6073247635217077e-06, 'epoch': 9.48}\n",
      "{'loss': 2.4682, 'grad_norm': 3.8196520805358887, 'learning_rate': 2.48605384428814e-06, 'epoch': 9.51}\n",
      "{'loss': 2.4214, 'grad_norm': 3.724975347518921, 'learning_rate': 2.364782925054572e-06, 'epoch': 9.53}\n",
      "{'loss': 2.4409, 'grad_norm': 3.6628940105438232, 'learning_rate': 2.243512005821004e-06, 'epoch': 9.56}\n",
      "{'loss': 2.4329, 'grad_norm': 3.762755870819092, 'learning_rate': 2.1222410865874364e-06, 'epoch': 9.58}\n",
      "{'loss': 2.4209, 'grad_norm': 3.78593373298645, 'learning_rate': 2.0009701673538686e-06, 'epoch': 9.6}\n",
      "{'loss': 2.3932, 'grad_norm': 3.668877124786377, 'learning_rate': 1.8796992481203007e-06, 'epoch': 9.63}\n",
      "{'loss': 2.4239, 'grad_norm': 3.687542676925659, 'learning_rate': 1.758428328886733e-06, 'epoch': 9.65}\n",
      "{'loss': 2.3871, 'grad_norm': 3.8538978099823, 'learning_rate': 1.637157409653165e-06, 'epoch': 9.68}\n",
      "{'loss': 2.4155, 'grad_norm': 3.7308168411254883, 'learning_rate': 1.5158864904195975e-06, 'epoch': 9.7}\n",
      "{'loss': 2.4042, 'grad_norm': 3.3461124897003174, 'learning_rate': 1.3946155711860296e-06, 'epoch': 9.73}\n",
      "{'loss': 2.4146, 'grad_norm': 3.8955209255218506, 'learning_rate': 1.273344651952462e-06, 'epoch': 9.75}\n",
      "{'loss': 2.4145, 'grad_norm': 4.313785076141357, 'learning_rate': 1.1520737327188942e-06, 'epoch': 9.77}\n",
      "{'loss': 2.38, 'grad_norm': 3.65417218208313, 'learning_rate': 1.0308028134853262e-06, 'epoch': 9.8}\n",
      "{'loss': 2.4068, 'grad_norm': 3.979254722595215, 'learning_rate': 9.095318942517585e-07, 'epoch': 9.82}\n",
      "{'loss': 2.3965, 'grad_norm': 3.5118558406829834, 'learning_rate': 7.882609750181907e-07, 'epoch': 9.85}\n",
      "{'loss': 2.3972, 'grad_norm': 3.7378923892974854, 'learning_rate': 6.669900557846229e-07, 'epoch': 9.87}\n",
      "{'loss': 2.4095, 'grad_norm': 3.8466098308563232, 'learning_rate': 5.469318457433907e-07, 'epoch': 9.9}\n",
      "{'loss': 2.4218, 'grad_norm': 4.0457940101623535, 'learning_rate': 4.25660926509823e-07, 'epoch': 9.92}\n",
      "{'loss': 2.3908, 'grad_norm': 3.7456204891204834, 'learning_rate': 3.0439000727625515e-07, 'epoch': 9.94}\n",
      "{'loss': 2.4111, 'grad_norm': 3.729140043258667, 'learning_rate': 1.8311908804268738e-07, 'epoch': 9.97}\n",
      "{'loss': 2.4165, 'grad_norm': 3.5997979640960693, 'learning_rate': 6.184816880911958e-08, 'epoch': 9.99}\n"
     ]
    },
    {
     "data": {
      "application/vnd.jupyter.widget-view+json": {
       "model_id": "ca0ba7c61d0844d29bbaa9bdf5f536dd",
       "version_major": 2,
       "version_minor": 0
      },
      "text/plain": [
       "  0%|          | 0/230 [00:00<?, ?it/s]"
      ]
     },
     "metadata": {},
     "output_type": "display_data"
    },
    {
     "name": "stdout",
     "output_type": "stream",
     "text": [
      "{'eval_loss': 3.466836929321289, 'eval_runtime': 6.1701, 'eval_samples_per_second': 297.08, 'eval_steps_per_second': 37.277, 'epoch': 10.0}\n"
     ]
    },
    {
     "name": "stderr",
     "output_type": "stream",
     "text": [
      "There were missing keys in the checkpoint model loaded: ['lm_head.weight'].\n"
     ]
    },
    {
     "name": "stdout",
     "output_type": "stream",
     "text": [
      "{'train_runtime': 4081.7739, 'train_samples_per_second': 40.404, 'train_steps_per_second': 10.101, 'train_loss': 2.8179512214521862, 'epoch': 10.0}\n"
     ]
    },
    {
     "data": {
      "text/plain": [
       "TrainOutput(global_step=41230, training_loss=2.8179512214521862, metrics={'train_runtime': 4081.7739, 'train_samples_per_second': 40.404, 'train_steps_per_second': 10.101, 'total_flos': 1.077307047936e+16, 'train_loss': 2.8179512214521862, 'epoch': 10.0})"
      ]
     },
     "execution_count": 41,
     "metadata": {},
     "output_type": "execute_result"
    }
   ],
   "source": [
    "from transformers import AutoModelForCausalLM\n",
    "from transformers import Trainer, EarlyStoppingCallback\n",
    "\n",
    "# Load pre-trained GPT-2 model\n",
    "model = AutoModelForCausalLM.from_pretrained(\"gpt2\")\n",
    "\n",
    "# Define Trainer\n",
    "trainer = Trainer(\n",
    "    model=model,\n",
    "    args=training_args,\n",
    "    train_dataset=lm_datasets[\"train\"],\n",
    "    eval_dataset=lm_datasets[\"validation\"],\n",
    "    tokenizer=tokenizer,\n",
    "    data_collator=data_collator,\n",
    "    callbacks=[],\n",
    ")\n",
    "\n",
    "# Start training\n",
    "trainer.train()\n"
   ]
  },
  {
   "cell_type": "code",
   "execution_count": 42,
   "metadata": {},
   "outputs": [
    {
     "name": "stderr",
     "output_type": "stream",
     "text": [
      "/home/dharun/Desktop/wikitext/lib/python3.12/site-packages/huggingface_hub/file_download.py:943: FutureWarning: `resume_download` is deprecated and will be removed in version 1.0.0. Downloads always resume when possible. If you want to force a new download, use `force_download=True`.\n",
      "  warnings.warn(\n"
     ]
    }
   ],
   "source": [
    "from transformers import GPT2Config, GPT2LMHeadModel\n",
    "\n",
    "# Load GPT2 config with dropout\n",
    "config = GPT2Config.from_pretrained(\n",
    "    \"gpt2\",\n",
    "    attn_pdrop=0.3,     # Dropout in attention layers\n",
    "    resid_pdrop=0.3,    # Dropout in residual connections\n",
    "    embd_pdrop=0.3      # Dropout in embedding layers\n",
    ")\n",
    "\n",
    "# Load model with the modified config\n",
    "model = GPT2LMHeadModel.from_pretrained(\"gpt2\", config=config)\n"
   ]
  },
  {
   "cell_type": "code",
   "execution_count": 43,
   "metadata": {},
   "outputs": [
    {
     "name": "stdout",
     "output_type": "stream",
     "text": [
      "Dropout settings:\n",
      "Attention dropout: 0.3\n",
      "Residual dropout: 0.3\n",
      "Embedding dropout: 0.3\n"
     ]
    }
   ],
   "source": [
    "print(\"Dropout settings:\")\n",
    "print(\"Attention dropout:\", model.config.attn_pdrop)\n",
    "print(\"Residual dropout:\", model.config.resid_pdrop)\n",
    "print(\"Embedding dropout:\", model.config.embd_pdrop)\n"
   ]
  },
  {
   "cell_type": "code",
   "execution_count": 54,
   "metadata": {},
   "outputs": [],
   "source": [
    "training_args = TrainingArguments(\n",
    "    output_dir=\"./gpt2-wikitext\",\n",
    "    per_device_train_batch_size=4,\n",
    "    num_train_epochs=10,\n",
    "    save_strategy=\"epoch\",\n",
    "    evaluation_strategy=\"epoch\",\n",
    "    logging_dir=\"./gpt2-wikitext/logs\",\n",
    "    logging_steps=100,\n",
    "    learning_rate=3e-5,\n",
    "    weight_decay=0.01,\n",
    "    load_best_model_at_end=True,\n",
    "    metric_for_best_model=\"eval_loss\",\n",
    "    save_total_limit=2,\n",
    "    gradient_accumulation_steps=1,\n",
    "    max_grad_norm=1.0,  # gradient clipping\n",
    "    lr_scheduler_type=\"cosine\",\n",
    "    warmup_steps=200\n",
    ")\n",
    "\n"
   ]
  },
  {
   "cell_type": "code",
   "execution_count": 55,
   "metadata": {},
   "outputs": [
    {
     "data": {
      "application/vnd.jupyter.widget-view+json": {
       "model_id": "b1f8e5c4e9e5431c926dbd3c9c2a4100",
       "version_major": 2,
       "version_minor": 0
      },
      "text/plain": [
       "  0%|          | 0/41230 [00:00<?, ?it/s]"
      ]
     },
     "metadata": {},
     "output_type": "display_data"
    },
    {
     "name": "stdout",
     "output_type": "stream",
     "text": [
      "{'loss': 3.6815, 'grad_norm': 3.642857789993286, 'learning_rate': 1.5e-05, 'epoch': 0.02}\n",
      "{'loss': 3.6198, 'grad_norm': 3.91172456741333, 'learning_rate': 2.985e-05, 'epoch': 0.05}\n",
      "{'loss': 3.5843, 'grad_norm': 3.7768661975860596, 'learning_rate': 2.999956905059594e-05, 'epoch': 0.07}\n",
      "{'loss': 3.5989, 'grad_norm': 3.631192207336426, 'learning_rate': 2.9998258771667468e-05, 'epoch': 0.1}\n",
      "{'loss': 3.5708, 'grad_norm': 3.604297637939453, 'learning_rate': 2.9996069196061623e-05, 'epoch': 0.12}\n",
      "{'loss': 3.5724, 'grad_norm': 3.6123387813568115, 'learning_rate': 2.999300045214573e-05, 'epoch': 0.15}\n",
      "{'loss': 3.53, 'grad_norm': 3.571381092071533, 'learning_rate': 2.998905271982977e-05, 'epoch': 0.17}\n",
      "{'loss': 3.5002, 'grad_norm': 3.547060251235962, 'learning_rate': 2.9984226230555803e-05, 'epoch': 0.19}\n",
      "{'loss': 3.5068, 'grad_norm': 3.5458881855010986, 'learning_rate': 2.9978521267284406e-05, 'epoch': 0.22}\n",
      "{'loss': 3.5198, 'grad_norm': 3.423762559890747, 'learning_rate': 2.997193816447809e-05, 'epoch': 0.24}\n",
      "{'loss': 3.4981, 'grad_norm': 3.3469860553741455, 'learning_rate': 2.9964477308081676e-05, 'epoch': 0.27}\n",
      "{'loss': 3.4871, 'grad_norm': 3.653076410293579, 'learning_rate': 2.9956139135499694e-05, 'epoch': 0.29}\n",
      "{'loss': 3.5117, 'grad_norm': 3.4564828872680664, 'learning_rate': 2.9946924135570725e-05, 'epoch': 0.32}\n",
      "{'loss': 3.4988, 'grad_norm': 3.471724271774292, 'learning_rate': 2.993683284853873e-05, 'epoch': 0.34}\n",
      "{'loss': 3.5001, 'grad_norm': 3.594973564147949, 'learning_rate': 2.992586586602139e-05, 'epoch': 0.36}\n",
      "{'loss': 3.4632, 'grad_norm': 3.602447509765625, 'learning_rate': 2.9914023830975437e-05, 'epoch': 0.39}\n",
      "{'loss': 3.4463, 'grad_norm': 3.4764459133148193, 'learning_rate': 2.9901307437658926e-05, 'epoch': 0.41}\n",
      "{'loss': 3.522, 'grad_norm': 3.5924997329711914, 'learning_rate': 2.9887717431590563e-05, 'epoch': 0.44}\n",
      "{'loss': 3.5208, 'grad_norm': 4.074150562286377, 'learning_rate': 2.9873254609505974e-05, 'epoch': 0.46}\n",
      "{'loss': 3.4619, 'grad_norm': 3.6461024284362793, 'learning_rate': 2.9857919819311015e-05, 'epoch': 0.49}\n",
      "{'loss': 3.4895, 'grad_norm': 3.4958150386810303, 'learning_rate': 2.9841713960032053e-05, 'epoch': 0.51}\n",
      "{'loss': 3.4406, 'grad_norm': 3.434509754180908, 'learning_rate': 2.982463798176326e-05, 'epoch': 0.53}\n",
      "{'loss': 3.5126, 'grad_norm': 3.286309003829956, 'learning_rate': 2.9806692885610902e-05, 'epoch': 0.56}\n",
      "{'loss': 3.5359, 'grad_norm': 3.9051623344421387, 'learning_rate': 2.978787972363467e-05, 'epoch': 0.58}\n",
      "{'loss': 3.4964, 'grad_norm': 3.6250030994415283, 'learning_rate': 2.976840068775437e-05, 'epoch': 0.61}\n",
      "{'loss': 3.4934, 'grad_norm': 3.493497371673584, 'learning_rate': 2.9747863406024734e-05, 'epoch': 0.63}\n",
      "{'loss': 3.504, 'grad_norm': 3.4350414276123047, 'learning_rate': 2.9726461507442654e-05, 'epoch': 0.65}\n",
      "{'loss': 3.4917, 'grad_norm': 3.591003179550171, 'learning_rate': 2.9704196246728326e-05, 'epoch': 0.68}\n",
      "{'loss': 3.4673, 'grad_norm': 3.404048442840576, 'learning_rate': 2.968106892921793e-05, 'epoch': 0.7}\n",
      "{'loss': 3.5074, 'grad_norm': 3.618211269378662, 'learning_rate': 2.9657080910787087e-05, 'epoch': 0.73}\n",
      "{'loss': 3.474, 'grad_norm': 3.346247911453247, 'learning_rate': 2.9632233597771386e-05, 'epoch': 0.75}\n",
      "{'loss': 3.5053, 'grad_norm': 3.6644365787506104, 'learning_rate': 2.9606528446883892e-05, 'epoch': 0.78}\n",
      "{'loss': 3.4655, 'grad_norm': 3.5365819931030273, 'learning_rate': 2.95799669651298e-05, 'epoch': 0.8}\n",
      "{'loss': 3.4985, 'grad_norm': 4.936539649963379, 'learning_rate': 2.9552550709718053e-05, 'epoch': 0.82}\n",
      "{'loss': 3.4985, 'grad_norm': 3.412590265274048, 'learning_rate': 2.952428128797005e-05, 'epoch': 0.85}\n",
      "{'loss': 3.4905, 'grad_norm': 3.5832467079162598, 'learning_rate': 2.949516035722542e-05, 'epoch': 0.87}\n",
      "{'loss': 3.4678, 'grad_norm': 3.4740612506866455, 'learning_rate': 2.9465189624744848e-05, 'epoch': 0.9}\n",
      "{'loss': 3.5003, 'grad_norm': 3.4716808795928955, 'learning_rate': 2.943437084761001e-05, 'epoch': 0.92}\n",
      "{'loss': 3.4686, 'grad_norm': 3.5891923904418945, 'learning_rate': 2.9402705832620518e-05, 'epoch': 0.95}\n",
      "{'loss': 3.4796, 'grad_norm': 3.5818161964416504, 'learning_rate': 2.9370196436188047e-05, 'epoch': 0.97}\n",
      "{'loss': 3.4815, 'grad_norm': 3.359700918197632, 'learning_rate': 2.9336844564227444e-05, 'epoch': 0.99}\n"
     ]
    },
    {
     "data": {
      "application/vnd.jupyter.widget-view+json": {
       "model_id": "21a08588768f45fa81d030a3ef004c8b",
       "version_major": 2,
       "version_minor": 0
      },
      "text/plain": [
       "  0%|          | 0/230 [00:00<?, ?it/s]"
      ]
     },
     "metadata": {},
     "output_type": "display_data"
    },
    {
     "name": "stdout",
     "output_type": "stream",
     "text": [
      "{'eval_loss': 3.4571456909179688, 'eval_runtime': 5.7925, 'eval_samples_per_second': 316.442, 'eval_steps_per_second': 39.706, 'epoch': 1.0}\n",
      "{'loss': 3.4144, 'grad_norm': 3.485236406326294, 'learning_rate': 2.9302652172045038e-05, 'epoch': 1.02}\n",
      "{'loss': 3.3766, 'grad_norm': 3.5820863246917725, 'learning_rate': 2.926762126422398e-05, 'epoch': 1.04}\n",
      "{'loss': 3.3882, 'grad_norm': 3.5894737243652344, 'learning_rate': 2.9231753894506733e-05, 'epoch': 1.07}\n",
      "{'loss': 3.4319, 'grad_norm': 4.0688958168029785, 'learning_rate': 2.919505216567465e-05, 'epoch': 1.09}\n",
      "{'loss': 3.4084, 'grad_norm': 3.598224401473999, 'learning_rate': 2.9157518229424728e-05, 'epoch': 1.12}\n",
      "{'loss': 3.4297, 'grad_norm': 3.456059694290161, 'learning_rate': 2.9119154286243426e-05, 'epoch': 1.14}\n",
      "{'loss': 3.4222, 'grad_norm': 3.7296316623687744, 'learning_rate': 2.907996258527768e-05, 'epoch': 1.16}\n",
      "{'loss': 3.4116, 'grad_norm': 3.5644776821136475, 'learning_rate': 2.9039945424203047e-05, 'epoch': 1.19}\n",
      "{'loss': 3.4191, 'grad_norm': 5.902468204498291, 'learning_rate': 2.899951761843278e-05, 'epoch': 1.21}\n",
      "{'loss': 3.4502, 'grad_norm': 3.38075852394104, 'learning_rate': 2.8957864818792206e-05, 'epoch': 1.24}\n",
      "{'loss': 3.4227, 'grad_norm': 3.5831809043884277, 'learning_rate': 2.8915393717217696e-05, 'epoch': 1.26}\n",
      "{'loss': 3.4282, 'grad_norm': 3.4583823680877686, 'learning_rate': 2.8872106803644854e-05, 'epoch': 1.29}\n",
      "{'loss': 3.4089, 'grad_norm': 3.5595762729644775, 'learning_rate': 2.8828006615837556e-05, 'epoch': 1.31}\n",
      "{'loss': 3.424, 'grad_norm': 3.39593768119812, 'learning_rate': 2.878309573923917e-05, 'epoch': 1.33}\n",
      "{'loss': 3.3877, 'grad_norm': 4.0574517250061035, 'learning_rate': 2.8737376806820964e-05, 'epoch': 1.36}\n",
      "{'loss': 3.4156, 'grad_norm': 3.600029945373535, 'learning_rate': 2.8690852498927782e-05, 'epoch': 1.38}\n",
      "{'loss': 3.3815, 'grad_norm': 3.6902318000793457, 'learning_rate': 2.864352554312086e-05, 'epoch': 1.41}\n",
      "{'loss': 3.3854, 'grad_norm': 3.6661036014556885, 'learning_rate': 2.8595398714017944e-05, 'epoch': 1.43}\n",
      "{'loss': 3.412, 'grad_norm': 3.5133237838745117, 'learning_rate': 2.8546474833130623e-05, 'epoch': 1.46}\n",
      "{'loss': 3.4452, 'grad_norm': 3.6031174659729004, 'learning_rate': 2.8496756768698918e-05, 'epoch': 1.48}\n",
      "{'loss': 3.4108, 'grad_norm': 3.4125518798828125, 'learning_rate': 2.8446247435523095e-05, 'epoch': 1.5}\n",
      "{'loss': 3.3821, 'grad_norm': 3.503411054611206, 'learning_rate': 2.8394949794792826e-05, 'epoch': 1.53}\n",
      "{'loss': 3.4868, 'grad_norm': 3.3794009685516357, 'learning_rate': 2.8342866853913548e-05, 'epoch': 1.55}\n",
      "{'loss': 3.4308, 'grad_norm': 3.6783084869384766, 'learning_rate': 2.8290001666330172e-05, 'epoch': 1.58}\n",
      "{'loss': 3.4848, 'grad_norm': 3.4497692584991455, 'learning_rate': 2.823635733134806e-05, 'epoch': 1.6}\n",
      "{'loss': 3.4352, 'grad_norm': 3.4430782794952393, 'learning_rate': 2.818193699395131e-05, 'epoch': 1.63}\n",
      "{'loss': 3.3852, 'grad_norm': 3.5788090229034424, 'learning_rate': 2.8126743844618416e-05, 'epoch': 1.65}\n",
      "{'loss': 3.4403, 'grad_norm': 4.018886566162109, 'learning_rate': 2.8070781119135174e-05, 'epoch': 1.67}\n",
      "{'loss': 3.4179, 'grad_norm': 3.336580991744995, 'learning_rate': 2.801405209840501e-05, 'epoch': 1.7}\n",
      "{'loss': 3.4236, 'grad_norm': 3.703848123550415, 'learning_rate': 2.7956560108256628e-05, 'epoch': 1.72}\n",
      "{'loss': 3.4589, 'grad_norm': 3.5768003463745117, 'learning_rate': 2.7898308519249007e-05, 'epoch': 1.75}\n",
      "{'loss': 3.3978, 'grad_norm': 3.7812793254852295, 'learning_rate': 2.7839300746473826e-05, 'epoch': 1.77}\n",
      "{'loss': 3.4866, 'grad_norm': 3.7292089462280273, 'learning_rate': 2.7780141568844485e-05, 'epoch': 1.79}\n",
      "{'loss': 3.4778, 'grad_norm': 4.081672191619873, 'learning_rate': 2.7719639325657193e-05, 'epoch': 1.82}\n",
      "{'loss': 3.4756, 'grad_norm': 4.123957633972168, 'learning_rate': 2.7658391373466816e-05, 'epoch': 1.84}\n",
      "{'loss': 3.4212, 'grad_norm': 3.6345338821411133, 'learning_rate': 2.7596401303031578e-05, 'epoch': 1.87}\n",
      "{'loss': 3.4497, 'grad_norm': 3.300151824951172, 'learning_rate': 2.7533672748617545e-05, 'epoch': 1.89}\n",
      "{'loss': 3.519, 'grad_norm': 3.438506841659546, 'learning_rate': 2.7470209387785576e-05, 'epoch': 1.92}\n",
      "{'loss': 3.4456, 'grad_norm': 3.3111722469329834, 'learning_rate': 2.7406014941175733e-05, 'epoch': 1.94}\n",
      "{'loss': 3.4255, 'grad_norm': 3.4380269050598145, 'learning_rate': 2.7341093172289123e-05, 'epoch': 1.96}\n",
      "{'loss': 3.4498, 'grad_norm': 3.742130994796753, 'learning_rate': 2.727544788726729e-05, 'epoch': 1.99}\n"
     ]
    },
    {
     "data": {
      "application/vnd.jupyter.widget-view+json": {
       "model_id": "a053bb6bccdd47eabc0893647e5845d6",
       "version_major": 2,
       "version_minor": 0
      },
      "text/plain": [
       "  0%|          | 0/230 [00:00<?, ?it/s]"
      ]
     },
     "metadata": {},
     "output_type": "display_data"
    },
    {
     "name": "stdout",
     "output_type": "stream",
     "text": [
      "{'eval_loss': 3.440958261489868, 'eval_runtime': 6.1417, 'eval_samples_per_second': 298.453, 'eval_steps_per_second': 37.449, 'epoch': 2.0}\n",
      "{'loss': 3.4063, 'grad_norm': 3.73978590965271, 'learning_rate': 2.720908293466904e-05, 'epoch': 2.01}\n",
      "{'loss': 3.3703, 'grad_norm': 3.4934959411621094, 'learning_rate': 2.7142002205244842e-05, 'epoch': 2.04}\n",
      "{'loss': 3.3432, 'grad_norm': 3.7272908687591553, 'learning_rate': 2.707420963170872e-05, 'epoch': 2.06}\n",
      "{'loss': 3.3506, 'grad_norm': 3.589021682739258, 'learning_rate': 2.700570918850767e-05, 'epoch': 2.09}\n",
      "{'loss': 3.3455, 'grad_norm': 3.3920819759368896, 'learning_rate': 2.6936504891588682e-05, 'epoch': 2.11}\n",
      "{'loss': 3.3696, 'grad_norm': 3.6364176273345947, 'learning_rate': 2.6866600798163278e-05, 'epoch': 2.13}\n",
      "{'loss': 3.3719, 'grad_norm': 3.490694522857666, 'learning_rate': 2.6796001006469666e-05, 'epoch': 2.16}\n",
      "{'loss': 3.3782, 'grad_norm': 3.481168746948242, 'learning_rate': 2.672470965553246e-05, 'epoch': 2.18}\n",
      "{'loss': 3.4214, 'grad_norm': 4.04633092880249, 'learning_rate': 2.665273092492003e-05, 'epoch': 2.21}\n",
      "{'loss': 3.4137, 'grad_norm': 3.5243232250213623, 'learning_rate': 2.658006903449948e-05, 'epoch': 2.23}\n",
      "{'loss': 3.4069, 'grad_norm': 3.7873520851135254, 'learning_rate': 2.650672824418922e-05, 'epoch': 2.26}\n",
      "{'loss': 3.4128, 'grad_norm': 4.0615739822387695, 'learning_rate': 2.6433456332669568e-05, 'epoch': 2.28}\n",
      "{'loss': 3.4393, 'grad_norm': 3.4044244289398193, 'learning_rate': 2.6358777362289788e-05, 'epoch': 2.3}\n",
      "{'loss': 3.3924, 'grad_norm': 3.5645508766174316, 'learning_rate': 2.6283432465595106e-05, 'epoch': 2.33}\n",
      "{'loss': 3.4166, 'grad_norm': 3.72153902053833, 'learning_rate': 2.6207426059799432e-05, 'epoch': 2.35}\n",
      "{'loss': 3.4147, 'grad_norm': 3.4361491203308105, 'learning_rate': 2.6130762600898705e-05, 'epoch': 2.38}\n",
      "{'loss': 3.3946, 'grad_norm': 3.5339980125427246, 'learning_rate': 2.6053446583409636e-05, 'epoch': 2.4}\n",
      "{'loss': 3.4068, 'grad_norm': 3.3757574558258057, 'learning_rate': 2.597548254010621e-05, 'epoch': 2.43}\n",
      "{'loss': 3.4074, 'grad_norm': 3.6949310302734375, 'learning_rate': 2.589687504175396e-05, 'epoch': 2.45}\n",
      "{'loss': 3.4211, 'grad_norm': 3.5712954998016357, 'learning_rate': 2.5817628696842e-05, 'epoch': 2.47}\n",
      "{'loss': 3.4492, 'grad_norm': 3.5368003845214844, 'learning_rate': 2.573774815131281e-05, 'epoch': 2.5}\n",
      "{'loss': 3.4436, 'grad_norm': 3.673213481903076, 'learning_rate': 2.565723808828991e-05, 'epoch': 2.52}\n",
      "{'loss': 3.4229, 'grad_norm': 3.5347964763641357, 'learning_rate': 2.557610322780327e-05, 'epoch': 2.55}\n",
      "{'loss': 3.4478, 'grad_norm': 3.526038408279419, 'learning_rate': 2.54943483265126e-05, 'epoch': 2.57}\n",
      "{'loss': 3.4238, 'grad_norm': 3.357714891433716, 'learning_rate': 2.5411978177428483e-05, 'epoch': 2.6}\n",
      "{'loss': 3.4384, 'grad_norm': 3.677581548690796, 'learning_rate': 2.5328997609631387e-05, 'epoch': 2.62}\n",
      "{'loss': 3.4195, 'grad_norm': 3.6890268325805664, 'learning_rate': 2.5245411487988536e-05, 'epoch': 2.64}\n",
      "{'loss': 3.4314, 'grad_norm': 3.5196433067321777, 'learning_rate': 2.5161224712868706e-05, 'epoch': 2.67}\n",
      "{'loss': 3.4125, 'grad_norm': 3.4774959087371826, 'learning_rate': 2.5076442219854944e-05, 'epoch': 2.69}\n",
      "{'loss': 3.4637, 'grad_norm': 3.4031505584716797, 'learning_rate': 2.49910689794552e-05, 'epoch': 2.72}\n",
      "{'loss': 3.4225, 'grad_norm': 3.4727768898010254, 'learning_rate': 2.4905109996810908e-05, 'epoch': 2.74}\n",
      "{'loss': 3.4493, 'grad_norm': 3.4572339057922363, 'learning_rate': 2.4819438566105504e-05, 'epoch': 2.76}\n",
      "{'loss': 3.4729, 'grad_norm': 3.343961715698242, 'learning_rate': 2.4732328982528654e-05, 'epoch': 2.79}\n",
      "{'loss': 3.3926, 'grad_norm': 3.387378692626953, 'learning_rate': 2.4644648825749428e-05, 'epoch': 2.81}\n",
      "{'loss': 3.4568, 'grad_norm': 3.681387186050415, 'learning_rate': 2.4556403236155888e-05, 'epoch': 2.84}\n",
      "{'loss': 3.4703, 'grad_norm': 3.4520931243896484, 'learning_rate': 2.4468488201989557e-05, 'epoch': 2.86}\n",
      "{'loss': 3.4655, 'grad_norm': 3.35190486907959, 'learning_rate': 2.4379132824876133e-05, 'epoch': 2.89}\n",
      "{'loss': 3.4647, 'grad_norm': 3.838747024536133, 'learning_rate': 2.4289227581244527e-05, 'epoch': 2.91}\n",
      "{'loss': 3.4593, 'grad_norm': 3.431090831756592, 'learning_rate': 2.4198777741932042e-05, 'epoch': 2.93}\n",
      "{'loss': 3.4574, 'grad_norm': 3.459184169769287, 'learning_rate': 2.4107788609703796e-05, 'epoch': 2.96}\n",
      "{'loss': 3.4638, 'grad_norm': 3.126516342163086, 'learning_rate': 2.401626551894178e-05, 'epoch': 2.98}\n"
     ]
    },
    {
     "data": {
      "application/vnd.jupyter.widget-view+json": {
       "model_id": "6386a6e147654ea294ed4523edddb86d",
       "version_major": 2,
       "version_minor": 0
      },
      "text/plain": [
       "  0%|          | 0/230 [00:00<?, ?it/s]"
      ]
     },
     "metadata": {},
     "output_type": "display_data"
    },
    {
     "name": "stdout",
     "output_type": "stream",
     "text": [
      "{'eval_loss': 3.4251818656921387, 'eval_runtime': 5.6603, 'eval_samples_per_second': 323.832, 'eval_steps_per_second': 40.634, 'epoch': 3.0}\n",
      "{'loss': 3.45, 'grad_norm': 3.3187975883483887, 'learning_rate': 2.392421383533216e-05, 'epoch': 3.01}\n",
      "{'loss': 3.3687, 'grad_norm': 3.597601890563965, 'learning_rate': 2.3831638955550703e-05, 'epoch': 3.03}\n",
      "{'loss': 3.3599, 'grad_norm': 3.436462879180908, 'learning_rate': 2.373854630694636e-05, 'epoch': 3.06}\n",
      "{'loss': 3.3591, 'grad_norm': 3.5962727069854736, 'learning_rate': 2.3644941347223125e-05, 'epoch': 3.08}\n",
      "{'loss': 3.3832, 'grad_norm': 3.62956166267395, 'learning_rate': 2.3550829564120024e-05, 'epoch': 3.1}\n",
      "{'loss': 3.3833, 'grad_norm': 3.4559988975524902, 'learning_rate': 2.345621647508941e-05, 'epoch': 3.13}\n",
      "{'loss': 3.3788, 'grad_norm': 3.393937110900879, 'learning_rate': 2.3361107626973494e-05, 'epoch': 3.15}\n",
      "{'loss': 3.4593, 'grad_norm': 3.66882061958313, 'learning_rate': 2.3265508595679154e-05, 'epoch': 3.18}\n",
      "{'loss': 3.3817, 'grad_norm': 3.421168804168701, 'learning_rate': 2.3169424985851013e-05, 'epoch': 3.2}\n",
      "{'loss': 3.385, 'grad_norm': 3.9055702686309814, 'learning_rate': 2.3072862430542903e-05, 'epoch': 3.23}\n",
      "{'loss': 3.4086, 'grad_norm': 3.5871660709381104, 'learning_rate': 2.2975826590887577e-05, 'epoch': 3.25}\n",
      "{'loss': 3.3863, 'grad_norm': 3.412719964981079, 'learning_rate': 2.287832315576484e-05, 'epoch': 3.27}\n",
      "{'loss': 3.411, 'grad_norm': 3.769533395767212, 'learning_rate': 2.278035784146801e-05, 'epoch': 3.3}\n",
      "{'loss': 3.4007, 'grad_norm': 3.628209352493286, 'learning_rate': 2.2681936391368824e-05, 'epoch': 3.32}\n",
      "{'loss': 3.3896, 'grad_norm': 3.762600898742676, 'learning_rate': 2.258306457558069e-05, 'epoch': 3.35}\n",
      "{'loss': 3.4019, 'grad_norm': 3.23408842086792, 'learning_rate': 2.248374819062041e-05, 'epoch': 3.37}\n",
      "{'loss': 3.4006, 'grad_norm': 3.647162914276123, 'learning_rate': 2.238399305906837e-05, 'epoch': 3.4}\n",
      "{'loss': 3.4263, 'grad_norm': 3.4038407802581787, 'learning_rate': 2.2283805029227175e-05, 'epoch': 3.42}\n",
      "{'loss': 3.4507, 'grad_norm': 3.8032610416412354, 'learning_rate': 2.2183189974778768e-05, 'epoch': 3.44}\n",
      "{'loss': 3.4533, 'grad_norm': 3.8091506958007812, 'learning_rate': 2.2082153794440077e-05, 'epoch': 3.47}\n",
      "{'loss': 3.4537, 'grad_norm': 3.4274556636810303, 'learning_rate': 2.198070241161723e-05, 'epoch': 3.49}\n",
      "{'loss': 3.4129, 'grad_norm': 3.497328758239746, 'learning_rate': 2.1878841774058223e-05, 'epoch': 3.52}\n",
      "{'loss': 3.426, 'grad_norm': 3.145930767059326, 'learning_rate': 2.1776577853504294e-05, 'epoch': 3.54}\n",
      "{'loss': 3.4759, 'grad_norm': 3.625432252883911, 'learning_rate': 2.1673916645339762e-05, 'epoch': 3.57}\n",
      "{'loss': 3.4488, 'grad_norm': 3.312885284423828, 'learning_rate': 2.157086416824057e-05, 'epoch': 3.59}\n",
      "{'loss': 3.4338, 'grad_norm': 3.404416799545288, 'learning_rate': 2.1467426463821417e-05, 'epoch': 3.61}\n",
      "{'loss': 3.4479, 'grad_norm': 3.4648635387420654, 'learning_rate': 2.1363609596281574e-05, 'epoch': 3.64}\n",
      "{'loss': 3.4298, 'grad_norm': 3.3603010177612305, 'learning_rate': 2.1259419652049334e-05, 'epoch': 3.66}\n",
      "{'loss': 3.4768, 'grad_norm': 3.5390961170196533, 'learning_rate': 2.1154862739425227e-05, 'epoch': 3.69}\n",
      "{'loss': 3.4511, 'grad_norm': 3.247265100479126, 'learning_rate': 2.1049944988223856e-05, 'epoch': 3.71}\n",
      "{'loss': 3.4201, 'grad_norm': 3.4596340656280518, 'learning_rate': 2.0944672549414582e-05, 'epoch': 3.74}\n",
      "{'loss': 3.4622, 'grad_norm': 3.7946417331695557, 'learning_rate': 2.0839051594760875e-05, 'epoch': 3.76}\n",
      "{'loss': 3.4324, 'grad_norm': 3.4614617824554443, 'learning_rate': 2.0733088316458506e-05, 'epoch': 3.78}\n",
      "{'loss': 3.4222, 'grad_norm': 3.3985750675201416, 'learning_rate': 2.0626788926772505e-05, 'epoch': 3.81}\n",
      "{'loss': 3.4181, 'grad_norm': 3.2159311771392822, 'learning_rate': 2.0520159657672967e-05, 'epoch': 3.83}\n",
      "{'loss': 3.4441, 'grad_norm': 3.3121674060821533, 'learning_rate': 2.0413206760469703e-05, 'epoch': 3.86}\n",
      "{'loss': 3.3869, 'grad_norm': 3.2281148433685303, 'learning_rate': 2.0305936505445705e-05, 'epoch': 3.88}\n",
      "{'loss': 3.4299, 'grad_norm': 3.4283316135406494, 'learning_rate': 2.01983551814896e-05, 'epoch': 3.9}\n",
      "{'loss': 3.4197, 'grad_norm': 3.573604106903076, 'learning_rate': 2.009046909572691e-05, 'epoch': 3.93}\n",
      "{'loss': 3.4288, 'grad_norm': 3.4158260822296143, 'learning_rate': 1.998228457315029e-05, 'epoch': 3.95}\n",
      "{'loss': 3.4683, 'grad_norm': 3.290325164794922, 'learning_rate': 1.9873807956248754e-05, 'epoch': 3.98}\n"
     ]
    },
    {
     "data": {
      "application/vnd.jupyter.widget-view+json": {
       "model_id": "dce58af558db484ca1f84ad0d821c3f8",
       "version_major": 2,
       "version_minor": 0
      },
      "text/plain": [
       "  0%|          | 0/230 [00:00<?, ?it/s]"
      ]
     },
     "metadata": {},
     "output_type": "display_data"
    },
    {
     "name": "stdout",
     "output_type": "stream",
     "text": [
      "{'eval_loss': 3.4148571491241455, 'eval_runtime': 5.6458, 'eval_samples_per_second': 324.668, 'eval_steps_per_second': 40.739, 'epoch': 4.0}\n",
      "{'loss': 3.4694, 'grad_norm': 3.4820597171783447, 'learning_rate': 1.9765045604635785e-05, 'epoch': 4.0}\n",
      "{'loss': 3.3777, 'grad_norm': 3.50040864944458, 'learning_rate': 1.9656003894676526e-05, 'epoch': 4.03}\n",
      "{'loss': 3.358, 'grad_norm': 3.360164165496826, 'learning_rate': 1.9546689219113932e-05, 'epoch': 4.05}\n",
      "{'loss': 3.3534, 'grad_norm': 3.456012010574341, 'learning_rate': 1.943820509739301e-05, 'epoch': 4.07}\n",
      "{'loss': 3.3969, 'grad_norm': 3.6920840740203857, 'learning_rate': 1.9328366301962912e-05, 'epoch': 4.1}\n",
      "{'loss': 3.4186, 'grad_norm': 3.463125467300415, 'learning_rate': 1.9218273749202327e-05, 'epoch': 4.12}\n",
      "{'loss': 3.3661, 'grad_norm': 3.374051332473755, 'learning_rate': 1.910793389346155e-05, 'epoch': 4.15}\n",
      "{'loss': 3.3708, 'grad_norm': 3.495903968811035, 'learning_rate': 1.8997353203589397e-05, 'epoch': 4.17}\n",
      "{'loss': 3.3787, 'grad_norm': 3.407386302947998, 'learning_rate': 1.888653816255397e-05, 'epoch': 4.2}\n",
      "{'loss': 3.4162, 'grad_norm': 3.6036057472229004, 'learning_rate': 1.877549526706258e-05, 'epoch': 4.22}\n",
      "{'loss': 3.3707, 'grad_norm': 3.443152666091919, 'learning_rate': 1.8664231027180862e-05, 'epoch': 4.24}\n",
      "{'loss': 3.4227, 'grad_norm': 3.5389578342437744, 'learning_rate': 1.8552751965951117e-05, 'epoch': 4.27}\n",
      "{'loss': 3.3837, 'grad_norm': 3.4179418087005615, 'learning_rate': 1.8441064619009893e-05, 'epoch': 4.29}\n",
      "{'loss': 3.4033, 'grad_norm': 3.421008825302124, 'learning_rate': 1.832917553420481e-05, 'epoch': 4.32}\n",
      "{'loss': 3.4045, 'grad_norm': 3.638329267501831, 'learning_rate': 1.8217091271210704e-05, 'epoch': 4.34}\n",
      "{'loss': 3.4072, 'grad_norm': 3.574092149734497, 'learning_rate': 1.8104818401145025e-05, 'epoch': 4.37}\n",
      "{'loss': 3.3677, 'grad_norm': 3.6325955390930176, 'learning_rate': 1.799236350618262e-05, 'epoch': 4.39}\n",
      "{'loss': 3.44, 'grad_norm': 3.533554792404175, 'learning_rate': 1.7879733179169824e-05, 'epoch': 4.41}\n",
      "{'loss': 3.4504, 'grad_norm': 3.1444408893585205, 'learning_rate': 1.7766934023237977e-05, 'epoch': 4.44}\n",
      "{'loss': 3.4465, 'grad_norm': 3.3840701580047607, 'learning_rate': 1.765510304636571e-05, 'epoch': 4.46}\n",
      "{'loss': 3.4501, 'grad_norm': 3.5825510025024414, 'learning_rate': 1.754198760431513e-05, 'epoch': 4.49}\n",
      "{'loss': 3.4065, 'grad_norm': 3.085585832595825, 'learning_rate': 1.74287231342148e-05, 'epoch': 4.51}\n",
      "{'loss': 3.4095, 'grad_norm': 3.827753782272339, 'learning_rate': 1.7315316276373685e-05, 'epoch': 4.54}\n",
      "{'loss': 3.4159, 'grad_norm': 3.3503267765045166, 'learning_rate': 1.7201773679448463e-05, 'epoch': 4.56}\n",
      "{'loss': 3.3816, 'grad_norm': 3.255497932434082, 'learning_rate': 1.708810200005372e-05, 'epoch': 4.58}\n",
      "{'loss': 3.3557, 'grad_norm': 3.8611745834350586, 'learning_rate': 1.6974307902371724e-05, 'epoch': 4.61}\n",
      "{'loss': 3.4044, 'grad_norm': 3.705293655395508, 'learning_rate': 1.6860398057761694e-05, 'epoch': 4.63}\n",
      "{'loss': 3.4381, 'grad_norm': 3.2876925468444824, 'learning_rate': 1.67463791443687e-05, 'epoch': 4.66}\n",
      "{'loss': 3.3883, 'grad_norm': 3.1035192012786865, 'learning_rate': 1.6632257846732145e-05, 'epoch': 4.68}\n",
      "{'loss': 3.4327, 'grad_norm': 3.514085531234741, 'learning_rate': 1.6518040855393863e-05, 'epoch': 4.71}\n",
      "{'loss': 3.423, 'grad_norm': 3.2082748413085938, 'learning_rate': 1.6403734866505892e-05, 'epoch': 4.73}\n",
      "{'loss': 3.4081, 'grad_norm': 3.857893466949463, 'learning_rate': 1.6289346581437895e-05, 'epoch': 4.75}\n",
      "{'loss': 3.4147, 'grad_norm': 3.387587070465088, 'learning_rate': 1.6174882706384262e-05, 'epoch': 4.78}\n",
      "{'loss': 3.4401, 'grad_norm': 3.4409711360931396, 'learning_rate': 1.606034995197098e-05, 'epoch': 4.8}\n",
      "{'loss': 3.4168, 'grad_norm': 3.3202643394470215, 'learning_rate': 1.5945755032862198e-05, 'epoch': 4.83}\n",
      "{'loss': 3.374, 'grad_norm': 3.448807716369629, 'learning_rate': 1.5831104667366555e-05, 'epoch': 4.85}\n",
      "{'loss': 3.4224, 'grad_norm': 3.317774772644043, 'learning_rate': 1.571640557704334e-05, 'epoch': 4.88}\n",
      "{'loss': 3.4014, 'grad_norm': 3.5231070518493652, 'learning_rate': 1.56016644863084e-05, 'epoch': 4.9}\n",
      "{'loss': 3.4045, 'grad_norm': 3.567274570465088, 'learning_rate': 1.5486888122039934e-05, 'epoch': 4.92}\n",
      "{'loss': 3.4253, 'grad_norm': 3.5072968006134033, 'learning_rate': 1.5372083213184086e-05, 'epoch': 4.95}\n",
      "{'loss': 3.4264, 'grad_norm': 3.3253068923950195, 'learning_rate': 1.5257256490360499e-05, 'epoch': 4.97}\n",
      "{'loss': 3.3837, 'grad_norm': 3.706289291381836, 'learning_rate': 1.5142414685467676e-05, 'epoch': 5.0}\n"
     ]
    },
    {
     "data": {
      "application/vnd.jupyter.widget-view+json": {
       "model_id": "5fdbbe01f31349768da7719ac9a31293",
       "version_major": 2,
       "version_minor": 0
      },
      "text/plain": [
       "  0%|          | 0/230 [00:00<?, ?it/s]"
      ]
     },
     "metadata": {},
     "output_type": "display_data"
    },
    {
     "name": "stdout",
     "output_type": "stream",
     "text": [
      "{'eval_loss': 3.410158395767212, 'eval_runtime': 5.9926, 'eval_samples_per_second': 305.875, 'eval_steps_per_second': 38.38, 'epoch': 5.0}\n",
      "{'loss': 3.3444, 'grad_norm': 3.845029354095459, 'learning_rate': 1.5027564531288338e-05, 'epoch': 5.02}\n",
      "{'loss': 3.3423, 'grad_norm': 3.101414203643799, 'learning_rate': 1.4912712761094687e-05, 'epoch': 5.04}\n",
      "{'loss': 3.3259, 'grad_norm': 3.411646842956543, 'learning_rate': 1.4797866108253675e-05, 'epoch': 5.07}\n",
      "{'loss': 3.336, 'grad_norm': 3.4787778854370117, 'learning_rate': 1.4683031305832248e-05, 'epoch': 5.09}\n",
      "{'loss': 3.3551, 'grad_norm': 3.4282066822052, 'learning_rate': 1.4568215086202587e-05, 'epoch': 5.12}\n",
      "{'loss': 3.3423, 'grad_norm': 3.3628621101379395, 'learning_rate': 1.4453424180647435e-05, 'epoch': 5.14}\n",
      "{'loss': 3.3642, 'grad_norm': 3.946956157684326, 'learning_rate': 1.4338665318965448e-05, 'epoch': 5.17}\n",
      "{'loss': 3.3319, 'grad_norm': 3.387077569961548, 'learning_rate': 1.4223945229076684e-05, 'epoch': 5.19}\n",
      "{'loss': 3.3471, 'grad_norm': 3.336555004119873, 'learning_rate': 1.4109270636628119e-05, 'epoch': 5.21}\n",
      "{'loss': 3.3987, 'grad_norm': 3.5750064849853516, 'learning_rate': 1.3994648264599372e-05, 'epoch': 5.24}\n",
      "{'loss': 3.3463, 'grad_norm': 3.628227949142456, 'learning_rate': 1.3880084832908563e-05, 'epoch': 5.26}\n",
      "{'loss': 3.3672, 'grad_norm': 3.4391965866088867, 'learning_rate': 1.3765587058018349e-05, 'epoch': 5.29}\n",
      "{'loss': 3.386, 'grad_norm': 3.3127779960632324, 'learning_rate': 1.3651161652542142e-05, 'epoch': 5.31}\n",
      "{'loss': 3.3408, 'grad_norm': 3.359022617340088, 'learning_rate': 1.353681532485058e-05, 'epoch': 5.34}\n",
      "{'loss': 3.3504, 'grad_norm': 3.4745991230010986, 'learning_rate': 1.3422554778678246e-05, 'epoch': 5.36}\n",
      "{'loss': 3.3765, 'grad_norm': 3.46165132522583, 'learning_rate': 1.3308386712730654e-05, 'epoch': 5.38}\n",
      "{'loss': 3.3249, 'grad_norm': 3.2743704319000244, 'learning_rate': 1.3194317820291502e-05, 'epoch': 5.41}\n",
      "{'loss': 3.3597, 'grad_norm': 3.491419792175293, 'learning_rate': 1.308149387318979e-05, 'epoch': 5.43}\n",
      "{'loss': 3.3921, 'grad_norm': 3.2835047245025635, 'learning_rate': 1.2967642225496436e-05, 'epoch': 5.46}\n",
      "{'loss': 3.3608, 'grad_norm': 3.4344518184661865, 'learning_rate': 1.2853909727996819e-05, 'epoch': 5.48}\n",
      "{'loss': 3.38, 'grad_norm': 3.184678554534912, 'learning_rate': 1.2740303048438755e-05, 'epoch': 5.51}\n",
      "{'loss': 3.3464, 'grad_norm': 3.4612598419189453, 'learning_rate': 1.2626828847193778e-05, 'epoch': 5.53}\n",
      "{'loss': 3.3557, 'grad_norm': 3.506364583969116, 'learning_rate': 1.2513493776866685e-05, 'epoch': 5.55}\n",
      "{'loss': 3.3758, 'grad_norm': 3.669503688812256, 'learning_rate': 1.2400304481905494e-05, 'epoch': 5.58}\n",
      "{'loss': 3.3663, 'grad_norm': 3.226426362991333, 'learning_rate': 1.2287267598211908e-05, 'epoch': 5.6}\n",
      "{'loss': 3.3696, 'grad_norm': 4.217936992645264, 'learning_rate': 1.2174389752752274e-05, 'epoch': 5.63}\n",
      "{'loss': 3.3701, 'grad_norm': 3.1827237606048584, 'learning_rate': 1.206167756316909e-05, 'epoch': 5.65}\n",
      "{'loss': 3.3734, 'grad_norm': 3.3541910648345947, 'learning_rate': 1.1949137637393003e-05, 'epoch': 5.68}\n",
      "{'loss': 3.3687, 'grad_norm': 3.425224781036377, 'learning_rate': 1.1836776573255415e-05, 'epoch': 5.7}\n",
      "{'loss': 3.3758, 'grad_norm': 3.3799870014190674, 'learning_rate': 1.1724600958101687e-05, 'epoch': 5.72}\n",
      "{'loss': 3.3171, 'grad_norm': 3.602712631225586, 'learning_rate': 1.1612617368404952e-05, 'epoch': 5.75}\n",
      "{'loss': 3.365, 'grad_norm': 3.4109621047973633, 'learning_rate': 1.1500832369380529e-05, 'epoch': 5.77}\n",
      "{'loss': 3.3994, 'grad_norm': 3.9077725410461426, 'learning_rate': 1.138925251460105e-05, 'epoch': 5.8}\n",
      "{'loss': 3.3837, 'grad_norm': 3.5829904079437256, 'learning_rate': 1.1277884345612237e-05, 'epoch': 5.82}\n",
      "{'loss': 3.4011, 'grad_norm': 3.276817798614502, 'learning_rate': 1.1166734391549412e-05, 'epoch': 5.85}\n",
      "{'loss': 3.3828, 'grad_norm': 3.536311388015747, 'learning_rate': 1.1055809168754685e-05, 'epoch': 5.87}\n",
      "{'loss': 3.3774, 'grad_norm': 3.2344441413879395, 'learning_rate': 1.0945115180394947e-05, 'epoch': 5.89}\n",
      "{'loss': 3.3603, 'grad_norm': 4.055510520935059, 'learning_rate': 1.0834658916080595e-05, 'epoch': 5.92}\n",
      "{'loss': 3.372, 'grad_norm': 3.241177558898926, 'learning_rate': 1.0725547742114516e-05, 'epoch': 5.94}\n",
      "{'loss': 3.3497, 'grad_norm': 3.3496947288513184, 'learning_rate': 1.0615583800048191e-05, 'epoch': 5.97}\n",
      "{'loss': 3.3698, 'grad_norm': 3.3469643592834473, 'learning_rate': 1.0505876901326397e-05, 'epoch': 5.99}\n"
     ]
    },
    {
     "data": {
      "application/vnd.jupyter.widget-view+json": {
       "model_id": "31563b7e64884463a5a99f6b1f78dce5",
       "version_major": 2,
       "version_minor": 0
      },
      "text/plain": [
       "  0%|          | 0/230 [00:00<?, ?it/s]"
      ]
     },
     "metadata": {},
     "output_type": "display_data"
    },
    {
     "name": "stdout",
     "output_type": "stream",
     "text": [
      "{'eval_loss': 3.404357433319092, 'eval_runtime': 5.5706, 'eval_samples_per_second': 329.051, 'eval_steps_per_second': 41.288, 'epoch': 6.0}\n",
      "{'loss': 3.3389, 'grad_norm': 3.395820140838623, 'learning_rate': 1.0396433477689848e-05, 'epoch': 6.02}\n",
      "{'loss': 3.3317, 'grad_norm': 3.206200122833252, 'learning_rate': 1.0287259945432614e-05, 'epoch': 6.04}\n",
      "{'loss': 3.2969, 'grad_norm': 3.4098598957061768, 'learning_rate': 1.017836270502595e-05, 'epoch': 6.06}\n",
      "{'loss': 3.3681, 'grad_norm': 3.2359981536865234, 'learning_rate': 1.0069748140743056e-05, 'epoch': 6.09}\n",
      "{'loss': 3.3535, 'grad_norm': 3.356358766555786, 'learning_rate': 9.961422620284822e-06, 'epoch': 6.11}\n",
      "{'loss': 3.3077, 'grad_norm': 3.445641279220581, 'learning_rate': 9.853392494406461e-06, 'epoch': 6.14}\n",
      "{'loss': 3.3159, 'grad_norm': 3.6580569744110107, 'learning_rate': 9.745664096545224e-06, 'epoch': 6.16}\n",
      "{'loss': 3.3395, 'grad_norm': 3.4215259552001953, 'learning_rate': 9.638243742449064e-06, 'epoch': 6.18}\n",
      "{'loss': 3.3409, 'grad_norm': 3.450392246246338, 'learning_rate': 9.531137729806407e-06, 'epoch': 6.21}\n",
      "{'loss': 3.2947, 'grad_norm': 3.520622491836548, 'learning_rate': 9.424352337876887e-06, 'epoch': 6.23}\n",
      "{'loss': 3.3084, 'grad_norm': 3.504742383956909, 'learning_rate': 9.317893827123257e-06, 'epoch': 6.26}\n",
      "{'loss': 3.3079, 'grad_norm': 3.662452220916748, 'learning_rate': 9.211768438844327e-06, 'epoch': 6.28}\n",
      "{'loss': 3.3218, 'grad_norm': 3.349595785140991, 'learning_rate': 9.105982394809102e-06, 'epoch': 6.31}\n",
      "{'loss': 3.3319, 'grad_norm': 3.623798131942749, 'learning_rate': 9.000541896891965e-06, 'epoch': 6.33}\n",
      "{'loss': 3.3182, 'grad_norm': 3.6902079582214355, 'learning_rate': 8.895453126709118e-06, 'epoch': 6.35}\n",
      "{'loss': 3.3505, 'grad_norm': 3.6732466220855713, 'learning_rate': 8.790722245256183e-06, 'epoch': 6.38}\n",
      "{'loss': 3.3329, 'grad_norm': 3.581458568572998, 'learning_rate': 8.687397239023248e-06, 'epoch': 6.4}\n",
      "{'loss': 3.3308, 'grad_norm': 3.4609837532043457, 'learning_rate': 8.583396802039188e-06, 'epoch': 6.43}\n",
      "{'loss': 3.3576, 'grad_norm': 3.7763619422912598, 'learning_rate': 8.479772548581345e-06, 'epoch': 6.45}\n",
      "{'loss': 3.3565, 'grad_norm': 3.473802328109741, 'learning_rate': 8.376530553785742e-06, 'epoch': 6.48}\n",
      "{'loss': 3.3231, 'grad_norm': 3.222072124481201, 'learning_rate': 8.27367687037784e-06, 'epoch': 6.5}\n",
      "{'loss': 3.3023, 'grad_norm': 3.7415311336517334, 'learning_rate': 8.171217528317752e-06, 'epoch': 6.52}\n",
      "{'loss': 3.3158, 'grad_norm': 3.446692705154419, 'learning_rate': 8.06915853444669e-06, 'epoch': 6.55}\n",
      "{'loss': 3.3295, 'grad_norm': 3.368624448776245, 'learning_rate': 7.967505872134843e-06, 'epoch': 6.57}\n",
      "{'loss': 3.3303, 'grad_norm': 3.579566478729248, 'learning_rate': 7.86626550093055e-06, 'epoch': 6.6}\n",
      "{'loss': 3.2957, 'grad_norm': 3.594473361968994, 'learning_rate': 7.765443356210934e-06, 'epoch': 6.62}\n",
      "{'loss': 3.3136, 'grad_norm': 4.024806499481201, 'learning_rate': 7.66504534883392e-06, 'epoch': 6.65}\n",
      "{'loss': 3.352, 'grad_norm': 3.5928075313568115, 'learning_rate': 7.565077364791735e-06, 'epoch': 6.67}\n",
      "{'loss': 3.3178, 'grad_norm': 3.2962300777435303, 'learning_rate': 7.465545264865781e-06, 'epoch': 6.69}\n",
      "{'loss': 3.3571, 'grad_norm': 3.851855516433716, 'learning_rate': 7.366454884283069e-06, 'epoch': 6.72}\n",
      "{'loss': 3.3264, 'grad_norm': 3.336385488510132, 'learning_rate': 7.267812032374128e-06, 'epoch': 6.74}\n",
      "{'loss': 3.3166, 'grad_norm': 3.128190279006958, 'learning_rate': 7.1696224922323934e-06, 'epoch': 6.77}\n",
      "{'loss': 3.3244, 'grad_norm': 3.524862766265869, 'learning_rate': 7.071892020375188e-06, 'epoch': 6.79}\n",
      "{'loss': 3.3534, 'grad_norm': 3.711688756942749, 'learning_rate': 6.974626346406219e-06, 'epoch': 6.82}\n",
      "{'loss': 3.3453, 'grad_norm': 3.478015661239624, 'learning_rate': 6.877831172679702e-06, 'epoch': 6.84}\n",
      "{'loss': 3.3122, 'grad_norm': 3.8450913429260254, 'learning_rate': 6.78151217396601e-06, 'epoch': 6.86}\n",
      "{'loss': 3.3043, 'grad_norm': 3.353646755218506, 'learning_rate': 6.685674997119012e-06, 'epoch': 6.89}\n",
      "{'loss': 3.3467, 'grad_norm': 3.256725311279297, 'learning_rate': 6.590325260745e-06, 'epoch': 6.91}\n",
      "{'loss': 3.3626, 'grad_norm': 3.525322675704956, 'learning_rate': 6.49546855487331e-06, 'epoch': 6.94}\n",
      "{'loss': 3.3319, 'grad_norm': 3.240204334259033, 'learning_rate': 6.401110440628569e-06, 'epoch': 6.96}\n",
      "{'loss': 3.3018, 'grad_norm': 3.479104995727539, 'learning_rate': 6.307256449904685e-06, 'epoch': 6.99}\n"
     ]
    },
    {
     "data": {
      "application/vnd.jupyter.widget-view+json": {
       "model_id": "bfdf47f220b941ddad4eddaa9be41559",
       "version_major": 2,
       "version_minor": 0
      },
      "text/plain": [
       "  0%|          | 0/230 [00:00<?, ?it/s]"
      ]
     },
     "metadata": {},
     "output_type": "display_data"
    },
    {
     "name": "stdout",
     "output_type": "stream",
     "text": [
      "{'eval_loss': 3.4042575359344482, 'eval_runtime': 5.5852, 'eval_samples_per_second': 328.188, 'eval_steps_per_second': 41.18, 'epoch': 7.0}\n",
      "{'loss': 3.2781, 'grad_norm': 3.3043291568756104, 'learning_rate': 6.213912085040524e-06, 'epoch': 7.01}\n",
      "{'loss': 3.2863, 'grad_norm': 3.549561023712158, 'learning_rate': 6.121082818497339e-06, 'epoch': 7.03}\n",
      "{'loss': 3.2995, 'grad_norm': 3.292801856994629, 'learning_rate': 6.028774092537917e-06, 'epoch': 7.06}\n",
      "{'loss': 3.266, 'grad_norm': 3.3462305068969727, 'learning_rate': 5.936991318907532e-06, 'epoch': 7.08}\n",
      "{'loss': 3.3268, 'grad_norm': 3.3064558506011963, 'learning_rate': 5.8457398785166645e-06, 'epoch': 7.11}\n",
      "{'loss': 3.3273, 'grad_norm': 3.3782904148101807, 'learning_rate': 5.755025121125557e-06, 'epoch': 7.13}\n",
      "{'loss': 3.307, 'grad_norm': 3.458780527114868, 'learning_rate': 5.664852365030548e-06, 'epoch': 7.15}\n",
      "{'loss': 3.313, 'grad_norm': 3.8178815841674805, 'learning_rate': 5.575226896752294e-06, 'epoch': 7.18}\n",
      "{'loss': 3.302, 'grad_norm': 3.7556605339050293, 'learning_rate': 5.486153970725833e-06, 'epoch': 7.2}\n",
      "{'loss': 3.2856, 'grad_norm': 3.7592854499816895, 'learning_rate': 5.397638808992554e-06, 'epoch': 7.23}\n",
      "{'loss': 3.3228, 'grad_norm': 3.4350409507751465, 'learning_rate': 5.309686600894012e-06, 'epoch': 7.25}\n",
      "{'loss': 3.2935, 'grad_norm': 3.415823459625244, 'learning_rate': 5.222302502767721e-06, 'epoch': 7.28}\n",
      "{'loss': 3.3033, 'grad_norm': 3.568500280380249, 'learning_rate': 5.135491637644844e-06, 'epoch': 7.3}\n",
      "{'loss': 3.3141, 'grad_norm': 3.495384931564331, 'learning_rate': 5.049259094949867e-06, 'epoch': 7.32}\n",
      "{'loss': 3.2996, 'grad_norm': 3.493833541870117, 'learning_rate': 4.963609930202189e-06, 'epoch': 7.35}\n",
      "{'loss': 3.3038, 'grad_norm': 3.3801000118255615, 'learning_rate': 4.8785491647197595e-06, 'epoch': 7.37}\n",
      "{'loss': 3.3157, 'grad_norm': 3.551072597503662, 'learning_rate': 4.7940817853246845e-06, 'epoch': 7.4}\n",
      "{'loss': 3.326, 'grad_norm': 3.079293727874756, 'learning_rate': 4.711048456515876e-06, 'epoch': 7.42}\n",
      "{'loss': 3.3219, 'grad_norm': 3.517369270324707, 'learning_rate': 4.627776613544932e-06, 'epoch': 7.45}\n",
      "{'loss': 3.3008, 'grad_norm': 3.4637837409973145, 'learning_rate': 4.545112858599372e-06, 'epoch': 7.47}\n",
      "{'loss': 3.294, 'grad_norm': 3.3461451530456543, 'learning_rate': 4.463062037972779e-06, 'epoch': 7.49}\n",
      "{'loss': 3.2805, 'grad_norm': 3.6404638290405273, 'learning_rate': 4.381628962024473e-06, 'epoch': 7.52}\n",
      "{'loss': 3.2962, 'grad_norm': 3.5158493518829346, 'learning_rate': 4.300818404897519e-06, 'epoch': 7.54}\n",
      "{'loss': 3.3234, 'grad_norm': 3.548816442489624, 'learning_rate': 4.220635104238826e-06, 'epoch': 7.57}\n",
      "{'loss': 3.2909, 'grad_norm': 3.458730459213257, 'learning_rate': 4.141083760921414e-06, 'epoch': 7.59}\n",
      "{'loss': 3.3302, 'grad_norm': 3.809981107711792, 'learning_rate': 4.062169038768788e-06, 'epoch': 7.62}\n",
      "{'loss': 3.2967, 'grad_norm': 3.470895528793335, 'learning_rate': 3.983895564281531e-06, 'epoch': 7.64}\n",
      "{'loss': 3.2971, 'grad_norm': 3.7121121883392334, 'learning_rate': 3.906267926366066e-06, 'epoch': 7.66}\n",
      "{'loss': 3.2779, 'grad_norm': 3.6217963695526123, 'learning_rate': 3.829290676065632e-06, 'epoch': 7.69}\n",
      "{'loss': 3.2954, 'grad_norm': 3.377894401550293, 'learning_rate': 3.7529683262934588e-06, 'epoch': 7.71}\n",
      "{'loss': 3.3359, 'grad_norm': 3.4141018390655518, 'learning_rate': 3.677305351568189e-06, 'epoch': 7.74}\n",
      "{'loss': 3.3279, 'grad_norm': 3.503108501434326, 'learning_rate': 3.602306187751563e-06, 'epoch': 7.76}\n",
      "{'loss': 3.3341, 'grad_norm': 3.4792628288269043, 'learning_rate': 3.527975231788366e-06, 'epoch': 7.79}\n",
      "{'loss': 3.2656, 'grad_norm': 3.47295880317688, 'learning_rate': 3.4543168414486222e-06, 'epoch': 7.81}\n",
      "{'loss': 3.3, 'grad_norm': 3.481248378753662, 'learning_rate': 3.3813353350721377e-06, 'epoch': 7.83}\n",
      "{'loss': 3.2155, 'grad_norm': 3.442383050918579, 'learning_rate': 3.3090349913153304e-06, 'epoch': 7.86}\n",
      "{'loss': 3.3537, 'grad_norm': 3.643885850906372, 'learning_rate': 3.2374200489003723e-06, 'epoch': 7.88}\n",
      "{'loss': 3.3164, 'grad_norm': 3.503575086593628, 'learning_rate': 3.1672005325858242e-06, 'epoch': 7.91}\n",
      "{'loss': 3.271, 'grad_norm': 3.7305684089660645, 'learning_rate': 3.0969619900147627e-06, 'epoch': 7.93}\n",
      "{'loss': 3.3348, 'grad_norm': 3.8834986686706543, 'learning_rate': 3.0274212819011753e-06, 'epoch': 7.96}\n",
      "{'loss': 3.2923, 'grad_norm': 3.443854331970215, 'learning_rate': 2.958582485179221e-06, 'epoch': 7.98}\n"
     ]
    },
    {
     "data": {
      "application/vnd.jupyter.widget-view+json": {
       "model_id": "2390fb038a3a4283b7d5e25d9169946b",
       "version_major": 2,
       "version_minor": 0
      },
      "text/plain": [
       "  0%|          | 0/230 [00:00<?, ?it/s]"
      ]
     },
     "metadata": {},
     "output_type": "display_data"
    },
    {
     "name": "stdout",
     "output_type": "stream",
     "text": [
      "{'eval_loss': 3.4035229682922363, 'eval_runtime': 5.6442, 'eval_samples_per_second': 324.756, 'eval_steps_per_second': 40.75, 'epoch': 8.0}\n",
      "{'loss': 3.2917, 'grad_norm': 3.7060608863830566, 'learning_rate': 2.8904496356323965e-06, 'epoch': 8.0}\n",
      "{'loss': 3.3183, 'grad_norm': 3.7028274536132812, 'learning_rate': 2.823026727656923e-06, 'epoch': 8.03}\n",
      "{'loss': 3.2511, 'grad_norm': 3.4104812145233154, 'learning_rate': 2.7563177140275848e-06, 'epoch': 8.05}\n",
      "{'loss': 3.2038, 'grad_norm': 3.549919605255127, 'learning_rate': 2.6903265056659676e-06, 'epoch': 8.08}\n",
      "{'loss': 3.3247, 'grad_norm': 3.5096700191497803, 'learning_rate': 2.6250569714111912e-06, 'epoch': 8.1}\n",
      "{'loss': 3.3132, 'grad_norm': 4.3330583572387695, 'learning_rate': 2.5605129377930813e-06, 'epoch': 8.13}\n",
      "{'loss': 3.3178, 'grad_norm': 3.76680064201355, 'learning_rate': 2.4966981888078534e-06, 'epoch': 8.15}\n",
      "{'loss': 3.311, 'grad_norm': 3.6022233963012695, 'learning_rate': 2.433616465696244e-06, 'epoch': 8.17}\n",
      "{'loss': 3.3139, 'grad_norm': 3.60237193107605, 'learning_rate': 2.3712714667241887e-06, 'epoch': 8.2}\n",
      "{'loss': 3.3001, 'grad_norm': 3.534113883972168, 'learning_rate': 2.3096668469660088e-06, 'epoch': 8.22}\n",
      "{'loss': 3.301, 'grad_norm': 3.5818915367126465, 'learning_rate': 2.2488062180901153e-06, 'epoch': 8.25}\n",
      "{'loss': 3.3127, 'grad_norm': 3.4138786792755127, 'learning_rate': 2.18869314814728e-06, 'epoch': 8.27}\n",
      "{'loss': 3.2582, 'grad_norm': 3.504696846008301, 'learning_rate': 2.129331161361442e-06, 'epoch': 8.29}\n",
      "{'loss': 3.3056, 'grad_norm': 3.3670806884765625, 'learning_rate': 2.0707237379231087e-06, 'epoch': 8.32}\n",
      "{'loss': 3.2853, 'grad_norm': 3.6650075912475586, 'learning_rate': 2.0128743137853123e-06, 'epoch': 8.34}\n",
      "{'loss': 3.2545, 'grad_norm': 3.358790874481201, 'learning_rate': 1.9557862804621723e-06, 'epoch': 8.37}\n",
      "{'loss': 3.2993, 'grad_norm': 3.236931085586548, 'learning_rate': 1.9000224214552948e-06, 'epoch': 8.39}\n",
      "{'loss': 3.3047, 'grad_norm': 3.477806329727173, 'learning_rate': 1.8444594689618942e-06, 'epoch': 8.42}\n",
      "{'loss': 3.2516, 'grad_norm': 3.402242660522461, 'learning_rate': 1.789667780870195e-06, 'epoch': 8.44}\n",
      "{'loss': 3.3287, 'grad_norm': 3.371126174926758, 'learning_rate': 1.7356505694296982e-06, 'epoch': 8.46}\n",
      "{'loss': 3.2996, 'grad_norm': 3.393482208251953, 'learning_rate': 1.6824110014849837e-06, 'epoch': 8.49}\n",
      "{'loss': 3.2995, 'grad_norm': 3.7091851234436035, 'learning_rate': 1.6299521982900617e-06, 'epoch': 8.51}\n",
      "{'loss': 3.2932, 'grad_norm': 3.636744737625122, 'learning_rate': 1.578277235325356e-06, 'epoch': 8.54}\n",
      "{'loss': 3.33, 'grad_norm': 3.7419798374176025, 'learning_rate': 1.5273891421174214e-06, 'epoch': 8.56}\n",
      "{'loss': 3.2543, 'grad_norm': 3.4547195434570312, 'learning_rate': 1.4772909020613335e-06, 'epoch': 8.59}\n",
      "{'loss': 3.269, 'grad_norm': 3.6181507110595703, 'learning_rate': 1.4279854522457663e-06, 'epoch': 8.61}\n",
      "{'loss': 3.2844, 'grad_norm': 3.5565192699432373, 'learning_rate': 1.3794756832808148e-06, 'epoch': 8.63}\n",
      "{'loss': 3.2658, 'grad_norm': 3.387051582336426, 'learning_rate': 1.3317644391285211e-06, 'epoch': 8.66}\n",
      "{'loss': 3.3061, 'grad_norm': 3.3963229656219482, 'learning_rate': 1.2848545169361492e-06, 'epoch': 8.68}\n",
      "{'loss': 3.2852, 'grad_norm': 3.6390299797058105, 'learning_rate': 1.238748666872192e-06, 'epoch': 8.71}\n",
      "{'loss': 3.303, 'grad_norm': 3.3905441761016846, 'learning_rate': 1.1934495919651406e-06, 'epoch': 8.73}\n",
      "{'loss': 3.2996, 'grad_norm': 3.1867597103118896, 'learning_rate': 1.148959947945009e-06, 'epoch': 8.76}\n",
      "{'loss': 3.2794, 'grad_norm': 3.6362719535827637, 'learning_rate': 1.1052823430876546e-06, 'epoch': 8.78}\n",
      "{'loss': 3.2605, 'grad_norm': 3.6575262546539307, 'learning_rate': 1.0624193380618457e-06, 'epoch': 8.8}\n",
      "{'loss': 3.2706, 'grad_norm': 3.6371233463287354, 'learning_rate': 1.020373445779143e-06, 'epoch': 8.83}\n",
      "{'loss': 3.3025, 'grad_norm': 3.2354865074157715, 'learning_rate': 9.791471312465817e-07, 'epoch': 8.85}\n",
      "{'loss': 3.2505, 'grad_norm': 3.4016828536987305, 'learning_rate': 9.391427779287231e-07, 'epoch': 8.88}\n",
      "{'loss': 3.302, 'grad_norm': 3.324836492538452, 'learning_rate': 8.995545663781052e-07, 'epoch': 8.9}\n",
      "{'loss': 3.2618, 'grad_norm': 3.1717233657836914, 'learning_rate': 8.607930157758048e-07, 'epoch': 8.93}\n",
      "{'loss': 3.2781, 'grad_norm': 3.482426166534424, 'learning_rate': 8.228603985791295e-07, 'epoch': 8.95}\n",
      "{'loss': 3.2509, 'grad_norm': 3.3993093967437744, 'learning_rate': 7.857589386478453e-07, 'epoch': 8.97}\n",
      "{'loss': 3.2894, 'grad_norm': 3.5510005950927734, 'learning_rate': 7.494908111138088e-07, 'epoch': 9.0}\n"
     ]
    },
    {
     "data": {
      "application/vnd.jupyter.widget-view+json": {
       "model_id": "c1344fb27a2547a89dad71f12552c0f2",
       "version_major": 2,
       "version_minor": 0
      },
      "text/plain": [
       "  0%|          | 0/230 [00:00<?, ?it/s]"
      ]
     },
     "metadata": {},
     "output_type": "display_data"
    },
    {
     "name": "stdout",
     "output_type": "stream",
     "text": [
      "{'eval_loss': 3.40419340133667, 'eval_runtime': 5.558, 'eval_samples_per_second': 329.796, 'eval_steps_per_second': 41.382, 'epoch': 9.0}\n",
      "{'loss': 3.2623, 'grad_norm': 3.75028920173645, 'learning_rate': 7.140581422534414e-07, 'epoch': 9.02}\n",
      "{'loss': 3.2952, 'grad_norm': 3.3816475868225098, 'learning_rate': 6.794630093630833e-07, 'epoch': 9.05}\n",
      "{'loss': 3.2509, 'grad_norm': 3.7106096744537354, 'learning_rate': 6.457074406371965e-07, 'epoch': 9.07}\n",
      "{'loss': 3.3079, 'grad_norm': 3.5061562061309814, 'learning_rate': 6.127934150494663e-07, 'epoch': 9.1}\n",
      "{'loss': 3.3137, 'grad_norm': 3.503037452697754, 'learning_rate': 5.807228622367744e-07, 'epoch': 9.12}\n",
      "{'loss': 3.3112, 'grad_norm': 3.35614275932312, 'learning_rate': 5.494976623860836e-07, 'epoch': 9.14}\n",
      "{'loss': 3.3135, 'grad_norm': 3.330479383468628, 'learning_rate': 5.191196461241927e-07, 'epoch': 9.17}\n",
      "{'loss': 3.2579, 'grad_norm': 3.809805154800415, 'learning_rate': 4.895905944104211e-07, 'epoch': 9.19}\n",
      "{'loss': 3.3241, 'grad_norm': 3.9615070819854736, 'learning_rate': 4.609122384322045e-07, 'epoch': 9.22}\n",
      "{'loss': 3.2916, 'grad_norm': 3.555445909500122, 'learning_rate': 4.3308625950358227e-07, 'epoch': 9.24}\n",
      "{'loss': 3.296, 'grad_norm': 3.217712163925171, 'learning_rate': 4.0611428896664746e-07, 'epoch': 9.27}\n",
      "{'loss': 3.2858, 'grad_norm': 3.7238543033599854, 'learning_rate': 3.7999790809589487e-07, 'epoch': 9.29}\n",
      "{'loss': 3.2736, 'grad_norm': 3.212212324142456, 'learning_rate': 3.5473864800552147e-07, 'epoch': 9.31}\n",
      "{'loss': 3.2962, 'grad_norm': 3.6157727241516113, 'learning_rate': 3.3033798955966033e-07, 'epoch': 9.34}\n",
      "{'loss': 3.3023, 'grad_norm': 3.5782206058502197, 'learning_rate': 3.070285078156293e-07, 'epoch': 9.36}\n",
      "{'loss': 3.2846, 'grad_norm': 3.2734057903289795, 'learning_rate': 2.843406730312437e-07, 'epoch': 9.39}\n",
      "{'loss': 3.2887, 'grad_norm': 3.354600191116333, 'learning_rate': 2.625155670841628e-07, 'epoch': 9.41}\n",
      "{'loss': 3.2871, 'grad_norm': 3.3232340812683105, 'learning_rate': 2.4155446950579085e-07, 'epoch': 9.43}\n",
      "{'loss': 3.3081, 'grad_norm': 4.137204170227051, 'learning_rate': 2.2145860917367755e-07, 'epoch': 9.46}\n",
      "{'loss': 3.2573, 'grad_norm': 3.6223349571228027, 'learning_rate': 2.0222916423946248e-07, 'epoch': 9.48}\n",
      "{'loss': 3.335, 'grad_norm': 3.468066692352295, 'learning_rate': 1.8386726205981864e-07, 'epoch': 9.51}\n",
      "{'loss': 3.2721, 'grad_norm': 3.2728354930877686, 'learning_rate': 1.663739791303437e-07, 'epoch': 9.53}\n",
      "{'loss': 3.2932, 'grad_norm': 3.3822388648986816, 'learning_rate': 1.4975034102245878e-07, 'epoch': 9.56}\n",
      "{'loss': 3.3031, 'grad_norm': 3.7255284786224365, 'learning_rate': 1.339973223232782e-07, 'epoch': 9.58}\n",
      "{'loss': 3.2904, 'grad_norm': 3.467832326889038, 'learning_rate': 1.1911584657847696e-07, 'epoch': 9.6}\n",
      "{'loss': 3.2623, 'grad_norm': 3.4904048442840576, 'learning_rate': 1.0510678623814218e-07, 'epoch': 9.63}\n",
      "{'loss': 3.2639, 'grad_norm': 3.4754743576049805, 'learning_rate': 9.197096260562754e-08, 'epoch': 9.65}\n",
      "{'loss': 3.235, 'grad_norm': 3.3871657848358154, 'learning_rate': 7.970914578939836e-08, 'epoch': 9.68}\n",
      "{'loss': 3.2778, 'grad_norm': 3.394906520843506, 'learning_rate': 6.832205465788777e-08, 'epoch': 9.7}\n",
      "{'loss': 3.271, 'grad_norm': 3.3228683471679688, 'learning_rate': 5.7810356797352024e-08, 'epoch': 9.73}\n",
      "{'loss': 3.278, 'grad_norm': 3.6866424083709717, 'learning_rate': 4.817466847272689e-08, 'epoch': 9.75}\n",
      "{'loss': 3.2761, 'grad_norm': 3.561846971511841, 'learning_rate': 3.941555459150481e-08, 'epoch': 9.77}\n",
      "{'loss': 3.2406, 'grad_norm': 3.8014345169067383, 'learning_rate': 3.1533528670609767e-08, 'epoch': 9.8}\n",
      "{'loss': 3.2714, 'grad_norm': 3.6785271167755127, 'learning_rate': 2.4529052806298025e-08, 'epoch': 9.82}\n",
      "{'loss': 3.2491, 'grad_norm': 3.7090542316436768, 'learning_rate': 1.840253764705979e-08, 'epoch': 9.85}\n",
      "{'loss': 3.2543, 'grad_norm': 3.56679630279541, 'learning_rate': 1.320247558593113e-08, 'epoch': 9.87}\n",
      "{'loss': 3.2797, 'grad_norm': 3.524961233139038, 'learning_rate': 8.8241202443462e-09, 'epoch': 9.9}\n",
      "{'loss': 3.2722, 'grad_norm': 3.672605037689209, 'learning_rate': 5.324646334386452e-09, 'epoch': 9.92}\n",
      "{'loss': 3.2579, 'grad_norm': 3.2097761631011963, 'learning_rate': 2.704259018247446e-09, 'epoch': 9.94}\n",
      "{'loss': 3.2805, 'grad_norm': 3.800276517868042, 'learning_rate': 9.63111920290749e-10, 'epoch': 9.97}\n",
      "{'loss': 3.2701, 'grad_norm': 3.164041042327881, 'learning_rate': 1.0130711801947801e-10, 'epoch': 9.99}\n"
     ]
    },
    {
     "data": {
      "application/vnd.jupyter.widget-view+json": {
       "model_id": "bc882f1b707e4f05aa9c54aeb1ee6623",
       "version_major": 2,
       "version_minor": 0
      },
      "text/plain": [
       "  0%|          | 0/230 [00:00<?, ?it/s]"
      ]
     },
     "metadata": {},
     "output_type": "display_data"
    },
    {
     "name": "stdout",
     "output_type": "stream",
     "text": [
      "{'eval_loss': 3.4041590690612793, 'eval_runtime': 5.5751, 'eval_samples_per_second': 328.786, 'eval_steps_per_second': 41.255, 'epoch': 10.0}\n"
     ]
    },
    {
     "name": "stderr",
     "output_type": "stream",
     "text": [
      "There were missing keys in the checkpoint model loaded: ['lm_head.weight'].\n"
     ]
    },
    {
     "name": "stdout",
     "output_type": "stream",
     "text": [
      "{'train_runtime': 3992.0429, 'train_samples_per_second': 41.312, 'train_steps_per_second': 10.328, 'train_loss': 3.3743590810823405, 'epoch': 10.0}\n"
     ]
    },
    {
     "data": {
      "text/plain": [
       "TrainOutput(global_step=41230, training_loss=3.3743590810823405, metrics={'train_runtime': 3992.0429, 'train_samples_per_second': 41.312, 'train_steps_per_second': 10.328, 'total_flos': 1.077307047936e+16, 'train_loss': 3.3743590810823405, 'epoch': 10.0})"
      ]
     },
     "execution_count": 55,
     "metadata": {},
     "output_type": "execute_result"
    }
   ],
   "source": [
    "trainer = Trainer(\n",
    "    model=model,\n",
    "    args=training_args,\n",
    "    train_dataset=lm_datasets[\"train\"],\n",
    "    eval_dataset=lm_datasets[\"validation\"],\n",
    "    tokenizer=tokenizer,\n",
    "    data_collator=data_collator\n",
    ")\n",
    "\n",
    "# 9. Train\n",
    "trainer.train()"
   ]
  },
  {
   "cell_type": "code",
   "execution_count": 56,
   "metadata": {},
   "outputs": [
    {
     "data": {
      "text/plain": [
       "('my_finetuned_model_transformers1/tokenizer_config.json',\n",
       " 'my_finetuned_model_transformers1/special_tokens_map.json',\n",
       " 'my_finetuned_model_transformers1/vocab.json',\n",
       " 'my_finetuned_model_transformers1/merges.txt',\n",
       " 'my_finetuned_model_transformers1/added_tokens.json',\n",
       " 'my_finetuned_model_transformers1/tokenizer.json')"
      ]
     },
     "execution_count": 56,
     "metadata": {},
     "output_type": "execute_result"
    }
   ],
   "source": [
    "trainer.save_model(\"my_finetuned_model_transformers\")\n",
    "tokenizer.save_pretrained(\"my_finetuned_model_transformers1\")"
   ]
  },
  {
   "cell_type": "code",
   "execution_count": 57,
   "metadata": {},
   "outputs": [
    {
     "data": {
      "text/plain": [
       "('./gpt2-finetuned-/tokenizer_config.json',\n",
       " './gpt2-finetuned-/special_tokens_map.json',\n",
       " './gpt2-finetuned-/vocab.json',\n",
       " './gpt2-finetuned-/merges.txt',\n",
       " './gpt2-finetuned-/added_tokens.json',\n",
       " './gpt2-finetuned-/tokenizer.json')"
      ]
     },
     "execution_count": 57,
     "metadata": {},
     "output_type": "execute_result"
    }
   ],
   "source": [
    "model.save_pretrained(\"./gpt2-finetuned-\")\n",
    "tokenizer.save_pretrained(\"./gpt2-finetuned-\")"
   ]
  },
  {
   "cell_type": "code",
   "execution_count": 58,
   "metadata": {},
   "outputs": [
    {
     "name": "stderr",
     "output_type": "stream",
     "text": [
      "/home/dharun/Desktop/wikitext/lib/python3.12/site-packages/huggingface_hub/file_download.py:943: FutureWarning: `resume_download` is deprecated and will be removed in version 1.0.0. Downloads always resume when possible. If you want to force a new download, use `force_download=True`.\n",
      "  warnings.warn(\n"
     ]
    }
   ],
   "source": [
    "from transformers import GPT2LMHeadModel, GPT2Tokenizer\n",
    "\n",
    "# Load from checkpoint\n",
    "model = GPT2LMHeadModel.from_pretrained(\"./gpt2-wikitext/checkpoint-32984\")  # Replace with your best checkpoint\n",
    "tokenizer = GPT2Tokenizer.from_pretrained(\"gpt2\")  # or your fine-tuned tokenizer\n"
   ]
  },
  {
   "cell_type": "code",
   "execution_count": 59,
   "metadata": {},
   "outputs": [
    {
     "name": "stdout",
     "output_type": "stream",
     "text": [
      "\n",
      "Prompt: The history of India begins with\n",
      "Top predicted next words:\n",
      "1. the (probability: 0.5487)\n",
      "2. its (probability: 0.0961)\n",
      "3. a (probability: 0.0507)\n",
      "4. an (probability: 0.0214)\n",
      "5. King (probability: 0.0160)\n"
     ]
    }
   ],
   "source": [
    "import torch\n",
    "from transformers import GPT2Tokenizer, GPT2LMHeadModel\n",
    "\n",
    "# Load fine-tuned model and tokenizer\n",
    "model_path = \"./gpt2-finetuned-epoch5\"\n",
    "tokenizer = GPT2Tokenizer.from_pretrained(model_path)\n",
    "model = GPT2LMHeadModel.from_pretrained(model_path)\n",
    "model.eval()\n",
    "\n",
    "# Input prompt\n",
    "prompt = \"The history of India begins with\"\n",
    "inputs = tokenizer(prompt, return_tensors=\"pt\")\n",
    "\n",
    "# Get logits (output scores before softmax)\n",
    "with torch.no_grad():\n",
    "    outputs = model(**inputs)\n",
    "    logits = outputs.logits\n",
    "\n",
    "# Get the logits for the last token\n",
    "next_token_logits = logits[0, -1, :]\n",
    "\n",
    "# Apply softmax to get probabilities\n",
    "probs = torch.softmax(next_token_logits, dim=-1)\n",
    "\n",
    "# Get the top 5 predicted next words\n",
    "top_k = 5\n",
    "top_k_probs, top_k_indices = torch.topk(probs, top_k)\n",
    "\n",
    "# Decode the predicted tokens\n",
    "predicted_words = [tokenizer.decode([idx]) for idx in top_k_indices]\n",
    "\n",
    "# Display predictions\n",
    "print(f\"\\nPrompt: {prompt}\")\n",
    "print(\"Top predicted next words:\")\n",
    "for i, (word, prob) in enumerate(zip(predicted_words, top_k_probs)):\n",
    "    print(f\"{i+1}. {word.strip()} (probability: {prob.item():.4f})\")\n"
   ]
  },
  {
   "cell_type": "code",
   "execution_count": 60,
   "metadata": {},
   "outputs": [
    {
     "data": {
      "application/vnd.jupyter.widget-view+json": {
       "model_id": "8470ea6c13ea4b93876f36e62b934e58",
       "version_major": 2,
       "version_minor": 0
      },
      "text/plain": [
       "  0%|          | 0/230 [00:00<?, ?it/s]"
      ]
     },
     "metadata": {},
     "output_type": "display_data"
    }
   ],
   "source": [
    "metrics = trainer.evaluate()\n"
   ]
  },
  {
   "cell_type": "code",
   "execution_count": 61,
   "metadata": {},
   "outputs": [
    {
     "name": "stdout",
     "output_type": "stream",
     "text": [
      "Perplexity: 30.07\n"
     ]
    }
   ],
   "source": [
    "import torch\n",
    "\n",
    "eval_loss = metrics[\"eval_loss\"]\n",
    "perplexity = torch.exp(torch.tensor(eval_loss))\n",
    "print(f\"Perplexity: {perplexity:.2f}\")\n"
   ]
  },
  {
   "cell_type": "code",
   "execution_count": 63,
   "metadata": {},
   "outputs": [
    {
     "name": "stderr",
     "output_type": "stream",
     "text": [
      "/tmp/ipykernel_5089/3792564098.py:16: FutureWarning: \n",
      "\n",
      "Passing `palette` without assigning `hue` is deprecated and will be removed in v0.14.0. Assign the `x` variable to `hue` and set `legend=False` for the same effect.\n",
      "\n",
      "  sns.barplot(x=models, y=losses, ax=axes[0], palette='Blues_d')\n",
      "/tmp/ipykernel_5089/3792564098.py:21: FutureWarning: \n",
      "\n",
      "Passing `palette` without assigning `hue` is deprecated and will be removed in v0.14.0. Assign the `x` variable to `hue` and set `legend=False` for the same effect.\n",
      "\n",
      "  sns.barplot(x=models, y=perplexities, ax=axes[1], palette='Greens_d')\n"
     ]
    },
    {
     "data": {
      "image/png": "[encoded data removed]",
      "text/plain": [
       "<Figure size 1200x500 with 2 Axes>"
      ]
     },
     "metadata": {},
     "output_type": "display_data"
    }
   ],
   "source": [
    "import matplotlib.pyplot as plt\n",
    "import seaborn as sns\n",
    "\n",
    "# Metrics from your models\n",
    "models = ['LSTM', 'Transformer']\n",
    "losses = [4.5, 3.435]\n",
    "perplexities = [90, 30.07]\n",
    "\n",
    "# Set style\n",
    "sns.set(style=\"whitegrid\")\n",
    "\n",
    "# Create subplots\n",
    "fig, axes = plt.subplots(1, 2, figsize=(12, 5))\n",
    "\n",
    "# Loss comparison\n",
    "sns.barplot(x=models, y=losses, ax=axes[0], palette='Blues_d')\n",
    "axes[0].set_title('Loss Comparison')\n",
    "axes[0].set_ylabel('Loss')\n",
    "\n",
    "# Perplexity comparison\n",
    "sns.barplot(x=models, y=perplexities, ax=axes[1], palette='Greens_d')\n",
    "axes[1].set_title('Perplexity Comparison')\n",
    "axes[1].set_ylabel('Perplexity')\n",
    "\n",
    "plt.suptitle('LSTM vs Transformer Model Comparison', fontsize=16)\n",
    "plt.tight_layout()\n",
    "plt.show()\n"
   ]
  },
  {
   "cell_type": "code",
   "execution_count": 64,
   "metadata": {},
   "outputs": [
    {
     "data": {
      "text/markdown": [
       "\n",
       "###  Model Summary\n",
       "\n",
       "| Feature            | LSTM                     | Transformer (GPT-2)          |\n",
       "|--------------------|--------------------------|-------------------------------|\n",
       "| Sequence Handling  | Sequential (one-step)    | Global (self-attention)       |\n",
       "| Training Time      | Longer                   | Faster with pre-trained model |\n",
       "| Output Quality     | Short, less coherent     | Long, context-aware           |\n",
       "| Perplexity         | 90                     | 30.07                          |\n"
      ],
      "text/plain": [
       "<IPython.core.display.Markdown object>"
      ]
     },
     "metadata": {},
     "output_type": "display_data"
    }
   ],
   "source": [
    "from IPython.display import Markdown, display\n",
    "\n",
    "display(Markdown(\"\"\"\n",
    "###  Model Summary\n",
    "\n",
    "| Feature            | LSTM                     | Transformer (GPT-2)          |\n",
    "|--------------------|--------------------------|-------------------------------|\n",
    "| Sequence Handling  | Sequential (one-step)    | Global (self-attention)       |\n",
    "| Training Time      | Longer                   | Faster with pre-trained model |\n",
    "| Output Quality     | Short, less coherent     | Long, context-aware           |\n",
    "| Perplexity         | 90                     | 30.07                          |\n",
    "\"\"\"))\n"
   ]
  },
  {
   "cell_type": "markdown",
   "metadata": {},
   "source": []
  }
 ],
 "metadata": {
  "kernelspec": {
   "display_name": "wikitext",
   "language": "python",
   "name": "python3"
  },
  "language_info": {
   "codemirror_mode": {
    "name": "ipython",
    "version": 3
   },
   "file_extension": ".py",
   "mimetype": "text/x-python",
   "name": "python",
   "nbconvert_exporter": "python",
   "pygments_lexer": "ipython3",
   "version": "3.12.3"
  }
 },
 "nbformat": 4,
 "nbformat_minor": 2
}
