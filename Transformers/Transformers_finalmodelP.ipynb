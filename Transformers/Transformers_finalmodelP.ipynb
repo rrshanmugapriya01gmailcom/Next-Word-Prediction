{
 "cells": [
  {
   "cell_type": "code",
   "execution_count": 1,
   "metadata": {},
   "outputs": [
    {
     "name": "stderr",
     "output_type": "stream",
     "text": [
      "2025-06-23 21:55:38.293458: E external/local_xla/xla/stream_executor/cuda/cuda_fft.cc:467] Unable to register cuFFT factory: Attempting to register factory for plugin cuFFT when one has already been registered\n",
      "WARNING: All log messages before absl::InitializeLog() is called are written to STDERR\n",
      "E0000 00:00:1750695938.304828    9403 cuda_dnn.cc:8579] Unable to register cuDNN factory: Attempting to register factory for plugin cuDNN when one has already been registered\n",
      "E0000 00:00:1750695938.308248    9403 cuda_blas.cc:1407] Unable to register cuBLAS factory: Attempting to register factory for plugin cuBLAS when one has already been registered\n",
      "W0000 00:00:1750695938.318358    9403 computation_placer.cc:177] computation placer already registered. Please check linkage and avoid linking the same target more than once.\n",
      "W0000 00:00:1750695938.318375    9403 computation_placer.cc:177] computation placer already registered. Please check linkage and avoid linking the same target more than once.\n",
      "W0000 00:00:1750695938.318377    9403 computation_placer.cc:177] computation placer already registered. Please check linkage and avoid linking the same target more than once.\n",
      "W0000 00:00:1750695938.318378    9403 computation_placer.cc:177] computation placer already registered. Please check linkage and avoid linking the same target more than once.\n",
      "2025-06-23 21:55:38.321795: I tensorflow/core/platform/cpu_feature_guard.cc:210] This TensorFlow binary is optimized to use available CPU instructions in performance-critical operations.\n",
      "To enable the following instructions: AVX2 FMA, in other operations, rebuild TensorFlow with the appropriate compiler flags.\n"
     ]
    },
    {
     "name": "stdout",
     "output_type": "stream",
     "text": [
      "--- Step 1: Data Loading and Saving ---\n"
     ]
    }
   ],
   "source": [
    "import torch\n",
    "from datasets import load_dataset, DatasetDict\n",
    "from transformers import (\n",
    "    AutoTokenizer,\n",
    "    AutoModelForCausalLM,\n",
    "    DataCollatorForLanguageModeling,\n",
    "    TrainingArguments,\n",
    "    Trainer,\n",
    "    EarlyStoppingCallback,\n",
    "    GPT2Config,\n",
    "    GPT2LMHeadModel\n",
    ")\n",
    "import math\n",
    "\n",
    "# --- 1. Data Loading and Saving (Ensuring full_text is populated) ---\n",
    "print(\"--- Step 1: Data Loading and Saving ---\")\n",
    "# Load WikiText-2 raw dataset\n",
    "dataset_raw = load_dataset(\"wikitext\", \"wikitext-2-raw-v1\")\n",
    "\n"
   ]
  },
  {
   "cell_type": "code",
   "execution_count": 2,
   "metadata": {},
   "outputs": [
    {
     "name": "stdout",
     "output_type": "stream",
     "text": [
      "✅ WikiText saved as 'wikitext_full_dataset.txt' for fine-tuning.\n"
     ]
    }
   ],
   "source": [
    "# Concatenate all splits (train, validation, test) into a single string\n",
    "# This prepares a single text file for language modeling training\n",
    "full_text = \"\"\n",
    "for split_name in dataset_raw.keys():\n",
    "    full_text += \"\\n\".join(dataset_raw[split_name][\"text\"]) + \"\\n\"\n",
    "\n",
    "# Save the concatenated text to a file\n",
    "# The Trainer will load from this file and handle train/eval split later\n",
    "text_file_path = \"wikitext_full_dataset.txt\" # Changed filename for clarity\n",
    "with open(text_file_path, \"w\", encoding=\"utf-8\") as f:\n",
    "    f.write(full_text)\n",
    "\n",
    "print(f\"✅ WikiText saved as '{text_file_path}' for fine-tuning.\")\n"
   ]
  },
  {
   "cell_type": "code",
   "execution_count": 3,
   "metadata": {},
   "outputs": [
    {
     "name": "stdout",
     "output_type": "stream",
     "text": [
      "\n",
      "--- Step 2: Loading Data and Tokenization ---\n"
     ]
    },
    {
     "data": {
      "application/vnd.jupyter.widget-view+json": {
       "model_id": "240f8b53192146c0b2ed931f6d719f20",
       "version_major": 2,
       "version_minor": 0
      },
      "text/plain": [
       "Generating train split: 0 examples [00:00, ? examples/s]"
      ]
     },
     "metadata": {},
     "output_type": "display_data"
    },
    {
     "name": "stderr",
     "output_type": "stream",
     "text": [
      "/home/dharun/Desktop/wikitext/lib/python3.12/site-packages/huggingface_hub/file_download.py:943: FutureWarning: `resume_download` is deprecated and will be removed in version 1.0.0. Downloads always resume when possible. If you want to force a new download, use `force_download=True`.\n",
      "  warnings.warn(\n"
     ]
    },
    {
     "name": "stdout",
     "output_type": "stream",
     "text": [
      "Set tokenizer.pad_token to tokenizer.eos_token: <|endoftext|>\n"
     ]
    },
    {
     "data": {
      "application/vnd.jupyter.widget-view+json": {
       "model_id": "a6eb8dffbe584f209849969581801ba4",
       "version_major": 2,
       "version_minor": 0
      },
      "text/plain": [
       "Map (num_proc=4):   0%|          | 0/73955 [00:00<?, ? examples/s]"
      ]
     },
     "metadata": {},
     "output_type": "display_data"
    }
   ],
   "source": [
    "# --- 2. Load Dataset from File and Tokenize ---\n",
    "print(\"\\n--- Step 2: Loading Data and Tokenization ---\")\n",
    "# Load the dataset from your saved text file\n",
    "dataset = load_dataset(\"text\", data_files={\"train\": text_file_path})\n",
    "\n",
    "# Load GPT-2 tokenizer\n",
    "tokenizer = AutoTokenizer.from_pretrained(\"gpt2\")\n",
    "\n",
    "# GPT-2 does not have a dedicated pad token by default, use eos_token\n",
    "if tokenizer.pad_token is None:\n",
    "    tokenizer.pad_token = tokenizer.eos_token\n",
    "    print(f\"Set tokenizer.pad_token to tokenizer.eos_token: {tokenizer.pad_token}\")\n",
    "\n",
    "# Tokenize the dataset\n",
    "def tokenize_function(examples):\n",
    "    # Use truncation=True to handle texts longer than tokenizer's max length\n",
    "    # This ensures that very long lines don't break the tokenizer\n",
    "    return tokenizer(examples[\"text\"], return_special_tokens_mask=True, truncation=True)\n",
    "\n",
    "tokenized_datasets = dataset.map(\n",
    "    tokenize_function,\n",
    "    batched=True,\n",
    "    num_proc=4, # Use multiple processes for faster tokenization\n",
    "    remove_columns=[\"text\"]\n",
    ")\n"
   ]
  },
  {
   "cell_type": "code",
   "execution_count": 4,
   "metadata": {},
   "outputs": [],
   "source": [
    "# Define block_size for grouping texts (crucial for context)\n",
    "# Increased from 128 to 512 for better performance on long dependencies\n",
    "block_size = 512 # Increased context length\n",
    "\n",
    "def group_texts(examples):\n",
    "    # Concatenate all texts from a batch\n",
    "    concatenated_input_ids = sum(examples[\"input_ids\"], [])\n",
    "    concatenated_attention_mask = sum(examples[\"attention_mask\"], [])\n",
    "\n",
    "    # Compute length of concatenated tokens and truncate to a multiple of block_size\n",
    "    total_length = (len(concatenated_input_ids) // block_size) * block_size\n",
    "\n",
    "    # Split into chunks of block_size\n",
    "    result = {\n",
    "        \"input_ids\": [concatenated_input_ids[i:i + block_size] for i in range(0, total_length, block_size)],\n",
    "        \"attention_mask\": [concatenated_attention_mask[i:i + block_size] for i in range(0, total_length, block_size)],\n",
    "    }\n",
    "    # For causal language modeling, labels are the same as input_ids\n",
    "    result[\"labels\"] = result[\"input_ids\"].copy()\n",
    "    return result\n",
    "\n",
    "# Remove special_tokens_mask as it's not needed for CLM training\n",
    "tokenized_datasets = tokenized_datasets.remove_columns(['special_tokens_mask'])"
   ]
  },
  {
   "cell_type": "code",
   "execution_count": 5,
   "metadata": {},
   "outputs": [
    {
     "data": {
      "application/vnd.jupyter.widget-view+json": {
       "model_id": "700902ba5f1f406e8d7fb141e5b74d7e",
       "version_major": 2,
       "version_minor": 0
      },
      "text/plain": [
       "Map (num_proc=4):   0%|          | 0/73955 [00:00<?, ? examples/s]"
      ]
     },
     "metadata": {},
     "output_type": "display_data"
    },
    {
     "name": "stdout",
     "output_type": "stream",
     "text": [
      "Training dataset size: 5336\n",
      "Validation dataset size: 281\n",
      "First example from training dataset: {'input_ids': [837, 290, 734, 1588, 16842, 13431, 547, 6589, 355, 636, 286, 262, 1218, 3800, 286, 607, 11315, 764, 383, 4074, 5952, 10256, 287, 24927, 9992, 1262, 262, 1468, 2679, 24927, 657, 2488, 12, 31, 352, 357, 409, 2488, 12, 31, 471, 2488, 12, 31, 13151, 1267, 764, 554, 1737, 35768, 837, 1081, 32810, 373, 18235, 351, 257, 8190, 2488, 12, 31, 2366, 2488, 12, 31, 604, 2488, 12, 31, 11111, 357, 678, 285, 1267, 25388, 2488, 12, 31, 1633, 6215, 48786, 319, 607, 11092, 293, 290, 7675, 5611, 281, 412, 17, 45, 16, 5994, 1315, 5417, 14382, 764, 2293, 5100, 17390, 837, 262, 48786, 373, 6928, 416, 530, 13232, 416, 2485, 45855, 764, 1550, 262, 11939, 286, 4856, 287, 35768, 837, 1081, 32810, 373, 4624, 287, 11515, 764, 220, 797, 31691, 355, 257, 9185, 4074, 319, 1467, 2932, 28684, 837, 1081, 32810, 373, 2077, 503, 286, 11515, 287, 3389, 837, 706, 262, 16556, 49341, 10290, 32731, 326, 2067, 262, 5498, 311, 2879, 2488, 12, 31, 4960, 1810, 837, 290, 373, 973, 355, 257, 4839, 284, 1956, 6553, 287, 281, 38255, 699, 9581, 379, 24300, 38536, 4696, 764, 39063, 673, 2540, 11315, 379, 509, 495, 837, 2869, 837, 656, 257, 9185, 4074, 2162, 428, 373, 5668, 319, 1248, 3426, 28017, 764, 1081, 32810, 373, 18235, 351, 257, 31548, 13510, 1388, 6555, 1674, 290, 46088, 284, 22464, 281, 1468, 10181, 1056, 706, 607, 10325, 287, 21865, 319, 2808, 3426, 764, 554, 1737, 24414, 673, 373, 9518, 284, 719, 355, 257, 39023, 43369, 4074, 290, 5281, 503, 34141, 1022, 2808, 1737, 290, 767, 3389, 16236, 764, 1375, 373, 11172, 284, 7298, 2596, 71, 4696, 837, 4141, 1423, 5374, 1437, 837, 319, 1315, 3389, 16236, 290, 1568, 18665, 262, 1367, 400, 7308, 11801, 422, 509, 495, 284, 7298, 2596, 71, 4696, 678, 3389, 784, 767, 3426, 23234, 764, 220, 3574, 1511, 2805, 22458, 837, 1081, 32810, 373, 25967, 379, 12551, 837, 290, 287, 3035, 607, 5462, 6157, 20097, 319, 262, 1657, 35239, 399, 8130, 837, 543, 550, 587, 39023, 276, 416, 262, 24927, 23116, 1001, 707, 4024, 572, 6786, 5451, 764, 2129, 433, 278, 12551, 329, 509, 495, 319, 2534, 1737, 837, 30037, 416, 262, 850, 354, 6005, 5870, 2488, 12, 31, 860, 837, 1081, 32810, 373, 6504, 276, 416, 262, 24927, 23116, 43956, 319, 262, 1755, 286, 1679, 1220, 2608, 1737, 22458, 837, 1802, 4608, 357, 13454, 10571, 1267, 26015, 286, 15725, 15744, 19173, 837, 1423, 5374, 1437, 764, 3226, 43956, 705, 82, 1440, 30892, 3028, 837, 734, 2277, 262, 4074, 287, 607, 2493, 4318, 36741, 2119, 290, 46088, 9029, 764, 1629, 5534, 1058, 7643, 837, 7188, 706, 852, 2277, 837, 1081, 32810, 30895, 379, 838, 22074, 3571, 564, 110, 399, 9796, 22074, 3571, 564, 110, 412, 13, 9699, 7821, 1450, 547, 2923, 287, 262, 1368, 2162, 262, 4074, 705, 82, 10654, 290, 642, 6469, 5462, 3653, 547, 19868, 416, 5870, 2488, 12, 31, 860, 764, 220, 796, 13614, 3596, 357, 383, 4452, 1267, 796, 220, 366, 13614, 3596, 366, 318, 262, 29112, 4471, 286, 262, 14024, 1622, 286, 262, 1605, 10997, 5581, 2168, 383], 'attention_mask': [1, 1, 1, 1, 1, 1, 1, 1, 1, 1, 1, 1, 1, 1, 1, 1, 1, 1, 1, 1, 1, 1, 1, 1, 1, 1, 1, 1, 1, 1, 1, 1, 1, 1, 1, 1, 1, 1, 1, 1, 1, 1, 1, 1, 1, 1, 1, 1, 1, 1, 1, 1, 1, 1, 1, 1, 1, 1, 1, 1, 1, 1, 1, 1, 1, 1, 1, 1, 1, 1, 1, 1, 1, 1, 1, 1, 1, 1, 1, 1, 1, 1, 1, 1, 1, 1, 1, 1, 1, 1, 1, 1, 1, 1, 1, 1, 1, 1, 1, 1, 1, 1, 1, 1, 1, 1, 1, 1, 1, 1, 1, 1, 1, 1, 1, 1, 1, 1, 1, 1, 1, 1, 1, 1, 1, 1, 1, 1, 1, 1, 1, 1, 1, 1, 1, 1, 1, 1, 1, 1, 1, 1, 1, 1, 1, 1, 1, 1, 1, 1, 1, 1, 1, 1, 1, 1, 1, 1, 1, 1, 1, 1, 1, 1, 1, 1, 1, 1, 1, 1, 1, 1, 1, 1, 1, 1, 1, 1, 1, 1, 1, 1, 1, 1, 1, 1, 1, 1, 1, 1, 1, 1, 1, 1, 1, 1, 1, 1, 1, 1, 1, 1, 1, 1, 1, 1, 1, 1, 1, 1, 1, 1, 1, 1, 1, 1, 1, 1, 1, 1, 1, 1, 1, 1, 1, 1, 1, 1, 1, 1, 1, 1, 1, 1, 1, 1, 1, 1, 1, 1, 1, 1, 1, 1, 1, 1, 1, 1, 1, 1, 1, 1, 1, 1, 1, 1, 1, 1, 1, 1, 1, 1, 1, 1, 1, 1, 1, 1, 1, 1, 1, 1, 1, 1, 1, 1, 1, 1, 1, 1, 1, 1, 1, 1, 1, 1, 1, 1, 1, 1, 1, 1, 1, 1, 1, 1, 1, 1, 1, 1, 1, 1, 1, 1, 1, 1, 1, 1, 1, 1, 1, 1, 1, 1, 1, 1, 1, 1, 1, 1, 1, 1, 1, 1, 1, 1, 1, 1, 1, 1, 1, 1, 1, 1, 1, 1, 1, 1, 1, 1, 1, 1, 1, 1, 1, 1, 1, 1, 1, 1, 1, 1, 1, 1, 1, 1, 1, 1, 1, 1, 1, 1, 1, 1, 1, 1, 1, 1, 1, 1, 1, 1, 1, 1, 1, 1, 1, 1, 1, 1, 1, 1, 1, 1, 1, 1, 1, 1, 1, 1, 1, 1, 1, 1, 1, 1, 1, 1, 1, 1, 1, 1, 1, 1, 1, 1, 1, 1, 1, 1, 1, 1, 1, 1, 1, 1, 1, 1, 1, 1, 1, 1, 1, 1, 1, 1, 1, 1, 1, 1, 1, 1, 1, 1, 1, 1, 1, 1, 1, 1, 1, 1, 1, 1, 1, 1, 1, 1, 1, 1, 1, 1, 1, 1, 1, 1, 1, 1, 1, 1, 1, 1, 1, 1, 1, 1, 1, 1, 1, 1, 1, 1, 1, 1, 1, 1, 1, 1, 1, 1, 1, 1, 1, 1, 1, 1, 1, 1, 1, 1, 1, 1, 1, 1, 1, 1, 1, 1, 1, 1, 1, 1, 1, 1, 1, 1, 1, 1, 1, 1, 1, 1], 'labels': [837, 290, 734, 1588, 16842, 13431, 547, 6589, 355, 636, 286, 262, 1218, 3800, 286, 607, 11315, 764, 383, 4074, 5952, 10256, 287, 24927, 9992, 1262, 262, 1468, 2679, 24927, 657, 2488, 12, 31, 352, 357, 409, 2488, 12, 31, 471, 2488, 12, 31, 13151, 1267, 764, 554, 1737, 35768, 837, 1081, 32810, 373, 18235, 351, 257, 8190, 2488, 12, 31, 2366, 2488, 12, 31, 604, 2488, 12, 31, 11111, 357, 678, 285, 1267, 25388, 2488, 12, 31, 1633, 6215, 48786, 319, 607, 11092, 293, 290, 7675, 5611, 281, 412, 17, 45, 16, 5994, 1315, 5417, 14382, 764, 2293, 5100, 17390, 837, 262, 48786, 373, 6928, 416, 530, 13232, 416, 2485, 45855, 764, 1550, 262, 11939, 286, 4856, 287, 35768, 837, 1081, 32810, 373, 4624, 287, 11515, 764, 220, 797, 31691, 355, 257, 9185, 4074, 319, 1467, 2932, 28684, 837, 1081, 32810, 373, 2077, 503, 286, 11515, 287, 3389, 837, 706, 262, 16556, 49341, 10290, 32731, 326, 2067, 262, 5498, 311, 2879, 2488, 12, 31, 4960, 1810, 837, 290, 373, 973, 355, 257, 4839, 284, 1956, 6553, 287, 281, 38255, 699, 9581, 379, 24300, 38536, 4696, 764, 39063, 673, 2540, 11315, 379, 509, 495, 837, 2869, 837, 656, 257, 9185, 4074, 2162, 428, 373, 5668, 319, 1248, 3426, 28017, 764, 1081, 32810, 373, 18235, 351, 257, 31548, 13510, 1388, 6555, 1674, 290, 46088, 284, 22464, 281, 1468, 10181, 1056, 706, 607, 10325, 287, 21865, 319, 2808, 3426, 764, 554, 1737, 24414, 673, 373, 9518, 284, 719, 355, 257, 39023, 43369, 4074, 290, 5281, 503, 34141, 1022, 2808, 1737, 290, 767, 3389, 16236, 764, 1375, 373, 11172, 284, 7298, 2596, 71, 4696, 837, 4141, 1423, 5374, 1437, 837, 319, 1315, 3389, 16236, 290, 1568, 18665, 262, 1367, 400, 7308, 11801, 422, 509, 495, 284, 7298, 2596, 71, 4696, 678, 3389, 784, 767, 3426, 23234, 764, 220, 3574, 1511, 2805, 22458, 837, 1081, 32810, 373, 25967, 379, 12551, 837, 290, 287, 3035, 607, 5462, 6157, 20097, 319, 262, 1657, 35239, 399, 8130, 837, 543, 550, 587, 39023, 276, 416, 262, 24927, 23116, 1001, 707, 4024, 572, 6786, 5451, 764, 2129, 433, 278, 12551, 329, 509, 495, 319, 2534, 1737, 837, 30037, 416, 262, 850, 354, 6005, 5870, 2488, 12, 31, 860, 837, 1081, 32810, 373, 6504, 276, 416, 262, 24927, 23116, 43956, 319, 262, 1755, 286, 1679, 1220, 2608, 1737, 22458, 837, 1802, 4608, 357, 13454, 10571, 1267, 26015, 286, 15725, 15744, 19173, 837, 1423, 5374, 1437, 764, 3226, 43956, 705, 82, 1440, 30892, 3028, 837, 734, 2277, 262, 4074, 287, 607, 2493, 4318, 36741, 2119, 290, 46088, 9029, 764, 1629, 5534, 1058, 7643, 837, 7188, 706, 852, 2277, 837, 1081, 32810, 30895, 379, 838, 22074, 3571, 564, 110, 399, 9796, 22074, 3571, 564, 110, 412, 13, 9699, 7821, 1450, 547, 2923, 287, 262, 1368, 2162, 262, 4074, 705, 82, 10654, 290, 642, 6469, 5462, 3653, 547, 19868, 416, 5870, 2488, 12, 31, 860, 764, 220, 796, 13614, 3596, 357, 383, 4452, 1267, 796, 220, 366, 13614, 3596, 366, 318, 262, 29112, 4471, 286, 262, 14024, 1622, 286, 262, 1605, 10997, 5581, 2168, 383]}\n"
     ]
    }
   ],
   "source": [
    "# Group texts into fixed-size blocks\n",
    "lm_datasets = tokenized_datasets.map(\n",
    "    group_texts,\n",
    "    batched=True,\n",
    "    num_proc=4 # Use multiple processes for faster grouping\n",
    ")\n",
    "\n",
    "# Split into training and validation sets\n",
    "# Use a DatasetDict to easily access train and validation splits by name\n",
    "split_datasets = lm_datasets[\"train\"].train_test_split(test_size=0.05, seed=42) # Smaller validation set is fine\n",
    "lm_datasets = DatasetDict({\n",
    "    \"train\": split_datasets[\"train\"],\n",
    "    \"validation\": split_datasets[\"test\"]\n",
    "})\n",
    "\n",
    "print(f\"Training dataset size: {len(lm_datasets['train'])}\")\n",
    "print(f\"Validation dataset size: {len(lm_datasets['validation'])}\")\n",
    "print(\"First example from training dataset:\", lm_datasets[\"train\"][0])\n"
   ]
  },
  {
   "cell_type": "code",
   "execution_count": 6,
   "metadata": {},
   "outputs": [
    {
     "name": "stdout",
     "output_type": "stream",
     "text": [
      "\n",
      "--- Step 3: Model Configuration ---\n"
     ]
    },
    {
     "name": "stderr",
     "output_type": "stream",
     "text": [
      "/home/dharun/Desktop/wikitext/lib/python3.12/site-packages/huggingface_hub/file_download.py:943: FutureWarning: `resume_download` is deprecated and will be removed in version 1.0.0. Downloads always resume when possible. If you want to force a new download, use `force_download=True`.\n",
      "  warnings.warn(\n"
     ]
    }
   ],
   "source": [
    "# --- 3. Model Configuration (with optimized dropout) ---\n",
    "print(\"\\n--- Step 3: Model Configuration ---\")\n",
    "# Load GPT-2 config\n",
    "config = GPT2Config.from_pretrained(\"gpt2\")\n",
    "\n",
    "# Adjust dropout for fine-tuning pre-trained models\n",
    "# Lowered from 0.3 to 0.1, as high dropout can hinder fine-tuning.\n",
    "config.attn_pdrop = 0.1     # Dropout in attention layers\n",
    "config.resid_pdrop = 0.1    # Dropout in residual connections\n",
    "config.embd_pdrop = 0.1     # Dropout in embedding layers\n"
   ]
  },
  {
   "cell_type": "code",
   "execution_count": 7,
   "metadata": {},
   "outputs": [
    {
     "name": "stdout",
     "output_type": "stream",
     "text": [
      "✅ GPT-2 model loaded with adjusted dropout rates.\n",
      "\n",
      "--- Step 4: Data Collator ---\n",
      "✅ DataCollatorForLanguageModeling configured.\n"
     ]
    }
   ],
   "source": [
    "# Load model with the modified config\n",
    "model = AutoModelForCausalLM.from_pretrained(\"gpt2\", config=config)\n",
    "print(\"✅ GPT-2 model loaded with adjusted dropout rates.\")\n",
    "\n",
    "# --- 4. Data Collator ---\n",
    "print(\"\\n--- Step 4: Data Collator ---\")\n",
    "# Data collator for causal language modeling (CLM)\n",
    "data_collator = DataCollatorForLanguageModeling(\n",
    "    tokenizer=tokenizer,\n",
    "    mlm=False  # Causal LM like GPT-2 does NOT use masked LM\n",
    ")\n",
    "print(\"✅ DataCollatorForLanguageModeling configured.\")\n"
   ]
  },
  {
   "cell_type": "code",
   "execution_count": 8,
   "metadata": {},
   "outputs": [
    {
     "name": "stdout",
     "output_type": "stream",
     "text": [
      "\n",
      "--- Step 5: Training Arguments Configuration ---\n",
      "✅ TrainingArguments configured.\n"
     ]
    }
   ],
   "source": [
    "# --- 5. Training Arguments ---\n",
    "print(\"\\n--- Step 5: Training Arguments Configuration ---\")\n",
    "# Define training arguments\n",
    "training_args = TrainingArguments(\n",
    "    output_dir=\"./gpt2-wikitext-fine-tuned\", # Dedicated output directory\n",
    "    save_strategy=\"epoch\",\n",
    "    evaluation_strategy=\"epoch\",\n",
    "    save_total_limit=2, # Keep only the last 2 best checkpoints\n",
    "    logging_dir=\"./gpt2-wikitext-fine-tuned/logs\",\n",
    "    logging_steps=50, # Log more frequently to monitor progress\n",
    "    per_device_train_batch_size=4, # Start with 4, increase if GPU allows\n",
    "    gradient_accumulation_steps=8, # Simulate a larger batch size (4 * 8 = 32 effective batch size)\n",
    "    num_train_epochs=15, # Increased epochs, but EarlyStopping will manage it\n",
    "    learning_rate=3e-5, # Good range for fine-tuning\n",
    "    weight_decay=0.01,\n",
    "    load_best_model_at_end=True, # Automatically load the best model (lowest eval_loss)\n",
    "    metric_for_best_model=\"eval_loss\",\n",
    "    max_grad_norm=1.0, # Gradient clipping for stability\n",
    "    lr_scheduler_type=\"cosine\", # Cosine annealing with warmup\n",
    "    warmup_steps=500, # Increased warmup steps\n",
    "    report_to=\"tensorboard\" # Integrate with TensorBoard for visualization\n",
    ")\n",
    "print(\"✅ TrainingArguments configured.\")"
   ]
  },
  {
   "cell_type": "code",
   "execution_count": 9,
   "metadata": {},
   "outputs": [
    {
     "name": "stdout",
     "output_type": "stream",
     "text": [
      "\n",
      "--- Step 6: Initializing Trainer ---\n",
      "✅ Trainer initialized with EarlyStoppingCallback.\n"
     ]
    }
   ],
   "source": [
    "# --- 6. Initialize Trainer (with Early Stopping) ---\n",
    "print(\"\\n--- Step 6: Initializing Trainer ---\")\n",
    "trainer = Trainer(\n",
    "    model=model,\n",
    "    args=training_args,\n",
    "    train_dataset=lm_datasets[\"train\"],\n",
    "    eval_dataset=lm_datasets[\"validation\"],\n",
    "    tokenizer=tokenizer,\n",
    "    data_collator=data_collator,\n",
    "    # Add EarlyStoppingCallback to stop training if validation loss doesn't improve\n",
    "    callbacks=[EarlyStoppingCallback(early_stopping_patience=3)] # Stop if no improvement for 3 eval epochs\n",
    ")\n",
    "print(\"✅ Trainer initialized with EarlyStoppingCallback.\")\n"
   ]
  },
  {
   "cell_type": "code",
   "execution_count": 10,
   "metadata": {},
   "outputs": [
    {
     "name": "stdout",
     "output_type": "stream",
     "text": [
      "\n",
      "--- Step 7: Starting Training ---\n"
     ]
    },
    {
     "data": {
      "application/vnd.jupyter.widget-view+json": {
       "model_id": "47e2dcf48542424c8b0936ab4731cb6b",
       "version_major": 2,
       "version_minor": 0
      },
      "text/plain": [
       "  0%|          | 0/2490 [00:00<?, ?it/s]"
      ]
     },
     "metadata": {},
     "output_type": "display_data"
    },
    {
     "name": "stdout",
     "output_type": "stream",
     "text": [
      "{'loss': 3.862, 'grad_norm': 4.302051544189453, 'learning_rate': 3e-06, 'epoch': 0.3}\n",
      "{'loss': 3.6753, 'grad_norm': 2.9008195400238037, 'learning_rate': 6e-06, 'epoch': 0.6}\n",
      "{'loss': 3.5308, 'grad_norm': 2.2389912605285645, 'learning_rate': 9e-06, 'epoch': 0.9}\n"
     ]
    },
    {
     "data": {
      "application/vnd.jupyter.widget-view+json": {
       "model_id": "14555a86e2104a158eb3f74f47bc225f",
       "version_major": 2,
       "version_minor": 0
      },
      "text/plain": [
       "  0%|          | 0/36 [00:00<?, ?it/s]"
      ]
     },
     "metadata": {},
     "output_type": "display_data"
    },
    {
     "name": "stdout",
     "output_type": "stream",
     "text": [
      "{'eval_loss': 3.2945032119750977, 'eval_runtime': 8.0844, 'eval_samples_per_second': 34.758, 'eval_steps_per_second': 4.453, 'epoch': 1.0}\n",
      "{'loss': 3.4659, 'grad_norm': 2.3160297870635986, 'learning_rate': 1.2e-05, 'epoch': 1.2}\n",
      "{'loss': 3.403, 'grad_norm': 2.1176047325134277, 'learning_rate': 1.5e-05, 'epoch': 1.5}\n",
      "{'loss': 3.3496, 'grad_norm': 2.2870118618011475, 'learning_rate': 1.8e-05, 'epoch': 1.8}\n"
     ]
    },
    {
     "data": {
      "application/vnd.jupyter.widget-view+json": {
       "model_id": "17b32ca10c1c4cec9c18c1074db6eb42",
       "version_major": 2,
       "version_minor": 0
      },
      "text/plain": [
       "  0%|          | 0/36 [00:00<?, ?it/s]"
      ]
     },
     "metadata": {},
     "output_type": "display_data"
    },
    {
     "name": "stdout",
     "output_type": "stream",
     "text": [
      "{'eval_loss': 3.1846091747283936, 'eval_runtime': 7.4392, 'eval_samples_per_second': 37.773, 'eval_steps_per_second': 4.839, 'epoch': 2.0}\n",
      "{'loss': 3.3094, 'grad_norm': 2.0442724227905273, 'learning_rate': 2.1e-05, 'epoch': 2.1}\n",
      "{'loss': 3.2998, 'grad_norm': 2.1923043727874756, 'learning_rate': 2.4e-05, 'epoch': 2.4}\n",
      "{'loss': 3.277, 'grad_norm': 2.2128913402557373, 'learning_rate': 2.7000000000000002e-05, 'epoch': 2.7}\n",
      "{'loss': 3.269, 'grad_norm': 1.9633338451385498, 'learning_rate': 3e-05, 'epoch': 3.0}\n"
     ]
    },
    {
     "data": {
      "application/vnd.jupyter.widget-view+json": {
       "model_id": "e8d6fb90e03e4d3eb543a02e73c70b99",
       "version_major": 2,
       "version_minor": 0
      },
      "text/plain": [
       "  0%|          | 0/36 [00:00<?, ?it/s]"
      ]
     },
     "metadata": {},
     "output_type": "display_data"
    },
    {
     "name": "stdout",
     "output_type": "stream",
     "text": [
      "{'eval_loss': 3.1423165798187256, 'eval_runtime': 7.5432, 'eval_samples_per_second': 37.252, 'eval_steps_per_second': 4.773, 'epoch': 3.0}\n",
      "{'loss': 3.2274, 'grad_norm': 2.088778018951416, 'learning_rate': 2.99532943567169e-05, 'epoch': 3.3}\n",
      "{'loss': 3.2121, 'grad_norm': 2.055589437484741, 'learning_rate': 2.981346828248286e-05, 'epoch': 3.6}\n",
      "{'loss': 3.2057, 'grad_norm': 2.0232508182525635, 'learning_rate': 2.9581392532863852e-05, 'epoch': 3.9}\n"
     ]
    },
    {
     "data": {
      "application/vnd.jupyter.widget-view+json": {
       "model_id": "a59fc4e29208491692fc54f75086ffb3",
       "version_major": 2,
       "version_minor": 0
      },
      "text/plain": [
       "  0%|          | 0/36 [00:00<?, ?it/s]"
      ]
     },
     "metadata": {},
     "output_type": "display_data"
    },
    {
     "name": "stdout",
     "output_type": "stream",
     "text": [
      "{'eval_loss': 3.1181800365448, 'eval_runtime': 7.556, 'eval_samples_per_second': 37.189, 'eval_steps_per_second': 4.764, 'epoch': 4.0}\n",
      "{'loss': 3.177, 'grad_norm': 1.8372331857681274, 'learning_rate': 2.9258512340816745e-05, 'epoch': 4.2}\n",
      "{'loss': 3.166, 'grad_norm': 1.9272501468658447, 'learning_rate': 2.8846838416617912e-05, 'epoch': 4.5}\n",
      "{'loss': 3.1568, 'grad_norm': 1.829816460609436, 'learning_rate': 2.8348934426327703e-05, 'epoch': 4.8}\n"
     ]
    },
    {
     "data": {
      "application/vnd.jupyter.widget-view+json": {
       "model_id": "24e07fefc5254bc49afa91ef4b27c0ad",
       "version_major": 2,
       "version_minor": 0
      },
      "text/plain": [
       "  0%|          | 0/36 [00:00<?, ?it/s]"
      ]
     },
     "metadata": {},
     "output_type": "display_data"
    },
    {
     "name": "stdout",
     "output_type": "stream",
     "text": [
      "{'eval_loss': 3.1009140014648438, 'eval_runtime': 7.5593, 'eval_samples_per_second': 37.173, 'eval_steps_per_second': 4.762, 'epoch': 5.0}\n",
      "{'loss': 3.1467, 'grad_norm': 1.8881245851516724, 'learning_rate': 2.7767901026767422e-05, 'epoch': 5.1}\n",
      "{'loss': 3.1135, 'grad_norm': 1.9252959489822388, 'learning_rate': 2.710735655642978e-05, 'epoch': 5.4}\n",
      "{'loss': 3.1184, 'grad_norm': 1.7532596588134766, 'learning_rate': 2.637141450256868e-05, 'epoch': 5.7}\n",
      "{'loss': 3.112, 'grad_norm': 1.8073619604110718, 'learning_rate': 2.5564657884790083e-05, 'epoch': 6.0}\n"
     ]
    },
    {
     "data": {
      "application/vnd.jupyter.widget-view+json": {
       "model_id": "74069d0057c54ad3bbe44ca060bf19ba",
       "version_major": 2,
       "version_minor": 0
      },
      "text/plain": [
       "  0%|          | 0/36 [00:00<?, ?it/s]"
      ]
     },
     "metadata": {},
     "output_type": "display_data"
    },
    {
     "name": "stdout",
     "output_type": "stream",
     "text": [
      "{'eval_loss': 3.089832067489624, 'eval_runtime': 7.608, 'eval_samples_per_second': 36.935, 'eval_steps_per_second': 4.732, 'epoch': 6.0}\n",
      "{'loss': 3.0753, 'grad_norm': 1.7612208127975464, 'learning_rate': 2.4692110714668146e-05, 'epoch': 6.3}\n",
      "{'loss': 3.0833, 'grad_norm': 1.8495168685913086, 'learning_rate': 2.3759206709119596e-05, 'epoch': 6.6}\n",
      "{'loss': 3.0813, 'grad_norm': 1.7634944915771484, 'learning_rate': 2.2771755452371164e-05, 'epoch': 6.9}\n"
     ]
    },
    {
     "data": {
      "application/vnd.jupyter.widget-view+json": {
       "model_id": "c4770585f02b43679562666346d4de5a",
       "version_major": 2,
       "version_minor": 0
      },
      "text/plain": [
       "  0%|          | 0/36 [00:00<?, ?it/s]"
      ]
     },
     "metadata": {},
     "output_type": "display_data"
    },
    {
     "name": "stdout",
     "output_type": "stream",
     "text": [
      "{'eval_loss': 3.0811989307403564, 'eval_runtime': 7.3012, 'eval_samples_per_second': 38.487, 'eval_steps_per_second': 4.931, 'epoch': 7.0}\n",
      "{'loss': 3.0604, 'grad_norm': 1.8316516876220703, 'learning_rate': 2.1735906217243805e-05, 'epoch': 7.2}\n",
      "{'loss': 3.0478, 'grad_norm': 1.7720528841018677, 'learning_rate': 2.0658109671053642e-05, 'epoch': 7.5}\n",
      "{'loss': 3.0439, 'grad_norm': 1.845810055732727, 'learning_rate': 1.954507770460309e-05, 'epoch': 7.8}\n"
     ]
    },
    {
     "data": {
      "application/vnd.jupyter.widget-view+json": {
       "model_id": "47f54e8351d94bb680dda29f36c52bf9",
       "version_major": 2,
       "version_minor": 0
      },
      "text/plain": [
       "  0%|          | 0/36 [00:00<?, ?it/s]"
      ]
     },
     "metadata": {},
     "output_type": "display_data"
    },
    {
     "name": "stdout",
     "output_type": "stream",
     "text": [
      "{'eval_loss': 3.075378179550171, 'eval_runtime': 7.4012, 'eval_samples_per_second': 37.967, 'eval_steps_per_second': 4.864, 'epoch': 8.0}\n",
      "{'loss': 3.0469, 'grad_norm': 1.7233290672302246, 'learning_rate': 1.8403741634423852e-05, 'epoch': 8.1}\n",
      "{'loss': 3.0172, 'grad_norm': 1.690677285194397, 'learning_rate': 1.7241209038563914e-05, 'epoch': 8.4}\n",
      "{'loss': 3.026, 'grad_norm': 1.8065249919891357, 'learning_rate': 1.606471949472024e-05, 'epoch': 8.7}\n",
      "{'loss': 3.0199, 'grad_norm': 1.776986002922058, 'learning_rate': 1.4881599496354304e-05, 'epoch': 9.0}\n"
     ]
    },
    {
     "data": {
      "application/vnd.jupyter.widget-view+json": {
       "model_id": "31d762d62d1a416089cadc2cada283d3",
       "version_major": 2,
       "version_minor": 0
      },
      "text/plain": [
       "  0%|          | 0/36 [00:00<?, ?it/s]"
      ]
     },
     "metadata": {},
     "output_type": "display_data"
    },
    {
     "name": "stdout",
     "output_type": "stream",
     "text": [
      "{'eval_loss': 3.071117401123047, 'eval_runtime': 7.4554, 'eval_samples_per_second': 37.691, 'eval_steps_per_second': 4.829, 'epoch': 9.0}\n",
      "{'loss': 3.0083, 'grad_norm': 1.7138186693191528, 'learning_rate': 1.369921682754674e-05, 'epoch': 9.3}\n",
      "{'loss': 3.0033, 'grad_norm': 1.7475553750991821, 'learning_rate': 1.2524934680718013e-05, 'epoch': 9.6}\n",
      "{'loss': 2.994, 'grad_norm': 1.7389147281646729, 'learning_rate': 1.1366065802943255e-05, 'epoch': 9.9}\n"
     ]
    },
    {
     "data": {
      "application/vnd.jupyter.widget-view+json": {
       "model_id": "3a9864099dba4b11b3bf70df07d83de9",
       "version_major": 2,
       "version_minor": 0
      },
      "text/plain": [
       "  0%|          | 0/36 [00:00<?, ?it/s]"
      ]
     },
     "metadata": {},
     "output_type": "display_data"
    },
    {
     "name": "stdout",
     "output_type": "stream",
     "text": [
      "{'eval_loss': 3.068293571472168, 'eval_runtime': 7.6427, 'eval_samples_per_second': 36.767, 'eval_steps_per_second': 4.71, 'epoch': 10.0}\n",
      "{'loss': 2.9863, 'grad_norm': 1.8167427778244019, 'learning_rate': 1.0229826956411427e-05, 'epoch': 10.19}\n",
      "{'loss': 2.9966, 'grad_norm': 1.77407705783844, 'learning_rate': 9.123293976622604e-06, 'epoch': 10.49}\n",
      "{'loss': 2.9859, 'grad_norm': 1.6968311071395874, 'learning_rate': 8.053357708194785e-06, 'epoch': 10.79}\n"
     ]
    },
    {
     "data": {
      "application/vnd.jupyter.widget-view+json": {
       "model_id": "eea2199238954ae8a0b8a8c7d937ab5c",
       "version_major": 2,
       "version_minor": 0
      },
      "text/plain": [
       "  0%|          | 0/36 [00:00<?, ?it/s]"
      ]
     },
     "metadata": {},
     "output_type": "display_data"
    },
    {
     "name": "stdout",
     "output_type": "stream",
     "text": [
      "{'eval_loss': 3.0665159225463867, 'eval_runtime': 8.7091, 'eval_samples_per_second': 32.265, 'eval_steps_per_second': 4.134, 'epoch': 11.0}\n",
      "{'loss': 2.9763, 'grad_norm': 1.6983251571655273, 'learning_rate': 7.026681092686481e-06, 'epoch': 11.09}\n",
      "{'loss': 2.9784, 'grad_norm': 1.823476791381836, 'learning_rate': 6.049657675667161e-06, 'epoch': 11.39}\n",
      "{'loss': 2.9768, 'grad_norm': 1.8553179502487183, 'learning_rate': 5.128371791429436e-06, 'epoch': 11.69}\n",
      "{'loss': 2.9718, 'grad_norm': 1.6653168201446533, 'learning_rate': 4.268560673289432e-06, 'epoch': 11.99}\n"
     ]
    },
    {
     "data": {
      "application/vnd.jupyter.widget-view+json": {
       "model_id": "d99450238d7e45a0ad1d64e1798d0883",
       "version_major": 2,
       "version_minor": 0
      },
      "text/plain": [
       "  0%|          | 0/36 [00:00<?, ?it/s]"
      ]
     },
     "metadata": {},
     "output_type": "display_data"
    },
    {
     "name": "stdout",
     "output_type": "stream",
     "text": [
      "{'eval_loss': 3.065931797027588, 'eval_runtime': 7.4399, 'eval_samples_per_second': 37.769, 'eval_steps_per_second': 4.839, 'epoch': 12.0}\n",
      "{'loss': 2.9837, 'grad_norm': 1.7383430004119873, 'learning_rate': 3.47557872543044e-06, 'epoch': 12.29}\n",
      "{'loss': 2.9578, 'grad_norm': 1.769993543624878, 'learning_rate': 2.7543641787840142e-06, 'epoch': 12.59}\n",
      "{'loss': 2.9627, 'grad_norm': 1.767242670059204, 'learning_rate': 2.10940833859632e-06, 'epoch': 12.89}\n"
     ]
    },
    {
     "data": {
      "application/vnd.jupyter.widget-view+json": {
       "model_id": "2b029ba9088d4224a773b1eebb2c26f9",
       "version_major": 2,
       "version_minor": 0
      },
      "text/plain": [
       "  0%|          | 0/36 [00:00<?, ?it/s]"
      ]
     },
     "metadata": {},
     "output_type": "display_data"
    },
    {
     "name": "stdout",
     "output_type": "stream",
     "text": [
      "{'eval_loss': 3.0658957958221436, 'eval_runtime': 6.8499, 'eval_samples_per_second': 41.023, 'eval_steps_per_second': 5.256, 'epoch': 13.0}\n",
      "{'loss': 2.9549, 'grad_norm': 1.7726629972457886, 'learning_rate': 1.5447276151880474e-06, 'epoch': 13.19}\n",
      "{'loss': 2.9583, 'grad_norm': 1.773561716079712, 'learning_rate': 1.0638385120840416e-06, 'epoch': 13.49}\n",
      "{'loss': 2.9739, 'grad_norm': 1.6700763702392578, 'learning_rate': 6.697357272720783e-07, 'epoch': 13.79}\n"
     ]
    },
    {
     "data": {
      "application/vnd.jupyter.widget-view+json": {
       "model_id": "ae25841857e147a5820422da8502f650",
       "version_major": 2,
       "version_minor": 0
      },
      "text/plain": [
       "  0%|          | 0/36 [00:00<?, ?it/s]"
      ]
     },
     "metadata": {},
     "output_type": "display_data"
    },
    {
     "name": "stdout",
     "output_type": "stream",
     "text": [
      "{'eval_loss': 3.065166473388672, 'eval_runtime': 7.3851, 'eval_samples_per_second': 38.05, 'eval_steps_per_second': 4.875, 'epoch': 14.0}\n",
      "{'loss': 2.9773, 'grad_norm': 1.7685621976852417, 'learning_rate': 3.64873503963396e-07, 'epoch': 14.09}\n",
      "{'loss': 2.9524, 'grad_norm': 1.8922970294952393, 'learning_rate': 1.511503469916431e-07, 'epoch': 14.39}\n",
      "{'loss': 2.9584, 'grad_norm': 1.7548623085021973, 'learning_rate': 2.989720002759877e-08, 'epoch': 14.69}\n"
     ]
    },
    {
     "data": {
      "application/vnd.jupyter.widget-view+json": {
       "model_id": "792e758d35e044bbb9785a62425607c7",
       "version_major": 2,
       "version_minor": 0
      },
      "text/plain": [
       "  0%|          | 0/36 [00:00<?, ?it/s]"
      ]
     },
     "metadata": {},
     "output_type": "display_data"
    },
    {
     "name": "stdout",
     "output_type": "stream",
     "text": [
      "{'eval_loss': 3.065197706222534, 'eval_runtime': 7.4688, 'eval_samples_per_second': 37.623, 'eval_steps_per_second': 4.82, 'epoch': 14.93}\n"
     ]
    },
    {
     "name": "stderr",
     "output_type": "stream",
     "text": [
      "There were missing keys in the checkpoint model loaded: ['lm_head.weight'].\n"
     ]
    },
    {
     "name": "stdout",
     "output_type": "stream",
     "text": [
      "{'train_runtime': 6299.3692, 'train_samples_per_second': 12.706, 'train_steps_per_second': 0.395, 'train_loss': 3.1227745546394563, 'epoch': 14.93}\n",
      "✅ Training complete.\n"
     ]
    }
   ],
   "source": [
    "# --- 7. Train Model ---\n",
    "print(\"\\n--- Step 7: Starting Training ---\")\n",
    "trainer.train()\n",
    "print(\"✅ Training complete.\")\n"
   ]
  },
  {
   "cell_type": "code",
   "execution_count": 11,
   "metadata": {},
   "outputs": [
    {
     "name": "stdout",
     "output_type": "stream",
     "text": [
      "\n",
      "--- Step 8: Saving the Best Model ---\n",
      "✅ Best fine-tuned model and tokenizer saved to: ./gpt2-wikitext-best-model\n"
     ]
    }
   ],
   "source": [
    "# --- 8. Save the Best Model ---\n",
    "print(\"\\n--- Step 8: Saving the Best Model ---\")\n",
    "# The best model is automatically loaded into trainer.model because of load_best_model_at_end=True\n",
    "best_model_save_path = \"./gpt2-wikitext-best-model\"\n",
    "trainer.save_model(best_model_save_path)\n",
    "tokenizer.save_pretrained(best_model_save_path)\n",
    "print(f\"✅ Best fine-tuned model and tokenizer saved to: {best_model_save_path}\")"
   ]
  },
  {
   "cell_type": "code",
   "execution_count": 12,
   "metadata": {},
   "outputs": [
    {
     "name": "stdout",
     "output_type": "stream",
     "text": [
      "\n",
      "--- Step 9: Final Perplexity Evaluation ---\n"
     ]
    },
    {
     "data": {
      "application/vnd.jupyter.widget-view+json": {
       "model_id": "4bfbd52715044eda8d5d9e65b3e4528f",
       "version_major": 2,
       "version_minor": 0
      },
      "text/plain": [
       "  0%|          | 0/36 [00:00<?, ?it/s]"
      ]
     },
     "metadata": {},
     "output_type": "display_data"
    },
    {
     "name": "stdout",
     "output_type": "stream",
     "text": [
      "Final Validation Perplexity after fine-tuning: 21.4380\n",
      "✅ Evaluation complete.\n"
     ]
    }
   ],
   "source": [
    "# --- 9. Evaluate Final Perplexity on Validation Set ---\n",
    "print(\"\\n--- Step 9: Final Perplexity Evaluation ---\")\n",
    "eval_results = trainer.evaluate()\n",
    "perplexity = math.exp(eval_results[\"eval_loss\"])\n",
    "print(f\"Final Validation Perplexity after fine-tuning: {perplexity:.4f}\")\n",
    "print(\"✅ Evaluation complete.\")\n"
   ]
  },
  {
   "cell_type": "code",
   "execution_count": 13,
   "metadata": {},
   "outputs": [
    {
     "name": "stdout",
     "output_type": "stream",
     "text": [
      "\n",
      "--- Step 10: Testing Next Word Prediction ---\n",
      "\n",
      "Prompt: The history of India begins with the Indus Valley Civilization, which\n",
      "Top predicted next words:\n",
      "1. 'was' (probability: 0.1805)\n",
      "2. 'flourished' (probability: 0.1413)\n",
      "3. 'began' (probability: 0.0764)\n",
      "4. 'is' (probability: 0.0565)\n",
      "5. 'started' (probability: 0.0271)\n",
      "\n",
      "--- Project Execution Complete ---\n"
     ]
    }
   ],
   "source": [
    "\n",
    "# --- 10. Test Next Word Prediction ---\n",
    "print(\"\\n--- Step 10: Testing Next Word Prediction ---\")\n",
    "# Load the best fine-tuned model and tokenizer for inference\n",
    "loaded_tokenizer = AutoTokenizer.from_pretrained(best_model_save_path)\n",
    "loaded_model = AutoModelForCausalLM.from_pretrained(best_model_save_path)\n",
    "loaded_model.eval() # Set model to evaluation mode\n",
    " #Input prompt\n",
    "prompt = \"The history of India begins with the Indus Valley Civilization, which\"\n",
    "inputs = loaded_tokenizer(prompt, return_tensors=\"pt\")\n",
    "\n",
    "# Move inputs to the same device as the model (e.g., GPU if available)\n",
    "device = torch.device(\"cuda\" if torch.cuda.is_available() else \"cpu\")\n",
    "loaded_model.to(device)\n",
    "inputs = {k: v.to(device) for k, v in inputs.items()}\n",
    "\n",
    "# Generate text (you can use generate() for more control, but direct logits for next token is fine)\n",
    "with torch.no_grad():\n",
    "    outputs = loaded_model(**inputs)\n",
    "    logits = outputs.logits\n",
    "\n",
    "# Get the logits for the last token\n",
    "next_token_logits = logits[0, -1, :]\n",
    "\n",
    "# Apply softmax to get probabilities\n",
    "probs = torch.softmax(next_token_logits, dim=-1)\n",
    "\n",
    "# Get the top 5 predicted next words\n",
    "top_k = 5\n",
    "top_k_probs, top_k_indices = torch.topk(probs, top_k)\n",
    "\n",
    "# Decode the predicted tokens\n",
    "predicted_words = [loaded_tokenizer.decode([idx.item()]) for idx in top_k_indices]\n",
    "\n",
    "# Display predictions\n",
    "print(f\"\\nPrompt: {prompt}\")\n",
    "print(\"Top predicted next words:\")\n",
    "for i, (word, prob) in enumerate(zip(predicted_words, top_k_probs)):\n",
    "    print(f\"{i+1}. '{word.strip()}' (probability: {prob.item():.4f})\")\n",
    "\n",
    "print(\"\\n--- Project Execution Complete ---\")\n"
   ]
  },
  {
   "cell_type": "code",
   "execution_count": 14,
   "metadata": {},
   "outputs": [
    {
     "name": "stderr",
     "output_type": "stream",
     "text": [
      "/tmp/ipykernel_9403/43764918.py:16: FutureWarning: \n",
      "\n",
      "Passing `palette` without assigning `hue` is deprecated and will be removed in v0.14.0. Assign the `x` variable to `hue` and set `legend=False` for the same effect.\n",
      "\n",
      "  sns.barplot(x=models, y=losses, ax=axes[0], palette='Blues_d')\n",
      "/tmp/ipykernel_9403/43764918.py:21: FutureWarning: \n",
      "\n",
      "Passing `palette` without assigning `hue` is deprecated and will be removed in v0.14.0. Assign the `x` variable to `hue` and set `legend=False` for the same effect.\n",
      "\n",
      "  sns.barplot(x=models, y=perplexities, ax=axes[1], palette='Greens_d')\n"
     ]
    },
    {
     "data": {
      "image/png": "[encoded data removed]",
      "text/plain": [
       "<Figure size 1200x500 with 2 Axes>"
      ]
     },
     "metadata": {},
     "output_type": "display_data"
    }
   ],
   "source": [
    "import matplotlib.pyplot as plt\n",
    "import seaborn as sns\n",
    "\n",
    "# Metrics from your models\n",
    "models = ['LSTM', 'Transformer']\n",
    "losses = [4.5, 3.065]\n",
    "perplexities = [90, 21.4380]\n",
    "\n",
    "# Set style\n",
    "sns.set(style=\"whitegrid\")\n",
    "\n",
    "# Create subplots\n",
    "fig, axes = plt.subplots(1, 2, figsize=(12, 5))\n",
    "\n",
    "# Loss comparison\n",
    "sns.barplot(x=models, y=losses, ax=axes[0], palette='Blues_d')\n",
    "axes[0].set_title('Loss Comparison')\n",
    "axes[0].set_ylabel('Loss')\n",
    "\n",
    "# Perplexity comparison\n",
    "sns.barplot(x=models, y=perplexities, ax=axes[1], palette='Greens_d')\n",
    "axes[1].set_title('Perplexity Comparison')\n",
    "axes[1].set_ylabel('Perplexity')\n",
    "\n",
    "plt.suptitle('LSTM vs Transformer Model Comparison', fontsize=16)\n",
    "plt.tight_layout()\n",
    "plt.show()\n"
   ]
  },
  {
   "cell_type": "code",
   "execution_count": 15,
   "metadata": {},
   "outputs": [
    {
     "data": {
      "text/markdown": [
       "\n",
       "###  Model Summary\n",
       "\n",
       "| Feature            | LSTM                     | Transformer (GPT-2)          |\n",
       "|--------------------|--------------------------|-------------------------------|\n",
       "| Sequence Handling  | Sequential (one-step)    | Global (self-attention)       |\n",
       "| Training Time      | Longer                   | Faster with pre-trained model |\n",
       "| Output Quality     | Short, less coherent     | Long, context-aware           |\n",
       "| Perplexity         | 90                     | 21.4380                        |\n"
      ],
      "text/plain": [
       "<IPython.core.display.Markdown object>"
      ]
     },
     "metadata": {},
     "output_type": "display_data"
    }
   ],
   "source": [
    "from IPython.display import Markdown, display\n",
    "\n",
    "display(Markdown(\"\"\"\n",
    "###  Model Summary\n",
    "\n",
    "| Feature            | LSTM                     | Transformer (GPT-2)          |\n",
    "|--------------------|--------------------------|-------------------------------|\n",
    "| Sequence Handling  | Sequential (one-step)    | Global (self-attention)       |\n",
    "| Training Time      | Longer                   | Faster with pre-trained model |\n",
    "| Output Quality     | Short, less coherent     | Long, context-aware           |\n",
    "| Perplexity         | 90                     | 21.4380                        |\n",
    "\"\"\"))\n"
   ]
  }
 ],
 "metadata": {
  "kernelspec": {
   "display_name": "wikitext",
   "language": "python",
   "name": "python3"
  },
  "language_info": {
   "codemirror_mode": {
    "name": "ipython",
    "version": 3
   },
   "file_extension": ".py",
   "mimetype": "text/x-python",
   "name": "python",
   "nbconvert_exporter": "python",
   "pygments_lexer": "ipython3",
   "version": "3.12.3"
  }
 },
 "nbformat": 4,
 "nbformat_minor": 2
}
